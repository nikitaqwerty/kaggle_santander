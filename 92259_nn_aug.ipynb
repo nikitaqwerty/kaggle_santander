{
 "cells": [
  {
   "cell_type": "code",
   "execution_count": 1,
   "metadata": {},
   "outputs": [],
   "source": [
    "%matplotlib inline\n",
    "from matplotlib import pyplot as plt\n",
    "import pandas as pd\n",
    "import numpy as np\n",
    "from tqdm import tqdm_notebook as tqdm\n",
    "from sklearn.preprocessing import scale\n",
    "from sklearn.metrics import roc_auc_score\n",
    "from torch.optim import Adam\n",
    "from torch.optim.lr_scheduler import MultiStepLR,ReduceLROnPlateau\n",
    "from torch.nn.modules.loss import BCEWithLogitsLoss, BCELoss\n",
    "import torch\n",
    "from torch.utils.data import TensorDataset, Dataset, DataLoader\n",
    "import random"
   ]
  },
  {
   "cell_type": "code",
   "execution_count": 2,
   "metadata": {},
   "outputs": [],
   "source": [
    "train_df = pd.read_csv('train.csv')"
   ]
  },
  {
   "cell_type": "code",
   "execution_count": 3,
   "metadata": {},
   "outputs": [],
   "source": [
    "label = train_df.target\n",
    "\n",
    "train = train_df.drop(['ID_code','target'],axis=1)"
   ]
  },
  {
   "cell_type": "code",
   "execution_count": 4,
   "metadata": {},
   "outputs": [],
   "source": [
    "test = pd.read_csv('test.csv')"
   ]
  },
  {
   "cell_type": "code",
   "execution_count": 5,
   "metadata": {},
   "outputs": [],
   "source": [
    "test_filtered = pd.read_pickle('test_filtred.pkl')"
   ]
  },
  {
   "cell_type": "code",
   "execution_count": 6,
   "metadata": {},
   "outputs": [],
   "source": [
    "test_filtered = test_filtered.loc[:,train.columns]"
   ]
  },
  {
   "cell_type": "code",
   "execution_count": null,
   "metadata": {},
   "outputs": [],
   "source": []
  },
  {
   "cell_type": "code",
   "execution_count": 7,
   "metadata": {},
   "outputs": [],
   "source": [
    "test = test.drop(['ID_code'],axis=1)"
   ]
  },
  {
   "cell_type": "code",
   "execution_count": 8,
   "metadata": {},
   "outputs": [],
   "source": [
    "train_test = pd.concat([train,test_filtered]).reset_index(drop=True)"
   ]
  },
  {
   "cell_type": "code",
   "execution_count": 9,
   "metadata": {},
   "outputs": [
    {
     "data": {
      "application/vnd.jupyter.widget-view+json": {
       "model_id": "98dc8d30a3864197b8901e38c8328e38",
       "version_major": 2,
       "version_minor": 0
      },
      "text/plain": [
       "HBox(children=(IntProgress(value=0, max=200), HTML(value='')))"
      ]
     },
     "metadata": {},
     "output_type": "display_data"
    },
    {
     "name": "stdout",
     "output_type": "stream",
     "text": [
      "\n"
     ]
    }
   ],
   "source": [
    "vcs_train_test = {}\n",
    "vcs_target_1 = {}\n",
    "vcs_target_0 = {}\n",
    "\n",
    "for col in tqdm(train.columns):\n",
    "#     vcs_target_1[col] = train[label == 1].loc[:,col].value_counts()/len(label[label == 1])\n",
    "#     vcs_target_0[col] = train[label == 0].loc[:,col].value_counts()/len(label[label == 0])    \n",
    "    vcs_train_test[col] = train_test.loc[:,col].value_counts()/300000"
   ]
  },
  {
   "cell_type": "code",
   "execution_count": 10,
   "metadata": {},
   "outputs": [],
   "source": [
    "cols = train.columns"
   ]
  },
  {
   "cell_type": "code",
   "execution_count": null,
   "metadata": {},
   "outputs": [],
   "source": []
  },
  {
   "cell_type": "code",
   "execution_count": 11,
   "metadata": {},
   "outputs": [],
   "source": [
    "class UpsamplingPreprocessor():\n",
    "    def __init__(self):\n",
    "        self.times = 10\n",
    "        self.neg_class_balancer = 2\n",
    "\n",
    "    # Data augmentation\n",
    "    def augment_class(self, X):\n",
    "        X_new = X.copy()\n",
    "        ids = np.arange(X.shape[0])\n",
    "\n",
    "        for c in range(X.shape[1]):\n",
    "            np.random.shuffle(ids)\n",
    "            X_new[:,c] = X[ids][:,c]\n",
    "\n",
    "        return X_new\n",
    "\n",
    "    def augment(self, X, y, t=2):\n",
    "        np.random.seed(42)\n",
    "\n",
    "        t_pos = t\n",
    "        t_neg = t // self.neg_class_balancer\n",
    "\n",
    "        X_pos_orig = X[y == 1]\n",
    "        X_neg_orig = X[y == 0]\n",
    "        X_pos = np.zeros((t_pos, *X_pos_orig.shape), dtype=X.dtype)\n",
    "        X_neg = np.zeros((t_neg, *X_neg_orig.shape), dtype=X.dtype)\n",
    "\n",
    "        for i in tqdm(range(t_pos)):\n",
    "            X_pos[i] = self.augment_class(X_pos_orig)\n",
    "\n",
    "        for i in tqdm(range(t_neg)):\n",
    "            X_neg[i] = self.augment_class(X_neg_orig)\n",
    "\n",
    "        X_pos = np.vstack(X_pos)\n",
    "        X_neg = np.vstack(X_neg)\n",
    "        y_pos = np.ones(X_pos.shape[0])\n",
    "        y_neg = np.zeros(X_neg.shape[0])\n",
    "        X = np.vstack((X, X_pos, X_neg))\n",
    "        y = np.concatenate((y, y_pos, y_neg))\n",
    "\n",
    "        return X, y\n",
    "\n",
    "    def fit_transform(self, X, y=None):\n",
    "        var_cols = ['var_{}'.format(x) for x in range(200)]\n",
    "        X_augmented, y = self.augment(X.values, y, t=self.times)\n",
    "        return pd.DataFrame(X_augmented, columns=var_cols), y\n",
    "\n",
    "    def transform(self, X):\n",
    "        return X\n",
    "ups = UpsamplingPreprocessor()"
   ]
  },
  {
   "cell_type": "code",
   "execution_count": 12,
   "metadata": {},
   "outputs": [],
   "source": [
    "# train,label = ups.fit_transform(train,label)"
   ]
  },
  {
   "cell_type": "code",
   "execution_count": 13,
   "metadata": {},
   "outputs": [
    {
     "data": {
      "text/plain": [
       "(200000, 200)"
      ]
     },
     "execution_count": 13,
     "metadata": {},
     "output_type": "execute_result"
    }
   ],
   "source": [
    "train.shape"
   ]
  },
  {
   "cell_type": "code",
   "execution_count": 14,
   "metadata": {},
   "outputs": [
    {
     "data": {
      "application/vnd.jupyter.widget-view+json": {
       "model_id": "d0c9e5265492453497f952447d91855b",
       "version_major": 2,
       "version_minor": 0
      },
      "text/plain": [
       "HBox(children=(IntProgress(value=0, max=200), HTML(value='')))"
      ]
     },
     "metadata": {},
     "output_type": "display_data"
    },
    {
     "name": "stdout",
     "output_type": "stream",
     "text": [
      "\n"
     ]
    }
   ],
   "source": [
    "def generate_features(df):\n",
    "    for col in tqdm(cols):\n",
    "        vtraintest = vcs_train_test[col]\n",
    "        t = vtraintest[df[col]].fillna(0).values\n",
    "        \n",
    "#         df[col+'_train_test_sum_vcs'] = t        \n",
    "#         df[col+'_train_test_sum_vcs_product'] = df[col]*t\n",
    "        df[col+'_1_flag'] = (t == 1/300000).astype(int)\n",
    "        \n",
    "# generate_features(train)    \n",
    "generate_features(test)    "
   ]
  },
  {
   "cell_type": "code",
   "execution_count": null,
   "metadata": {},
   "outputs": [],
   "source": []
  },
  {
   "cell_type": "code",
   "execution_count": 15,
   "metadata": {},
   "outputs": [],
   "source": [
    "random_seed = 42\n",
    "\n",
    "np.random.seed(random_seed)\n",
    "random.seed(random_seed)\n",
    "torch.manual_seed(random_seed)\n",
    "torch.cuda.manual_seed(random_seed)"
   ]
  },
  {
   "cell_type": "code",
   "execution_count": 16,
   "metadata": {},
   "outputs": [],
   "source": [
    "from sklearn.preprocessing import StandardScaler\n",
    "from sklearn.metrics import roc_auc_score\n",
    "from sklearn.model_selection import StratifiedKFold\n",
    "import warnings\n"
   ]
  },
  {
   "cell_type": "code",
   "execution_count": null,
   "metadata": {},
   "outputs": [],
   "source": []
  },
  {
   "cell_type": "code",
   "execution_count": null,
   "metadata": {},
   "outputs": [],
   "source": []
  },
  {
   "cell_type": "code",
   "execution_count": 17,
   "metadata": {},
   "outputs": [],
   "source": [
    "gpu = torch.device('cuda:3')\n",
    "cpu = torch.device('cpu')\n"
   ]
  },
  {
   "cell_type": "code",
   "execution_count": 26,
   "metadata": {},
   "outputs": [],
   "source": [
    "class NN(torch.nn.Module):\n",
    "    random_seed = 42\n",
    "\n",
    "\n",
    "    def __init__(self, D_in=5, features = 200):\n",
    "        np.random.seed(random_seed)\n",
    "        random.seed(random_seed)\n",
    "        torch.manual_seed(random_seed)\n",
    "        torch.cuda.manual_seed(random_seed)\n",
    "        \n",
    "        super(NN, self).__init__()\n",
    "        self.layer = []\n",
    "        layer_size = D_in\n",
    "        enc_out = 30\n",
    "        for i in range(features):\n",
    "            \n",
    "            layer = torch.nn.Sequential(torch.nn.Linear(layer_size, enc_out//2),\n",
    "                                       torch.nn.Linear(enc_out//2, enc_out),\n",
    "                                       torch.nn.ReLU()\n",
    "                                       )\n",
    "            setattr(self, 'layer_' + str(i), layer)\n",
    "        \n",
    "\n",
    "        self.linear3 = torch.nn.Linear(features*enc_out,1)        \n",
    "\n",
    "    def forward(self, y):\n",
    "        res = []\n",
    "        for i in range(200):\n",
    "            layer = getattr(self, 'layer_' + str(i))\n",
    "            res.append(layer(y[:,i,:]) )\n",
    "        y = torch.cat(res,1)\n",
    "        y = self.linear3(y)\n",
    "        return y\n",
    "    \n",
    "\n",
    "def batch_iter(X, y, batch_size=64):\n",
    "    \"\"\"\n",
    "    X: feature tensor (shape: num_instances x num_features)\n",
    "    y: target tensor (shape: num_instances)\n",
    "    \"\"\"\n",
    "    idxs = torch.randperm(X.size(0))\n",
    "    if X.is_cuda:\n",
    "        idxs = idxs.cuda()\n",
    "    for batch_idxs in idxs.split(batch_size):\n",
    "        yield X[batch_idxs], y[batch_idxs]\n",
    "\n",
    "loss_f = BCEWithLogitsLoss()\n",
    "\n",
    "batch_size = 16384"
   ]
  },
  {
   "cell_type": "code",
   "execution_count": null,
   "metadata": {},
   "outputs": [],
   "source": []
  },
  {
   "cell_type": "code",
   "execution_count": 27,
   "metadata": {},
   "outputs": [
    {
     "name": "stdout",
     "output_type": "stream",
     "text": [
      "Fold 0\n"
     ]
    },
    {
     "data": {
      "application/vnd.jupyter.widget-view+json": {
       "model_id": "dea58472c9b64b38a32b80bebabedd17",
       "version_major": 2,
       "version_minor": 0
      },
      "text/plain": [
       "HBox(children=(IntProgress(value=0, max=10), HTML(value='')))"
      ]
     },
     "metadata": {},
     "output_type": "display_data"
    },
    {
     "data": {
      "application/vnd.jupyter.widget-view+json": {
       "model_id": "997498b0545b43299f8230d19fdef026",
       "version_major": 2,
       "version_minor": 0
      },
      "text/plain": [
       "HBox(children=(IntProgress(value=0, max=5), HTML(value='')))"
      ]
     },
     "metadata": {},
     "output_type": "display_data"
    },
    {
     "data": {
      "application/vnd.jupyter.widget-view+json": {
       "model_id": "0473cf384d6448818b9c3f5ec0c66a35",
       "version_major": 2,
       "version_minor": 0
      },
      "text/plain": [
       "HBox(children=(IntProgress(value=0, max=200), HTML(value='')))"
      ]
     },
     "metadata": {},
     "output_type": "display_data"
    },
    {
     "data": {
      "application/vnd.jupyter.widget-view+json": {
       "model_id": "177ede48a0b44aaabe45f93e26487704",
       "version_major": 2,
       "version_minor": 0
      },
      "text/plain": [
       "HBox(children=(IntProgress(value=0, max=200), HTML(value='')))"
      ]
     },
     "metadata": {},
     "output_type": "display_data"
    },
    {
     "data": {
      "application/vnd.jupyter.widget-view+json": {
       "model_id": "a2a886ea9acc4304a4580f85cf47e3ac",
       "version_major": 2,
       "version_minor": 0
      },
      "text/plain": [
       "HBox(children=(IntProgress(value=0, max=200), HTML(value='')))"
      ]
     },
     "metadata": {},
     "output_type": "display_data"
    },
    {
     "name": "stdout",
     "output_type": "stream",
     "text": [
      "EPOCH 0\n",
      "LOSS:  tensor(0.2413)\n",
      "AUC:  0.8777310191766494\n",
      "==================================================\n",
      "EPOCH 1\n",
      "LOSS:  tensor(0.2070)\n",
      "AUC:  0.9041280839071921\n",
      "==================================================\n",
      "EPOCH 2\n",
      "LOSS:  tensor(0.1956)\n",
      "AUC:  0.911540346542765\n",
      "==================================================\n",
      "EPOCH 3\n",
      "LOSS:  tensor(0.1984)\n",
      "AUC:  0.9145464729104539\n",
      "==================================================\n",
      "EPOCH 4\n",
      "LOSS:  tensor(0.1926)\n",
      "AUC:  0.9158600738836598\n",
      "==================================================\n",
      "EPOCH 5\n",
      "LOSS:  tensor(0.1880)\n",
      "AUC:  0.9172077897386695\n",
      "==================================================\n",
      "EPOCH 6\n",
      "LOSS:  tensor(0.1931)\n",
      "AUC:  0.9183467684229696\n",
      "==================================================\n",
      "EPOCH 7\n",
      "LOSS:  tensor(0.1899)\n",
      "AUC:  0.9186104129584147\n",
      "==================================================\n",
      "EPOCH 8\n",
      "LOSS:  tensor(0.1863)\n",
      "AUC:  0.9193599690052006\n",
      "==================================================\n",
      "EPOCH 9\n",
      "LOSS:  tensor(0.1879)\n",
      "AUC:  0.9192077811658751\n",
      "SCORE IS NOT THE BEST. Early stop counter: 1\n",
      "==================================================\n",
      "EPOCH 10\n",
      "LOSS:  tensor(0.2013)\n",
      "AUC:  0.9198348084761706\n",
      "==================================================\n",
      "EPOCH 11\n",
      "LOSS:  tensor(0.1847)\n",
      "AUC:  0.9200567228613332\n",
      "==================================================\n",
      "EPOCH 12\n",
      "LOSS:  tensor(0.2144)\n",
      "AUC:  0.9198716853187164\n",
      "SCORE IS NOT THE BEST. Early stop counter: 1\n",
      "==================================================\n",
      "EPOCH 13\n",
      "LOSS:  tensor(0.1917)\n",
      "AUC:  0.9199267620652746\n",
      "SCORE IS NOT THE BEST. Early stop counter: 2\n",
      "==================================================\n",
      "EPOCH 14\n",
      "LOSS:  tensor(0.1946)\n",
      "AUC:  0.9198569663839995\n",
      "SCORE IS NOT THE BEST. Early stop counter: 3\n",
      "==================================================\n",
      "EPOCH 15\n",
      "LOSS:  tensor(0.1819)\n",
      "AUC:  0.9198648996754921\n",
      "SCORE IS NOT THE BEST. Early stop counter: 4\n",
      "==================================================\n",
      "EPOCH 16\n",
      "LOSS:  tensor(0.1930)\n",
      "AUC:  0.9201478744793582\n",
      "Epoch    16: reducing learning rate of group 0 to 2.5000e-03.\n",
      "==================================================\n",
      "EPOCH 17\n",
      "LOSS:  tensor(0.1898)\n",
      "AUC:  0.9204560111258278\n",
      "==================================================\n",
      "EPOCH 18\n",
      "LOSS:  tensor(0.1873)\n",
      "AUC:  0.9209035420988496\n",
      "==================================================\n",
      "EPOCH 19\n",
      "LOSS:  tensor(0.1859)\n",
      "AUC:  0.9206714613475521\n",
      "SCORE IS NOT THE BEST. Early stop counter: 1\n",
      "==================================================\n",
      "EPOCH 20\n",
      "LOSS:  tensor(0.1856)\n",
      "AUC:  0.9206844276989196\n",
      "SCORE IS NOT THE BEST. Early stop counter: 2\n",
      "==================================================\n",
      "EPOCH 21\n",
      "LOSS:  tensor(0.1885)\n",
      "AUC:  0.9204858880052919\n",
      "SCORE IS NOT THE BEST. Early stop counter: 3\n",
      "==================================================\n",
      "EPOCH 22\n",
      "LOSS:  tensor(0.1874)\n",
      "AUC:  0.9212193458653759\n",
      "==================================================\n",
      "EPOCH 23\n",
      "LOSS:  tensor(0.1974)\n",
      "AUC:  0.9211867346793451\n",
      "SCORE IS NOT THE BEST. Early stop counter: 1\n",
      "==================================================\n",
      "EPOCH 24\n",
      "LOSS:  tensor(0.1835)\n",
      "AUC:  0.9209816444029817\n",
      "SCORE IS NOT THE BEST. Early stop counter: 2\n",
      "==================================================\n",
      "EPOCH 25\n",
      "LOSS:  tensor(0.1867)\n",
      "AUC:  0.9207965550087865\n",
      "SCORE IS NOT THE BEST. Early stop counter: 3\n",
      "==================================================\n",
      "EPOCH 26\n",
      "LOSS:  tensor(0.1855)\n",
      "AUC:  0.9204255915331765\n",
      "SCORE IS NOT THE BEST. Early stop counter: 4\n",
      "==================================================\n",
      "EPOCH 27\n",
      "LOSS:  tensor(0.1910)\n",
      "AUC:  0.9210889184051118\n",
      "Epoch    27: reducing learning rate of group 0 to 1.2500e-03.\n",
      "SCORE IS NOT THE BEST. Early stop counter: 5\n",
      "==================================================\n",
      "EPOCH 28\n",
      "LOSS:  tensor(0.1867)\n",
      "AUC:  0.9211218890954195\n",
      "SCORE IS NOT THE BEST. Early stop counter: 6\n",
      "==================================================\n",
      "EPOCH 29\n",
      "LOSS:  tensor(0.1849)\n",
      "AUC:  0.9211489901870543\n",
      "SCORE IS NOT THE BEST. Early stop counter: 7\n",
      "==================================================\n",
      "EPOCH 30\n",
      "LOSS:  tensor(0.1872)\n",
      "AUC:  0.9209597906910791\n",
      "SCORE IS NOT THE BEST. Early stop counter: 8\n",
      "==================================================\n",
      "EPOCH 31\n",
      "LOSS:  tensor(0.1879)\n",
      "AUC:  0.9210915628356093\n",
      "SCORE IS NOT THE BEST. Early stop counter: 9\n",
      "==================================================\n",
      "EPOCH 32\n",
      "LOSS:  tensor(0.1903)\n",
      "AUC:  0.9210894818589302\n",
      "Epoch    32: reducing learning rate of group 0 to 6.2500e-04.\n",
      "SCORE IS NOT THE BEST. Early stop counter: 10\n",
      "EARLY_STOPPING\n",
      "Fold 1\n"
     ]
    },
    {
     "data": {
      "application/vnd.jupyter.widget-view+json": {
       "model_id": "bc9cc52fe09f4b03b82610032de477ae",
       "version_major": 2,
       "version_minor": 0
      },
      "text/plain": [
       "HBox(children=(IntProgress(value=0, max=10), HTML(value='')))"
      ]
     },
     "metadata": {},
     "output_type": "display_data"
    },
    {
     "data": {
      "application/vnd.jupyter.widget-view+json": {
       "model_id": "03ee56a607f047ea9b18ad35cdcff70b",
       "version_major": 2,
       "version_minor": 0
      },
      "text/plain": [
       "HBox(children=(IntProgress(value=0, max=5), HTML(value='')))"
      ]
     },
     "metadata": {},
     "output_type": "display_data"
    },
    {
     "data": {
      "application/vnd.jupyter.widget-view+json": {
       "model_id": "f03d4b72ec8147b280a9f9edd77bff0c",
       "version_major": 2,
       "version_minor": 0
      },
      "text/plain": [
       "HBox(children=(IntProgress(value=0, max=200), HTML(value='')))"
      ]
     },
     "metadata": {},
     "output_type": "display_data"
    },
    {
     "data": {
      "application/vnd.jupyter.widget-view+json": {
       "model_id": "1d8ad805d99b4b07bba40a7571af6935",
       "version_major": 2,
       "version_minor": 0
      },
      "text/plain": [
       "HBox(children=(IntProgress(value=0, max=200), HTML(value='')))"
      ]
     },
     "metadata": {},
     "output_type": "display_data"
    },
    {
     "data": {
      "application/vnd.jupyter.widget-view+json": {
       "model_id": "dfa8562ba9054d0da80a8fc3dc241956",
       "version_major": 2,
       "version_minor": 0
      },
      "text/plain": [
       "HBox(children=(IntProgress(value=0, max=200), HTML(value='')))"
      ]
     },
     "metadata": {},
     "output_type": "display_data"
    },
    {
     "name": "stdout",
     "output_type": "stream",
     "text": [
      "EPOCH 0\n",
      "LOSS:  tensor(0.2375)\n",
      "AUC:  0.8818309476767796\n",
      "==================================================\n",
      "EPOCH 1\n",
      "LOSS:  tensor(0.2047)\n",
      "AUC:  0.9049750345020402\n",
      "==================================================\n",
      "EPOCH 2\n",
      "LOSS:  tensor(0.1961)\n",
      "AUC:  0.9119136398826302\n",
      "==================================================\n",
      "EPOCH 3\n",
      "LOSS:  tensor(0.1975)\n",
      "AUC:  0.9146374655169721\n",
      "==================================================\n",
      "EPOCH 4\n",
      "LOSS:  tensor(0.1888)\n",
      "AUC:  0.9168686976999054\n",
      "==================================================\n",
      "EPOCH 5\n",
      "LOSS:  tensor(0.1903)\n",
      "AUC:  0.9174202671365663\n",
      "==================================================\n",
      "EPOCH 6\n",
      "LOSS:  tensor(0.1920)\n",
      "AUC:  0.9182949963503403\n",
      "==================================================\n",
      "EPOCH 7\n",
      "LOSS:  tensor(0.1872)\n",
      "AUC:  0.919211569787869\n",
      "==================================================\n",
      "EPOCH 8\n",
      "LOSS:  tensor(0.1871)\n",
      "AUC:  0.9188528985931076\n",
      "SCORE IS NOT THE BEST. Early stop counter: 1\n",
      "==================================================\n",
      "EPOCH 9\n",
      "LOSS:  tensor(0.1873)\n",
      "AUC:  0.9195667392727036\n",
      "==================================================\n",
      "EPOCH 10\n",
      "LOSS:  tensor(0.2096)\n",
      "AUC:  0.9191397276976336\n",
      "SCORE IS NOT THE BEST. Early stop counter: 1\n",
      "==================================================\n",
      "EPOCH 11\n",
      "LOSS:  tensor(0.1835)\n",
      "AUC:  0.919035896640308\n",
      "SCORE IS NOT THE BEST. Early stop counter: 2\n",
      "==================================================\n",
      "EPOCH 12\n",
      "LOSS:  tensor(0.1991)\n",
      "AUC:  0.919989723708519\n",
      "==================================================\n",
      "EPOCH 13\n",
      "LOSS:  tensor(0.1930)\n",
      "AUC:  0.919628667341152\n",
      "SCORE IS NOT THE BEST. Early stop counter: 1\n",
      "==================================================\n",
      "EPOCH 14\n",
      "LOSS:  tensor(0.1901)\n",
      "AUC:  0.9190584797310797\n",
      "SCORE IS NOT THE BEST. Early stop counter: 2\n",
      "==================================================\n",
      "EPOCH 15\n",
      "LOSS:  tensor(0.1814)\n",
      "AUC:  0.9196507319161398\n",
      "SCORE IS NOT THE BEST. Early stop counter: 3\n",
      "==================================================\n",
      "EPOCH 16\n",
      "LOSS:  tensor(0.1990)\n",
      "AUC:  0.9194437784397266\n",
      "SCORE IS NOT THE BEST. Early stop counter: 4\n",
      "==================================================\n",
      "EPOCH 17\n",
      "LOSS:  tensor(0.1909)\n",
      "AUC:  0.9201270474287079\n",
      "==================================================\n",
      "EPOCH 18\n",
      "LOSS:  tensor(0.1979)\n",
      "AUC:  0.9195003761659174\n",
      "SCORE IS NOT THE BEST. Early stop counter: 1\n",
      "==================================================\n",
      "EPOCH 19\n",
      "LOSS:  tensor(0.1885)\n",
      "AUC:  0.9196255078516424\n",
      "SCORE IS NOT THE BEST. Early stop counter: 2\n",
      "==================================================\n",
      "EPOCH 20\n",
      "LOSS:  tensor(0.1845)\n",
      "AUC:  0.9198749346842952\n",
      "SCORE IS NOT THE BEST. Early stop counter: 3\n",
      "==================================================\n",
      "EPOCH 21\n",
      "LOSS:  tensor(0.1853)\n",
      "AUC:  0.9190983397677686\n",
      "SCORE IS NOT THE BEST. Early stop counter: 4\n",
      "==================================================\n",
      "EPOCH 22\n",
      "LOSS:  tensor(0.1851)\n",
      "AUC:  0.9193296565724778\n",
      "Epoch    22: reducing learning rate of group 0 to 2.5000e-03.\n",
      "SCORE IS NOT THE BEST. Early stop counter: 5\n",
      "==================================================\n",
      "EPOCH 23\n",
      "LOSS:  tensor(0.1917)\n",
      "AUC:  0.919892540023542\n",
      "SCORE IS NOT THE BEST. Early stop counter: 6\n",
      "==================================================\n",
      "EPOCH 24\n",
      "LOSS:  tensor(0.1857)\n",
      "AUC:  0.9201649025376992\n",
      "==================================================\n",
      "EPOCH 25\n",
      "LOSS:  tensor(0.1914)\n",
      "AUC:  0.920278692554846\n",
      "==================================================\n",
      "EPOCH 26\n",
      "LOSS:  tensor(0.1909)\n",
      "AUC:  0.9199698334430514\n",
      "SCORE IS NOT THE BEST. Early stop counter: 1\n",
      "==================================================\n",
      "EPOCH 27\n",
      "LOSS:  tensor(0.1901)\n",
      "AUC:  0.9203478279926898\n",
      "==================================================\n",
      "EPOCH 28\n",
      "LOSS:  tensor(0.1886)\n",
      "AUC:  0.9199346296781014\n",
      "SCORE IS NOT THE BEST. Early stop counter: 1\n",
      "==================================================\n",
      "EPOCH 29\n",
      "LOSS:  tensor(0.1838)\n",
      "AUC:  0.9201772086456355\n",
      "SCORE IS NOT THE BEST. Early stop counter: 2\n",
      "==================================================\n",
      "EPOCH 30\n",
      "LOSS:  tensor(0.1870)\n",
      "AUC:  0.919926167500509\n",
      "Epoch    30: reducing learning rate of group 0 to 1.2500e-03.\n",
      "SCORE IS NOT THE BEST. Early stop counter: 3\n",
      "==================================================\n",
      "EPOCH 31\n",
      "LOSS:  tensor(0.1859)\n",
      "AUC:  0.9200074500347819\n",
      "SCORE IS NOT THE BEST. Early stop counter: 4\n",
      "==================================================\n",
      "EPOCH 32\n",
      "LOSS:  tensor(0.1896)\n",
      "AUC:  0.9202675894035285\n",
      "SCORE IS NOT THE BEST. Early stop counter: 5\n",
      "==================================================\n",
      "EPOCH 33\n",
      "LOSS:  tensor(0.1880)\n",
      "AUC:  0.9203236029352695\n",
      "SCORE IS NOT THE BEST. Early stop counter: 6\n",
      "==================================================\n",
      "EPOCH 34\n",
      "LOSS:  tensor(0.1878)\n",
      "AUC:  0.9200456404506469\n",
      "SCORE IS NOT THE BEST. Early stop counter: 7\n",
      "==================================================\n",
      "EPOCH 35\n",
      "LOSS:  tensor(0.1905)\n",
      "AUC:  0.9201010905285695\n",
      "Epoch    35: reducing learning rate of group 0 to 6.2500e-04.\n",
      "SCORE IS NOT THE BEST. Early stop counter: 8\n",
      "==================================================\n",
      "EPOCH 36\n",
      "LOSS:  tensor(0.1874)\n",
      "AUC:  0.9202007285215897\n",
      "SCORE IS NOT THE BEST. Early stop counter: 9\n",
      "==================================================\n",
      "EPOCH 37\n",
      "LOSS:  tensor(0.1877)\n",
      "AUC:  0.9203191748104756\n",
      "SCORE IS NOT THE BEST. Early stop counter: 10\n",
      "EARLY_STOPPING\n",
      "Fold 2\n"
     ]
    },
    {
     "data": {
      "application/vnd.jupyter.widget-view+json": {
       "model_id": "ee0f7871fb494dfb86aa0d9e4e33e9fa",
       "version_major": 2,
       "version_minor": 0
      },
      "text/plain": [
       "HBox(children=(IntProgress(value=0, max=10), HTML(value='')))"
      ]
     },
     "metadata": {},
     "output_type": "display_data"
    },
    {
     "data": {
      "application/vnd.jupyter.widget-view+json": {
       "model_id": "4c630b98a3ff45f282c57a25a0db6eb2",
       "version_major": 2,
       "version_minor": 0
      },
      "text/plain": [
       "HBox(children=(IntProgress(value=0, max=5), HTML(value='')))"
      ]
     },
     "metadata": {},
     "output_type": "display_data"
    },
    {
     "data": {
      "application/vnd.jupyter.widget-view+json": {
       "model_id": "f454399dda49460bb095f5c7f16027c7",
       "version_major": 2,
       "version_minor": 0
      },
      "text/plain": [
       "HBox(children=(IntProgress(value=0, max=200), HTML(value='')))"
      ]
     },
     "metadata": {},
     "output_type": "display_data"
    },
    {
     "data": {
      "application/vnd.jupyter.widget-view+json": {
       "model_id": "8faa05d0263542fbabb88733e2ccc515",
       "version_major": 2,
       "version_minor": 0
      },
      "text/plain": [
       "HBox(children=(IntProgress(value=0, max=200), HTML(value='')))"
      ]
     },
     "metadata": {},
     "output_type": "display_data"
    },
    {
     "data": {
      "application/vnd.jupyter.widget-view+json": {
       "model_id": "cd8220f665aa4f259bf7a2ea4227b17f",
       "version_major": 2,
       "version_minor": 0
      },
      "text/plain": [
       "HBox(children=(IntProgress(value=0, max=200), HTML(value='')))"
      ]
     },
     "metadata": {},
     "output_type": "display_data"
    },
    {
     "name": "stdout",
     "output_type": "stream",
     "text": [
      "EPOCH 0\n",
      "LOSS:  tensor(0.2422)\n",
      "AUC:  0.8823627277730303\n",
      "==================================================\n",
      "EPOCH 1\n",
      "LOSS:  tensor(0.2011)\n",
      "AUC:  0.9086556620731805\n",
      "==================================================\n",
      "EPOCH 2\n",
      "LOSS:  tensor(0.1967)\n",
      "AUC:  0.9151336597999441\n",
      "==================================================\n",
      "EPOCH 3\n",
      "LOSS:  tensor(0.1935)\n",
      "AUC:  0.918427038653315\n",
      "==================================================\n",
      "EPOCH 4\n",
      "LOSS:  tensor(0.1941)\n",
      "AUC:  0.9206142646965285\n",
      "==================================================\n",
      "EPOCH 5\n",
      "LOSS:  tensor(0.1862)\n",
      "AUC:  0.9211787401237281\n",
      "==================================================\n",
      "EPOCH 6\n",
      "LOSS:  tensor(0.2022)\n",
      "AUC:  0.9221654235769458\n",
      "==================================================\n",
      "EPOCH 7\n",
      "LOSS:  tensor(0.1887)\n",
      "AUC:  0.9227038480471461\n",
      "==================================================\n",
      "EPOCH 8\n",
      "LOSS:  tensor(0.1883)\n",
      "AUC:  0.9226918665427726\n",
      "SCORE IS NOT THE BEST. Early stop counter: 1\n",
      "==================================================\n",
      "EPOCH 9\n",
      "LOSS:  tensor(0.1941)\n",
      "AUC:  0.9230018542639774\n",
      "==================================================\n",
      "EPOCH 10\n",
      "LOSS:  tensor(0.1907)\n",
      "AUC:  0.9233573965912517\n",
      "==================================================\n",
      "EPOCH 11\n",
      "LOSS:  tensor(0.1845)\n",
      "AUC:  0.9232981631586371\n",
      "SCORE IS NOT THE BEST. Early stop counter: 1\n",
      "==================================================\n",
      "EPOCH 12\n",
      "LOSS:  tensor(0.1873)\n",
      "AUC:  0.9232038217749498\n",
      "SCORE IS NOT THE BEST. Early stop counter: 2\n",
      "==================================================\n",
      "EPOCH 13\n",
      "LOSS:  tensor(0.1839)\n",
      "AUC:  0.9237406595427533\n",
      "==================================================\n",
      "EPOCH 14\n",
      "LOSS:  tensor(0.1867)\n",
      "AUC:  0.9235199730917397\n",
      "SCORE IS NOT THE BEST. Early stop counter: 1\n",
      "==================================================\n",
      "EPOCH 15\n",
      "LOSS:  tensor(0.1887)\n",
      "AUC:  0.9236216015531016\n",
      "SCORE IS NOT THE BEST. Early stop counter: 2\n",
      "==================================================\n",
      "EPOCH 16\n",
      "LOSS:  tensor(0.2072)\n",
      "AUC:  0.9239032809825249\n",
      "==================================================\n",
      "EPOCH 17\n",
      "LOSS:  tensor(0.1897)\n",
      "AUC:  0.9239375558284177\n",
      "==================================================\n",
      "EPOCH 18\n",
      "LOSS:  tensor(0.1848)\n",
      "AUC:  0.9238001487835973\n",
      "SCORE IS NOT THE BEST. Early stop counter: 1\n",
      "==================================================\n",
      "EPOCH 19\n",
      "LOSS:  tensor(0.2010)\n",
      "AUC:  0.9239982999123338\n",
      "==================================================\n",
      "EPOCH 20\n",
      "LOSS:  tensor(0.1875)\n",
      "AUC:  0.9241801138830583\n",
      "==================================================\n",
      "EPOCH 21\n",
      "LOSS:  tensor(0.1962)\n",
      "AUC:  0.9235799566647033\n",
      "SCORE IS NOT THE BEST. Early stop counter: 1\n",
      "==================================================\n",
      "EPOCH 22\n",
      "LOSS:  tensor(0.1815)\n",
      "AUC:  0.9236195654578692\n",
      "SCORE IS NOT THE BEST. Early stop counter: 2\n",
      "==================================================\n",
      "EPOCH 23\n",
      "LOSS:  tensor(0.1822)\n",
      "AUC:  0.9238017942527496\n",
      "SCORE IS NOT THE BEST. Early stop counter: 3\n",
      "==================================================\n",
      "EPOCH 24\n",
      "LOSS:  tensor(0.1802)\n",
      "AUC:  0.9236838044353\n",
      "SCORE IS NOT THE BEST. Early stop counter: 4\n",
      "==================================================\n",
      "EPOCH 25\n",
      "LOSS:  tensor(0.1960)\n",
      "AUC:  0.9238273612482335\n",
      "Epoch    25: reducing learning rate of group 0 to 2.5000e-03.\n",
      "SCORE IS NOT THE BEST. Early stop counter: 5\n",
      "==================================================\n",
      "EPOCH 26\n",
      "LOSS:  tensor(0.1872)\n",
      "AUC:  0.924543143786349\n",
      "==================================================\n",
      "EPOCH 27\n",
      "LOSS:  tensor(0.1829)\n",
      "AUC:  0.924595321751443\n",
      "==================================================\n",
      "EPOCH 28\n",
      "LOSS:  tensor(0.1884)\n",
      "AUC:  0.9242185162293038\n",
      "SCORE IS NOT THE BEST. Early stop counter: 1\n",
      "==================================================\n",
      "EPOCH 29\n",
      "LOSS:  tensor(0.1884)\n",
      "AUC:  0.9242588751628183\n",
      "SCORE IS NOT THE BEST. Early stop counter: 2\n",
      "==================================================\n",
      "EPOCH 30\n",
      "LOSS:  tensor(0.1886)\n",
      "AUC:  0.9244290083766824\n",
      "SCORE IS NOT THE BEST. Early stop counter: 3\n",
      "==================================================\n",
      "EPOCH 31\n",
      "LOSS:  tensor(0.1847)\n",
      "AUC:  0.9244823340219412\n",
      "Epoch    31: reducing learning rate of group 0 to 1.2500e-03.\n",
      "SCORE IS NOT THE BEST. Early stop counter: 4\n",
      "==================================================\n",
      "EPOCH 32\n",
      "LOSS:  tensor(0.1891)\n",
      "AUC:  0.9247565293322161\n",
      "==================================================\n",
      "EPOCH 33\n",
      "LOSS:  tensor(0.1854)\n",
      "AUC:  0.9247064220310345\n",
      "SCORE IS NOT THE BEST. Early stop counter: 1\n",
      "==================================================\n",
      "EPOCH 34\n",
      "LOSS:  tensor(0.1905)\n",
      "AUC:  0.9247216633619009\n",
      "SCORE IS NOT THE BEST. Early stop counter: 2\n",
      "==================================================\n",
      "EPOCH 35\n",
      "LOSS:  tensor(0.1866)\n",
      "AUC:  0.9246557443466381\n",
      "SCORE IS NOT THE BEST. Early stop counter: 3\n",
      "==================================================\n",
      "EPOCH 36\n",
      "LOSS:  tensor(0.1847)\n",
      "AUC:  0.9245151950088358\n",
      "SCORE IS NOT THE BEST. Early stop counter: 4\n",
      "==================================================\n",
      "EPOCH 37\n",
      "LOSS:  tensor(0.1867)\n",
      "AUC:  0.9246911184765445\n",
      "Epoch    37: reducing learning rate of group 0 to 6.2500e-04.\n",
      "SCORE IS NOT THE BEST. Early stop counter: 5\n",
      "==================================================\n",
      "EPOCH 38\n",
      "LOSS:  tensor(0.1881)\n",
      "AUC:  0.9247647255661658\n",
      "==================================================\n",
      "EPOCH 39\n",
      "LOSS:  tensor(0.1873)\n",
      "AUC:  0.9247461207027675\n",
      "SCORE IS NOT THE BEST. Early stop counter: 1\n",
      "==================================================\n",
      "EPOCH 40\n",
      "LOSS:  tensor(0.1864)\n",
      "AUC:  0.924721556198994\n",
      "SCORE IS NOT THE BEST. Early stop counter: 2\n",
      "==================================================\n",
      "EPOCH 41\n",
      "LOSS:  tensor(0.1865)\n",
      "AUC:  0.9246998643525008\n",
      "SCORE IS NOT THE BEST. Early stop counter: 3\n",
      "==================================================\n",
      "EPOCH 42\n",
      "LOSS:  tensor(0.1894)\n",
      "AUC:  0.9247838040204758\n",
      "Epoch    42: reducing learning rate of group 0 to 3.1250e-04.\n",
      "==================================================\n",
      "EPOCH 43\n",
      "LOSS:  tensor(0.1852)\n",
      "AUC:  0.9247378484177226\n",
      "SCORE IS NOT THE BEST. Early stop counter: 1\n",
      "==================================================\n",
      "EPOCH 44\n",
      "LOSS:  tensor(0.1891)\n",
      "AUC:  0.9247868944604383\n",
      "==================================================\n",
      "EPOCH 45\n",
      "LOSS:  tensor(0.1861)\n",
      "AUC:  0.9247626652728574\n",
      "SCORE IS NOT THE BEST. Early stop counter: 1\n",
      "==================================================\n",
      "EPOCH 46\n",
      "LOSS:  tensor(0.1870)\n",
      "AUC:  0.9248104599293694\n",
      "==================================================\n",
      "EPOCH 47\n",
      "LOSS:  tensor(0.1855)\n",
      "AUC:  0.9247451838915484\n",
      "Epoch    47: reducing learning rate of group 0 to 1.5625e-04.\n",
      "SCORE IS NOT THE BEST. Early stop counter: 1\n",
      "==================================================\n",
      "EPOCH 48\n",
      "LOSS:  tensor(0.1864)\n",
      "AUC:  0.9247599481746355\n",
      "SCORE IS NOT THE BEST. Early stop counter: 2\n",
      "==================================================\n",
      "EPOCH 49\n",
      "LOSS:  tensor(0.1861)\n",
      "AUC:  0.9247546522529099\n",
      "SCORE IS NOT THE BEST. Early stop counter: 3\n",
      "==================================================\n",
      "EPOCH 50\n",
      "LOSS:  tensor(0.1860)\n",
      "AUC:  0.9247918654365748\n",
      "SCORE IS NOT THE BEST. Early stop counter: 4\n",
      "==================================================\n",
      "EPOCH 51\n",
      "LOSS:  tensor(0.1850)\n",
      "AUC:  0.9247381906476512\n",
      "SCORE IS NOT THE BEST. Early stop counter: 5\n",
      "==================================================\n",
      "EPOCH 52\n",
      "LOSS:  tensor(0.1853)\n",
      "AUC:  0.9247325939784126\n",
      "Epoch    52: reducing learning rate of group 0 to 1.0000e-04.\n",
      "SCORE IS NOT THE BEST. Early stop counter: 6\n",
      "==================================================\n",
      "EPOCH 53\n",
      "LOSS:  tensor(0.1857)\n",
      "AUC:  0.924749515347111\n",
      "SCORE IS NOT THE BEST. Early stop counter: 7\n",
      "==================================================\n",
      "EPOCH 54\n",
      "LOSS:  tensor(0.1861)\n",
      "AUC:  0.9247460723066159\n",
      "SCORE IS NOT THE BEST. Early stop counter: 8\n",
      "==================================================\n",
      "EPOCH 55\n",
      "LOSS:  tensor(0.1874)\n",
      "AUC:  0.9247605012735101\n",
      "SCORE IS NOT THE BEST. Early stop counter: 9\n",
      "==================================================\n",
      "EPOCH 56\n",
      "LOSS:  tensor(0.1857)\n",
      "AUC:  0.9247398361168032\n",
      "SCORE IS NOT THE BEST. Early stop counter: 10\n",
      "EARLY_STOPPING\n",
      "Fold 3\n"
     ]
    },
    {
     "data": {
      "application/vnd.jupyter.widget-view+json": {
       "model_id": "859410c8d4844d88b4b8db1bb42a0e38",
       "version_major": 2,
       "version_minor": 0
      },
      "text/plain": [
       "HBox(children=(IntProgress(value=0, max=10), HTML(value='')))"
      ]
     },
     "metadata": {},
     "output_type": "display_data"
    },
    {
     "data": {
      "application/vnd.jupyter.widget-view+json": {
       "model_id": "78f30419f1f749ada6e90fbca37e8fe3",
       "version_major": 2,
       "version_minor": 0
      },
      "text/plain": [
       "HBox(children=(IntProgress(value=0, max=5), HTML(value='')))"
      ]
     },
     "metadata": {},
     "output_type": "display_data"
    },
    {
     "data": {
      "application/vnd.jupyter.widget-view+json": {
       "model_id": "9f8433232eb94718a0abe86f7d28bb76",
       "version_major": 2,
       "version_minor": 0
      },
      "text/plain": [
       "HBox(children=(IntProgress(value=0, max=200), HTML(value='')))"
      ]
     },
     "metadata": {},
     "output_type": "display_data"
    },
    {
     "data": {
      "application/vnd.jupyter.widget-view+json": {
       "model_id": "e3ef8362712c462a89a28ec5014b9853",
       "version_major": 2,
       "version_minor": 0
      },
      "text/plain": [
       "HBox(children=(IntProgress(value=0, max=200), HTML(value='')))"
      ]
     },
     "metadata": {},
     "output_type": "display_data"
    },
    {
     "data": {
      "application/vnd.jupyter.widget-view+json": {
       "model_id": "a4f832d99d034e3c864cafe9e369aae5",
       "version_major": 2,
       "version_minor": 0
      },
      "text/plain": [
       "HBox(children=(IntProgress(value=0, max=200), HTML(value='')))"
      ]
     },
     "metadata": {},
     "output_type": "display_data"
    },
    {
     "name": "stdout",
     "output_type": "stream",
     "text": [
      "EPOCH 0\n",
      "LOSS:  tensor(0.2250)\n",
      "AUC:  0.8875126293518792\n",
      "==================================================\n",
      "EPOCH 1\n",
      "LOSS:  tensor(0.2078)\n",
      "AUC:  0.9093240438932303\n",
      "==================================================\n",
      "EPOCH 2\n",
      "LOSS:  tensor(0.1948)\n",
      "AUC:  0.9151547727505023\n",
      "==================================================\n",
      "EPOCH 3\n",
      "LOSS:  tensor(0.1908)\n",
      "AUC:  0.9181786043807202\n",
      "==================================================\n",
      "EPOCH 4\n",
      "LOSS:  tensor(0.1881)\n",
      "AUC:  0.9193750785768711\n",
      "==================================================\n",
      "EPOCH 5\n",
      "LOSS:  tensor(0.1877)\n",
      "AUC:  0.9201151050022124\n",
      "==================================================\n",
      "EPOCH 6\n",
      "LOSS:  tensor(0.1954)\n",
      "AUC:  0.9205411005616596\n",
      "==================================================\n",
      "EPOCH 7\n",
      "LOSS:  tensor(0.1843)\n",
      "AUC:  0.920761261025139\n",
      "==================================================\n",
      "EPOCH 8\n",
      "LOSS:  tensor(0.1902)\n",
      "AUC:  0.9211559330257432\n",
      "==================================================\n",
      "EPOCH 9\n",
      "LOSS:  tensor(0.1841)\n",
      "AUC:  0.921142188556552\n",
      "SCORE IS NOT THE BEST. Early stop counter: 1\n",
      "==================================================\n",
      "EPOCH 10\n",
      "LOSS:  tensor(0.1956)\n",
      "AUC:  0.9213437084078532\n",
      "==================================================\n",
      "EPOCH 11\n",
      "LOSS:  tensor(0.1892)\n",
      "AUC:  0.9210556243336094\n",
      "SCORE IS NOT THE BEST. Early stop counter: 1\n",
      "==================================================\n",
      "EPOCH 12\n",
      "LOSS:  tensor(0.1838)\n",
      "AUC:  0.9210803920399779\n",
      "SCORE IS NOT THE BEST. Early stop counter: 2\n",
      "==================================================\n",
      "EPOCH 13\n",
      "LOSS:  tensor(0.1915)\n",
      "AUC:  0.9210856166671346\n",
      "SCORE IS NOT THE BEST. Early stop counter: 3\n",
      "==================================================\n",
      "EPOCH 14\n",
      "LOSS:  tensor(0.1841)\n",
      "AUC:  0.9214019538376701\n",
      "==================================================\n",
      "EPOCH 15\n",
      "LOSS:  tensor(0.1879)\n",
      "AUC:  0.9212047734351324\n",
      "Epoch    15: reducing learning rate of group 0 to 2.5000e-03.\n",
      "SCORE IS NOT THE BEST. Early stop counter: 1\n",
      "==================================================\n",
      "EPOCH 16\n",
      "LOSS:  tensor(0.1896)\n",
      "AUC:  0.9215774542850311\n",
      "==================================================\n",
      "EPOCH 17\n",
      "LOSS:  tensor(0.1910)\n",
      "AUC:  0.9215739896414763\n",
      "SCORE IS NOT THE BEST. Early stop counter: 1\n",
      "==================================================\n",
      "EPOCH 18\n",
      "LOSS:  tensor(0.1870)\n",
      "AUC:  0.9217862457385232\n",
      "==================================================\n",
      "EPOCH 19\n",
      "LOSS:  tensor(0.1901)\n",
      "AUC:  0.9216521308387715\n",
      "SCORE IS NOT THE BEST. Early stop counter: 1\n",
      "==================================================\n",
      "EPOCH 20\n",
      "LOSS:  tensor(0.1897)\n",
      "AUC:  0.9217997135894662\n",
      "==================================================\n",
      "EPOCH 21\n",
      "LOSS:  tensor(0.1864)\n",
      "AUC:  0.9214882552732774\n",
      "SCORE IS NOT THE BEST. Early stop counter: 1\n",
      "==================================================\n",
      "EPOCH 22\n",
      "LOSS:  tensor(0.1896)\n",
      "AUC:  0.9217682448060428\n",
      "SCORE IS NOT THE BEST. Early stop counter: 2\n",
      "==================================================\n",
      "EPOCH 23\n",
      "LOSS:  tensor(0.1872)\n",
      "AUC:  0.921372628845668\n",
      "Epoch    23: reducing learning rate of group 0 to 1.2500e-03.\n",
      "SCORE IS NOT THE BEST. Early stop counter: 3\n",
      "==================================================\n",
      "EPOCH 24\n",
      "LOSS:  tensor(0.1853)\n",
      "AUC:  0.9218561782893124\n",
      "==================================================\n",
      "EPOCH 25\n",
      "LOSS:  tensor(0.1856)\n",
      "AUC:  0.9219267159425193\n",
      "==================================================\n",
      "EPOCH 26\n",
      "LOSS:  tensor(0.1903)\n",
      "AUC:  0.9215961225590341\n",
      "SCORE IS NOT THE BEST. Early stop counter: 1\n",
      "==================================================\n",
      "EPOCH 27\n",
      "LOSS:  tensor(0.1829)\n",
      "AUC:  0.9219941831331746\n",
      "==================================================\n",
      "EPOCH 28\n",
      "LOSS:  tensor(0.1833)\n",
      "AUC:  0.9218410991370756\n",
      "SCORE IS NOT THE BEST. Early stop counter: 1\n",
      "==================================================\n",
      "EPOCH 29\n",
      "LOSS:  tensor(0.1825)\n",
      "AUC:  0.9217989494315564\n",
      "SCORE IS NOT THE BEST. Early stop counter: 2\n",
      "==================================================\n",
      "EPOCH 30\n",
      "LOSS:  tensor(0.1842)\n",
      "AUC:  0.9220082664597193\n",
      "Epoch    30: reducing learning rate of group 0 to 6.2500e-04.\n",
      "==================================================\n",
      "EPOCH 31\n",
      "LOSS:  tensor(0.1850)\n",
      "AUC:  0.9220528849831008\n",
      "==================================================\n",
      "EPOCH 32\n",
      "LOSS:  tensor(0.1865)\n",
      "AUC:  0.9218988466540463\n",
      "SCORE IS NOT THE BEST. Early stop counter: 1\n",
      "==================================================\n",
      "EPOCH 33\n",
      "LOSS:  tensor(0.1866)\n",
      "AUC:  0.9218976641110368\n",
      "SCORE IS NOT THE BEST. Early stop counter: 2\n",
      "==================================================\n",
      "EPOCH 34\n",
      "LOSS:  tensor(0.1859)\n",
      "AUC:  0.9217637013513217\n",
      "SCORE IS NOT THE BEST. Early stop counter: 3\n",
      "==================================================\n",
      "EPOCH 35\n",
      "LOSS:  tensor(0.1831)\n",
      "AUC:  0.9217717958927998\n",
      "SCORE IS NOT THE BEST. Early stop counter: 4\n",
      "==================================================\n",
      "EPOCH 36\n",
      "LOSS:  tensor(0.1882)\n",
      "AUC:  0.9217872208178469\n",
      "Epoch    36: reducing learning rate of group 0 to 3.1250e-04.\n",
      "SCORE IS NOT THE BEST. Early stop counter: 5\n",
      "==================================================\n",
      "EPOCH 37\n",
      "LOSS:  tensor(0.1863)\n",
      "AUC:  0.9219087461295921\n",
      "SCORE IS NOT THE BEST. Early stop counter: 6\n",
      "==================================================\n",
      "EPOCH 38\n",
      "LOSS:  tensor(0.1869)\n",
      "AUC:  0.92189854928943\n",
      "SCORE IS NOT THE BEST. Early stop counter: 7\n",
      "==================================================\n",
      "EPOCH 39\n",
      "LOSS:  tensor(0.1871)\n",
      "AUC:  0.9218545496993783\n",
      "SCORE IS NOT THE BEST. Early stop counter: 8\n",
      "==================================================\n",
      "EPOCH 40\n",
      "LOSS:  tensor(0.1862)\n",
      "AUC:  0.9218766826169359\n",
      "SCORE IS NOT THE BEST. Early stop counter: 9\n",
      "==================================================\n",
      "EPOCH 41\n",
      "LOSS:  tensor(0.1873)\n",
      "AUC:  0.9218838020790904\n",
      "Epoch    41: reducing learning rate of group 0 to 1.5625e-04.\n",
      "SCORE IS NOT THE BEST. Early stop counter: 10\n",
      "EARLY_STOPPING\n",
      "Fold 4\n"
     ]
    },
    {
     "data": {
      "application/vnd.jupyter.widget-view+json": {
       "model_id": "a2777295a7b14d3d8b876810799e0346",
       "version_major": 2,
       "version_minor": 0
      },
      "text/plain": [
       "HBox(children=(IntProgress(value=0, max=10), HTML(value='')))"
      ]
     },
     "metadata": {},
     "output_type": "display_data"
    },
    {
     "data": {
      "application/vnd.jupyter.widget-view+json": {
       "model_id": "4ac3c14e9c08460d8d04e8aae17f6afe",
       "version_major": 2,
       "version_minor": 0
      },
      "text/plain": [
       "HBox(children=(IntProgress(value=0, max=5), HTML(value='')))"
      ]
     },
     "metadata": {},
     "output_type": "display_data"
    },
    {
     "data": {
      "application/vnd.jupyter.widget-view+json": {
       "model_id": "844d830bc3fc4238a4d00174da3f4ddb",
       "version_major": 2,
       "version_minor": 0
      },
      "text/plain": [
       "HBox(children=(IntProgress(value=0, max=200), HTML(value='')))"
      ]
     },
     "metadata": {},
     "output_type": "display_data"
    },
    {
     "data": {
      "application/vnd.jupyter.widget-view+json": {
       "model_id": "62adb8b8a2b64e5ca6968ea9715acd7c",
       "version_major": 2,
       "version_minor": 0
      },
      "text/plain": [
       "HBox(children=(IntProgress(value=0, max=200), HTML(value='')))"
      ]
     },
     "metadata": {},
     "output_type": "display_data"
    },
    {
     "data": {
      "application/vnd.jupyter.widget-view+json": {
       "model_id": "98e73a86ea1b432e9be02aedff3671a5",
       "version_major": 2,
       "version_minor": 0
      },
      "text/plain": [
       "HBox(children=(IntProgress(value=0, max=200), HTML(value='')))"
      ]
     },
     "metadata": {},
     "output_type": "display_data"
    },
    {
     "name": "stdout",
     "output_type": "stream",
     "text": [
      "EPOCH 0\n",
      "LOSS:  tensor(0.2281)\n",
      "AUC:  0.8884005116884348\n",
      "==================================================\n",
      "EPOCH 1\n",
      "LOSS:  tensor(0.2143)\n",
      "AUC:  0.9111755777621611\n",
      "==================================================\n",
      "EPOCH 2\n",
      "LOSS:  tensor(0.1992)\n",
      "AUC:  0.9164467597699146\n",
      "==================================================\n",
      "EPOCH 3\n",
      "LOSS:  tensor(0.1900)\n",
      "AUC:  0.9192030566039772\n",
      "==================================================\n",
      "EPOCH 4\n",
      "LOSS:  tensor(0.1848)\n",
      "AUC:  0.9214078354331655\n",
      "==================================================\n",
      "EPOCH 5\n",
      "LOSS:  tensor(0.1855)\n",
      "AUC:  0.9222722086763803\n",
      "==================================================\n",
      "EPOCH 6\n",
      "LOSS:  tensor(0.1900)\n",
      "AUC:  0.9225520391536532\n",
      "==================================================\n",
      "EPOCH 7\n",
      "LOSS:  tensor(0.1817)\n",
      "AUC:  0.9228059435856447\n",
      "==================================================\n",
      "EPOCH 8\n",
      "LOSS:  tensor(0.1929)\n",
      "AUC:  0.9228546387704539\n",
      "==================================================\n",
      "EPOCH 9\n",
      "LOSS:  tensor(0.1809)\n",
      "AUC:  0.9231431066525166\n",
      "==================================================\n",
      "EPOCH 10\n",
      "LOSS:  tensor(0.2003)\n",
      "AUC:  0.9239198714389031\n",
      "==================================================\n",
      "EPOCH 11\n",
      "LOSS:  tensor(0.1924)\n",
      "AUC:  0.923533878335826\n",
      "SCORE IS NOT THE BEST. Early stop counter: 1\n",
      "==================================================\n",
      "EPOCH 12\n",
      "LOSS:  tensor(0.1824)\n",
      "AUC:  0.9242362397289915\n",
      "==================================================\n",
      "EPOCH 13\n",
      "LOSS:  tensor(0.1884)\n",
      "AUC:  0.9238683374593251\n",
      "SCORE IS NOT THE BEST. Early stop counter: 1\n",
      "==================================================\n",
      "EPOCH 14\n",
      "LOSS:  tensor(0.1814)\n",
      "AUC:  0.9235464471774635\n",
      "SCORE IS NOT THE BEST. Early stop counter: 2\n",
      "==================================================\n",
      "EPOCH 15\n",
      "LOSS:  tensor(0.1887)\n",
      "AUC:  0.9241519921838749\n",
      "SCORE IS NOT THE BEST. Early stop counter: 3\n",
      "==================================================\n",
      "EPOCH 16\n",
      "LOSS:  tensor(0.1805)\n",
      "AUC:  0.9239320599304498\n",
      "SCORE IS NOT THE BEST. Early stop counter: 4\n",
      "==================================================\n",
      "EPOCH 17\n",
      "LOSS:  tensor(0.1843)\n",
      "AUC:  0.9238506719264703\n",
      "Epoch    17: reducing learning rate of group 0 to 2.5000e-03.\n",
      "SCORE IS NOT THE BEST. Early stop counter: 5\n",
      "==================================================\n",
      "EPOCH 18\n",
      "LOSS:  tensor(0.1909)\n",
      "AUC:  0.9246522666583312\n",
      "==================================================\n",
      "EPOCH 19\n",
      "LOSS:  tensor(0.1885)\n",
      "AUC:  0.9243021094492654\n",
      "SCORE IS NOT THE BEST. Early stop counter: 1\n",
      "==================================================\n",
      "EPOCH 20\n",
      "LOSS:  tensor(0.1898)\n",
      "AUC:  0.9244335964756621\n",
      "SCORE IS NOT THE BEST. Early stop counter: 2\n",
      "==================================================\n",
      "EPOCH 21\n",
      "LOSS:  tensor(0.1907)\n",
      "AUC:  0.9247813782255244\n",
      "==================================================\n",
      "EPOCH 22\n",
      "LOSS:  tensor(0.1938)\n",
      "AUC:  0.9245587074514455\n",
      "SCORE IS NOT THE BEST. Early stop counter: 1\n",
      "==================================================\n",
      "EPOCH 23\n",
      "LOSS:  tensor(0.1869)\n",
      "AUC:  0.9244579665432996\n",
      "SCORE IS NOT THE BEST. Early stop counter: 2\n",
      "==================================================\n",
      "EPOCH 24\n",
      "LOSS:  tensor(0.1890)\n",
      "AUC:  0.9245548624578003\n",
      "SCORE IS NOT THE BEST. Early stop counter: 3\n",
      "==================================================\n",
      "EPOCH 25\n",
      "LOSS:  tensor(0.1879)\n",
      "AUC:  0.924599840584904\n",
      "SCORE IS NOT THE BEST. Early stop counter: 4\n",
      "==================================================\n",
      "EPOCH 26\n",
      "LOSS:  tensor(0.1854)\n",
      "AUC:  0.924089998576799\n",
      "Epoch    26: reducing learning rate of group 0 to 1.2500e-03.\n",
      "SCORE IS NOT THE BEST. Early stop counter: 5\n",
      "==================================================\n",
      "EPOCH 27\n",
      "LOSS:  tensor(0.1880)\n",
      "AUC:  0.9246025549014609\n",
      "SCORE IS NOT THE BEST. Early stop counter: 6\n",
      "==================================================\n",
      "EPOCH 28\n",
      "LOSS:  tensor(0.1831)\n",
      "AUC:  0.9247609672565597\n",
      "SCORE IS NOT THE BEST. Early stop counter: 7\n",
      "==================================================\n",
      "EPOCH 29\n",
      "LOSS:  tensor(0.1829)\n",
      "AUC:  0.9248023216846163\n",
      "==================================================\n",
      "EPOCH 30\n",
      "LOSS:  tensor(0.1824)\n",
      "AUC:  0.9245922543294559\n",
      "SCORE IS NOT THE BEST. Early stop counter: 1\n",
      "==================================================\n",
      "EPOCH 31\n",
      "LOSS:  tensor(0.1899)\n",
      "AUC:  0.9246593480854767\n",
      "Epoch    31: reducing learning rate of group 0 to 6.2500e-04.\n",
      "SCORE IS NOT THE BEST. Early stop counter: 2\n",
      "==================================================\n",
      "EPOCH 32\n",
      "LOSS:  tensor(0.1873)\n",
      "AUC:  0.9247608462360761\n",
      "SCORE IS NOT THE BEST. Early stop counter: 3\n",
      "==================================================\n",
      "EPOCH 33\n",
      "LOSS:  tensor(0.1864)\n",
      "AUC:  0.924767267237155\n",
      "SCORE IS NOT THE BEST. Early stop counter: 4\n",
      "==================================================\n",
      "EPOCH 34\n",
      "LOSS:  tensor(0.1863)\n",
      "AUC:  0.9247566935046302\n",
      "SCORE IS NOT THE BEST. Early stop counter: 5\n",
      "==================================================\n",
      "EPOCH 35\n",
      "LOSS:  tensor(0.1830)\n",
      "AUC:  0.9247415970637525\n",
      "SCORE IS NOT THE BEST. Early stop counter: 6\n",
      "==================================================\n",
      "EPOCH 36\n",
      "LOSS:  tensor(0.1901)\n",
      "AUC:  0.9246924973247557\n",
      "Epoch    36: reducing learning rate of group 0 to 3.1250e-04.\n",
      "SCORE IS NOT THE BEST. Early stop counter: 7\n",
      "==================================================\n",
      "EPOCH 37\n",
      "LOSS:  tensor(0.1869)\n",
      "AUC:  0.9247768071089784\n",
      "SCORE IS NOT THE BEST. Early stop counter: 8\n",
      "==================================================\n",
      "EPOCH 38\n",
      "LOSS:  tensor(0.1867)\n",
      "AUC:  0.9247227973960818\n",
      "SCORE IS NOT THE BEST. Early stop counter: 9\n",
      "==================================================\n",
      "EPOCH 39\n",
      "LOSS:  tensor(0.1861)\n",
      "AUC:  0.9247440935434397\n",
      "SCORE IS NOT THE BEST. Early stop counter: 10\n",
      "EARLY_STOPPING\n",
      "CV score: 0.92259 \n"
     ]
    }
   ],
   "source": [
    "# torch.cuda.empty_cache()\n",
    "import warnings\n",
    "warnings.filterwarnings('ignore')\n",
    "random_seed = 42\n",
    "N_IN = 2\n",
    "np.random.seed(random_seed)\n",
    "random.seed(random_seed)\n",
    "torch.manual_seed(random_seed)\n",
    "torch.cuda.manual_seed(random_seed)\n",
    "\n",
    "folds = StratifiedKFold(n_splits=5, shuffle=False, random_state=99999)\n",
    "oof = np.zeros(len(train))\n",
    "predictions = np.zeros(len(test))\n",
    "# label = label.values\n",
    "for fold_, (trn_idx, val_idx) in enumerate(folds.split(train.values, label)):\n",
    "    print(\"Fold {}\".format(fold_))\n",
    "    \n",
    "    X_train,Train_label = ups.fit_transform(train.loc[trn_idx],label.loc[trn_idx])\n",
    "    X_val, Val_label = train.loc[val_idx],label.loc[val_idx]\n",
    "    generate_features(X_train)\n",
    "    generate_features(X_val)\n",
    "    cols_new = X_train.columns\n",
    "    scaler = StandardScaler()\n",
    "    X_train = pd.DataFrame(scaler.fit_transform(X_train),columns=cols_new)\n",
    "    X_val = pd.DataFrame(scaler.transform(X_val),columns=cols_new)\n",
    "    test_new = pd.DataFrame(scaler.transform(test),columns=cols_new)\n",
    "    \n",
    "    \n",
    "    train_tensors = []\n",
    "    val_tensors = []\n",
    "    test_tensors = []\n",
    "\n",
    "    for fff in range(200):\n",
    "        cols_to_use = [f'var_{fff}',f'var_{fff}_1_flag']\n",
    "        train_t = X_train.loc[:,cols_to_use].values\n",
    "        val_t = X_val.loc[:,cols_to_use].values\n",
    "        test_t =  test_new.loc[:,cols_to_use].values\n",
    "        train_tensors.append(torch.tensor(train_t, requires_grad=False, device=cpu, dtype=torch.float32))\n",
    "        val_tensors.append(torch.tensor(val_t, requires_grad=False, device=cpu, dtype=torch.float32))\n",
    "\n",
    "        test_tensors.append(torch.tensor(test_t, requires_grad=False, device=gpu, dtype=torch.float32))\n",
    "    \n",
    "    train_tensors = torch.cat(train_tensors,1).view((-1,200,N_IN))\n",
    "    val_tensors = torch.cat(val_tensors,1).view((-1,200,N_IN))\n",
    "    test_tensors = torch.cat(test_tensors,1).view((-1,200,N_IN))\n",
    "    try:\n",
    "        y_train_t = torch.tensor(Train_label, requires_grad=False, device=cpu, dtype=torch.float32)\n",
    "    except:\n",
    "        y_train_t = torch.tensor(Train_label.values, requires_grad=False, device=cpu, dtype=torch.float32)        \n",
    "    \n",
    "    \n",
    "    try:\n",
    "        y_val_t = torch.tensor(Val_label, requires_grad=False, device=cpu, dtype=torch.float32)\n",
    "    except:\n",
    "        y_val_t = torch.tensor(Val_label.values, requires_grad=False, device=cpu, dtype=torch.float32)\n",
    "    \n",
    "    nn = NN(D_in=N_IN).to(gpu)\n",
    "    optimizer = Adam(params=nn.parameters(), lr = 0.005)\n",
    "    scheduler = ReduceLROnPlateau(optimizer, 'max',factor=0.5, patience=4,min_lr=0.0001, verbose=True)\n",
    "    best_AUC = 0\n",
    "    early_stop = 0\n",
    "\n",
    "\n",
    "\n",
    "    for epoch in tqdm(range(200)):\n",
    "        dl = batch_iter(train_tensors,y_train_t, batch_size=batch_size)\n",
    "        for data,label_t in dl:\n",
    "            pred = nn(data.to(gpu))\n",
    "            loss = loss_f(pred, torch.unsqueeze(label_t.to(gpu),-1))\n",
    "            optimizer.zero_grad()\n",
    "            loss.backward()\n",
    "            optimizer.step()\n",
    "        with torch.no_grad():\n",
    "            blobs = []\n",
    "            for batch in torch.split(val_tensors,batch_size):\n",
    "                blob = nn(batch.to(gpu)).data.cpu().numpy().flatten()\n",
    "                blobs.append(blob)\n",
    "            val_pred = np.concatenate(blobs)\n",
    "            AUC = roc_auc_score(label[val_idx],val_pred)\n",
    "            print('EPOCH {}'.format(epoch))\n",
    "            print('LOSS: ',loss_f(torch.tensor(val_pred), y_val_t))\n",
    "            print('AUC: ',AUC)\n",
    "            scheduler.step(AUC)\n",
    "            \n",
    "            if AUC > best_AUC:\n",
    "                early_stop = 0\n",
    "                best_AUC = AUC\n",
    "                torch.save(nn, 'best_auc_nn.pkl')\n",
    "            else:\n",
    "                early_stop += 1\n",
    "                print('SCORE IS NOT THE BEST. Early stop counter: {}'.format(early_stop))\n",
    "                \n",
    "            \n",
    "            if early_stop == 10:\n",
    "                print('EARLY_STOPPING')\n",
    "                break\n",
    "            print('='*50)\n",
    "            \n",
    "        best_model = torch.load('best_auc_nn.pkl')\n",
    "   \n",
    "    with torch.no_grad():\n",
    "        blobs = []\n",
    "        for batch in torch.split(val_tensors,batch_size):\n",
    "            blob = best_model(batch.to(gpu)).data.cpu().numpy().flatten()\n",
    "            blobs.append(blob)\n",
    "            \n",
    "        oof[val_idx] = np.concatenate(blobs)\n",
    "        \n",
    "        blobs = []\n",
    "        for batch in torch.split(test_tensors,batch_size):\n",
    "            blob = best_model(batch).data.cpu().numpy().flatten()\n",
    "            blobs.append(blob)\n",
    "    predictions_test = np.concatenate(blobs)\n",
    "    \n",
    "    predictions += predictions_test / folds.n_splits\n",
    "\n",
    "print(\"CV score: {:<8.5f}\".format(roc_auc_score(label, oof)))"
   ]
  },
  {
   "cell_type": "code",
   "execution_count": 28,
   "metadata": {},
   "outputs": [],
   "source": [
    "# 0 fold AUC:  0.9211992827613138"
   ]
  },
  {
   "cell_type": "code",
   "execution_count": 29,
   "metadata": {},
   "outputs": [
    {
     "name": "stdout",
     "output_type": "stream",
     "text": [
      "CV score: 0.92259 \n"
     ]
    }
   ],
   "source": [
    "print(\"CV score: {:<8.5f}\".format(roc_auc_score(label, oof)))"
   ]
  },
  {
   "cell_type": "code",
   "execution_count": 30,
   "metadata": {},
   "outputs": [
    {
     "data": {
      "text/plain": [
       "(200000,)"
      ]
     },
     "execution_count": 30,
     "metadata": {},
     "output_type": "execute_result"
    }
   ],
   "source": [
    "oof.shape"
   ]
  },
  {
   "cell_type": "code",
   "execution_count": 31,
   "metadata": {},
   "outputs": [
    {
     "data": {
      "text/plain": [
       "(200000,)"
      ]
     },
     "execution_count": 31,
     "metadata": {},
     "output_type": "execute_result"
    }
   ],
   "source": [
    "predictions.shape"
   ]
  },
  {
   "cell_type": "code",
   "execution_count": 32,
   "metadata": {},
   "outputs": [],
   "source": [
    "tst_sub = pd.read_csv('sample_submission.csv')"
   ]
  },
  {
   "cell_type": "code",
   "execution_count": 33,
   "metadata": {},
   "outputs": [],
   "source": [
    "tst_sub['target'] = predictions"
   ]
  },
  {
   "cell_type": "code",
   "execution_count": 34,
   "metadata": {},
   "outputs": [],
   "source": [
    "tst_sub.to_csv('nn_aug_92259.csv',index=False)"
   ]
  },
  {
   "cell_type": "code",
   "execution_count": null,
   "metadata": {},
   "outputs": [],
   "source": [
    "#with no first relu 0.91826 enc 30"
   ]
  },
  {
   "cell_type": "code",
   "execution_count": 25,
   "metadata": {},
   "outputs": [
    {
     "data": {
      "text/plain": [
       "0         0\n",
       "1         0\n",
       "2         0\n",
       "3         0\n",
       "4         0\n",
       "5         0\n",
       "6         0\n",
       "7         0\n",
       "8         0\n",
       "9         0\n",
       "10        0\n",
       "11        0\n",
       "12        0\n",
       "13        1\n",
       "14        0\n",
       "15        0\n",
       "16        0\n",
       "17        0\n",
       "18        0\n",
       "19        0\n",
       "20        0\n",
       "21        0\n",
       "22        0\n",
       "23        0\n",
       "24        0\n",
       "25        0\n",
       "26        0\n",
       "27        0\n",
       "28        0\n",
       "29        1\n",
       "         ..\n",
       "199970    0\n",
       "199971    0\n",
       "199972    0\n",
       "199973    0\n",
       "199974    0\n",
       "199975    0\n",
       "199976    1\n",
       "199977    0\n",
       "199978    0\n",
       "199979    0\n",
       "199980    0\n",
       "199981    1\n",
       "199982    0\n",
       "199983    0\n",
       "199984    0\n",
       "199985    0\n",
       "199986    1\n",
       "199987    0\n",
       "199988    0\n",
       "199989    0\n",
       "199990    1\n",
       "199991    0\n",
       "199992    0\n",
       "199993    0\n",
       "199994    0\n",
       "199995    0\n",
       "199996    0\n",
       "199997    0\n",
       "199998    0\n",
       "199999    0\n",
       "Name: target, Length: 200000, dtype: int64"
      ]
     },
     "execution_count": 25,
     "metadata": {},
     "output_type": "execute_result"
    }
   ],
   "source": [
    "label"
   ]
  },
  {
   "cell_type": "code",
   "execution_count": null,
   "metadata": {},
   "outputs": [],
   "source": []
  },
  {
   "cell_type": "code",
   "execution_count": null,
   "metadata": {},
   "outputs": [],
   "source": []
  },
  {
   "cell_type": "code",
   "execution_count": 36,
   "metadata": {},
   "outputs": [],
   "source": [
    "np.save(f\"nn_{roc_auc_score(label, oof)}_oof.npy\", oof)"
   ]
  },
  {
   "cell_type": "code",
   "execution_count": null,
   "metadata": {},
   "outputs": [],
   "source": []
  },
  {
   "cell_type": "code",
   "execution_count": null,
   "metadata": {},
   "outputs": [],
   "source": []
  },
  {
   "cell_type": "code",
   "execution_count": null,
   "metadata": {},
   "outputs": [],
   "source": []
  },
  {
   "cell_type": "code",
   "execution_count": null,
   "metadata": {},
   "outputs": [],
   "source": []
  }
 ],
 "metadata": {
  "kernelspec": {
   "display_name": "Python 3",
   "language": "python",
   "name": "python3"
  },
  "language_info": {
   "codemirror_mode": {
    "name": "ipython",
    "version": 3
   },
   "file_extension": ".py",
   "mimetype": "text/x-python",
   "name": "python",
   "nbconvert_exporter": "python",
   "pygments_lexer": "ipython3",
   "version": "3.7.2"
  }
 },
 "nbformat": 4,
 "nbformat_minor": 2
}
