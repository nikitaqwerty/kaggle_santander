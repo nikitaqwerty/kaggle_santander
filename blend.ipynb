{
 "cells": [
  {
   "cell_type": "code",
   "execution_count": 1,
   "metadata": {},
   "outputs": [],
   "source": [
    "import pandas as pd\n",
    "import numpy as np\n",
    "import lightgbm as lgb\n",
    "\n",
    "from os import listdir\n",
    "from tqdm import tqdm\n",
    "\n",
    "from sklearn.metrics import roc_auc_score\n",
    "from sklearn.preprocessing import StandardScaler, MinMaxScaler, scale \n",
    "from sklearn.model_selection import StratifiedKFold, ParameterSampler\n",
    "from sklearn.linear_model import LogisticRegression\n",
    "from sklearn.neighbors import KNeighborsClassifier\n",
    "from sklearn.svm import SVC\n",
    "\n",
    "input_path = \"../input/\"\n",
    "output_path = \"../output/\""
   ]
  },
  {
   "cell_type": "code",
   "execution_count": 2,
   "metadata": {},
   "outputs": [
    {
     "data": {
      "text/plain": [
       "['nn_0.9163_oof.npy',\n",
       " 'nn_0_0.92162_oof.npy',\n",
       " 'nn_0_0.92191_oof.npy',\n",
       " 'nn_0_0.92225_oof.npy',\n",
       " 'nn_0_0.92226_oof.npy',\n",
       " 'nn_0_0.92269_oof.npy',\n",
       " 'nn_0_0.92273_oof.npy',\n",
       " 'nn_0_0.9229_oof.npy',\n",
       " 'nn_0_0.92345_oof.npy',\n",
       " 'nn_1_0.92213_oof.npy',\n",
       " 'nn_1_0.92217_oof.npy',\n",
       " 'nn_1_0.92266_oof.npy',\n",
       " 'nn_1_0.92273_oof.npy',\n",
       " 'nn_1_0.92294_oof.npy',\n",
       " 'nn_1_0.92311_oof.npy',\n",
       " 'nn_1_0.923_oof.npy',\n",
       " 'nn_2_0.92128_oof.npy',\n",
       " 'nn_2_0.9228_oof.npy',\n",
       " 'nn_2_0.92314_oof.npy',\n",
       " 'nn_2_0.92316_oof.npy',\n",
       " 'nn_3_0.92114_oof.npy',\n",
       " 'nn_3_0.92172_oof.npy',\n",
       " 'nn_3_0.92235_oof.npy',\n",
       " 'nn_3_0.92269_oof.npy',\n",
       " 'nn_3_0.92287_oof.npy',\n",
       " 'nn_3_0.92333_oof.npy',\n",
       " 'nn_4_0.92263_oof.npy',\n",
       " 'nn_4_0.9227_oof.npy',\n",
       " 'nn_4_0.92292_oof.npy',\n",
       " 'nn_5_0.92241_oof.npy',\n",
       " 'nn_5_0.92248_oof.npy',\n",
       " 'nn_5_0.92258_oof.npy',\n",
       " 'nn_5_0.92286_oof.npy',\n",
       " 'nn_5_0.92289_oof.npy',\n",
       " 'nn_aug_0.92303_12_oof.npy']"
      ]
     },
     "execution_count": 2,
     "metadata": {},
     "output_type": "execute_result"
    }
   ],
   "source": [
    "npys = ([f for f in sorted(listdir(output_path)) if f.endswith(\"_oof.npy\") and f[0]!=\"!\" and \"nn\" in f \n",
    "        and (f.split(\"_\")[2]=='oof.npy' or float(f.split(\"_\")[2]) > 0.921)])\n",
    "npys"
   ]
  },
  {
   "cell_type": "code",
   "execution_count": 3,
   "metadata": {},
   "outputs": [
    {
     "data": {
      "text/plain": [
       "['9197_lightgbm_unique_10x_upsample_0104035943.csv',\n",
       " '9199_xgboost_unique_10x_upsample_0104062006.csv',\n",
       " '9202_separate_feature_models_threshold_0.84_10fold_04042353.csv',\n",
       " '9208_separate_feature_models_threshold_0.80_10fold_07041509.csv',\n",
       " '9210_lightgbm_multiplied_counter_10_folds_0604220718.csv',\n",
       " '9211_catboost_unbalanced_weights_0304111611.csv',\n",
       " '9211_catboost_unique_with_10x_upsample_3103172847.csv',\n",
       " '9211_xgboost_multiplied_counter_10_folds_0604015413.csv',\n",
       " '9212_catboost_unique_10x_upsample_5_balancer_0204172825.csv',\n",
       " '9215_catboost_unique_10x_upsample_3_balancer_0204145755.csv',\n",
       " '9218_catboost_excluded_features_10_folds_0804184027.csv',\n",
       " '9218_catboost_multiplied_counter_0304011056.csv',\n",
       " '9219_catboost_best_parameters_10_folds_0704212230.csv',\n",
       " '9222_catboost_multiplied_counter_10_folds_0504034846.csv',\n",
       " '9222_catboost_poisson_bootstrap_10_folds_0804042543.csv',\n",
       " '9223_catboost_unique_10_fold_20x_upsample_0104001611.csv',\n",
       " '9225_catboost_isotonic_09040646.csv']"
      ]
     },
     "execution_count": 3,
     "metadata": {},
     "output_type": "execute_result"
    }
   ],
   "source": [
    "path = \"../kaggle-santander-ctp-2019/predictions/train/\"\n",
    "csvs = [f for f in sorted(listdir(path)) if f.endswith(\".csv\") and \"stacking\" not in f][-17:]\n",
    "csvs"
   ]
  },
  {
   "cell_type": "code",
   "execution_count": null,
   "metadata": {
    "scrolled": true
   },
   "outputs": [
    {
     "name": "stderr",
     "output_type": "stream",
     "text": [
      "\n",
      "  0%|          | 0/35 [00:00<?, ?it/s]\u001b[A\n",
      "  3%|▎         | 1/35 [00:07<03:59,  7.05s/it]\u001b[A\n",
      "  6%|▌         | 2/35 [00:14<03:51,  7.02s/it]\u001b[A\n",
      "  9%|▊         | 3/35 [00:20<03:43,  6.99s/it]\u001b[A\n",
      " 11%|█▏        | 4/35 [00:27<03:36,  6.99s/it]\u001b[A\n",
      " 14%|█▍        | 5/35 [00:34<03:29,  6.97s/it]\u001b[A\n",
      " 17%|█▋        | 6/35 [00:41<03:20,  6.93s/it]\u001b[A\n",
      " 20%|██        | 7/35 [00:48<03:13,  6.90s/it]\u001b[A\n",
      " 23%|██▎       | 8/35 [00:55<03:06,  6.92s/it]\u001b[A\n",
      " 26%|██▌       | 9/35 [01:02<02:58,  6.88s/it]\u001b[A\n",
      " 29%|██▊       | 10/35 [01:09<02:51,  6.86s/it]\u001b[A\n",
      " 31%|███▏      | 11/35 [01:15<02:44,  6.84s/it]\u001b[A\n",
      " 34%|███▍      | 12/35 [01:22<02:37,  6.84s/it]\u001b[A\n",
      " 37%|███▋      | 13/35 [01:29<02:29,  6.82s/it]\u001b[A\n",
      " 40%|████      | 14/35 [01:36<02:23,  6.81s/it]\u001b[A"
     ]
    }
   ],
   "source": [
    "scaler = StandardScaler() #MinMaxScaler StandardScaler\n",
    "\n",
    "dt = pd.DataFrame()\n",
    "\n",
    "df = pd.read_csv(input_path+'train.csv.zip')\n",
    "df = df[[\"target\"]]\n",
    "\n",
    "test_filtered = pd.read_pickle(input_path + 'test_filtered.pkl')\n",
    "\n",
    "cols = []\n",
    "for file in tqdm(npys):\n",
    "    tmp = pd.DataFrame()\n",
    "    \n",
    "    test = np.load(output_path+file.replace(\"_oof.npy\",\"_test.npy\"))\n",
    "    test = list(test[test_filtered.index].reshape(-1, 1))\n",
    "    train = list(np.load(output_path+file).reshape(-1, 1))\n",
    "    \n",
    "    col = file[:-4]\n",
    "    cols.append(col)\n",
    "    \n",
    "    tmp[col] = train + test\n",
    "    tmp[col] = tmp[col].rank()/300000\n",
    "    \n",
    "    df[col] = tmp[col][:200000]\n",
    "    dt[col] = tmp[col][200000:]\n",
    "    \n",
    "for file in tqdm(csvs):\n",
    "    tmp = pd.DataFrame()\n",
    "    \n",
    "    test = pd.read_csv((path+file).replace(\"/train/\",\"/test/\"))\n",
    "    test = list(test.loc[test_filtered.index][\"target\"].values.reshape(-1, 1))\n",
    "    train = list(pd.read_csv(path+file)[\"target\"].values.reshape(-1, 1))\n",
    "    \n",
    "    col = file[:-4]\n",
    "    cols.append(col)\n",
    "    \n",
    "    tmp[col] = train + test\n",
    "    tmp[col] = tmp[col].rank()/300000\n",
    "    \n",
    "    df[col] = tmp[col][:200000]\n",
    "    dt[col] = tmp[col][200000:]\n",
    "    \n",
    "df[\"avg\"] = df[cols].mean(axis=1)\n",
    "dt[\"avg\"] = dt[cols].mean(axis=1)\n",
    "\n",
    "dt.tail()"
   ]
  },
  {
   "cell_type": "markdown",
   "metadata": {},
   "source": [
    "## AVG"
   ]
  },
  {
   "cell_type": "code",
   "execution_count": 210,
   "metadata": {},
   "outputs": [
    {
     "data": {
      "text/plain": [
       "0.9252354151808034"
      ]
     },
     "execution_count": 210,
     "metadata": {},
     "output_type": "execute_result"
    }
   ],
   "source": [
    "roc_auc_score(df.target, df.avg)\n",
    "# 0.9252533319134989"
   ]
  },
  {
   "cell_type": "markdown",
   "metadata": {},
   "source": [
    "## LogReg"
   ]
  },
  {
   "cell_type": "code",
   "execution_count": 211,
   "metadata": {},
   "outputs": [
    {
     "name": "stdout",
     "output_type": "stream",
     "text": [
      "0 ROC AUC: 0.92516\n",
      "1 ROC AUC: 0.92453\n",
      "2 ROC AUC: 0.92437\n",
      "3 ROC AUC: 0.92452\n",
      "4 ROC AUC: 0.93281\n",
      "5 ROC AUC: 0.92858\n",
      "6 ROC AUC: 0.93116\n",
      "7 ROC AUC: 0.92245\n",
      "8 ROC AUC: 0.9251\n",
      "9 ROC AUC: 0.92295\n",
      "\n",
      "ROC AUC: 0.92598\n",
      "CPU times: user 8.82 s, sys: 31.7 s, total: 40.5 s\n",
      "Wall time: 3min 8s\n"
     ]
    }
   ],
   "source": [
    "%%time\n",
    "\n",
    "skf = StratifiedKFold(n_splits=10, shuffle=True, random_state=42)\n",
    "\n",
    "df[\"clf\"] = 0\n",
    "dt[\"clf\"] = 0\n",
    "\n",
    "i = -1\n",
    "for train_index, valid_index in skf.split(df[cols], df.target):\n",
    "    i+=1\n",
    "    \n",
    "    X_train = df.loc[train_index, cols]\n",
    "    X_valid = df.loc[valid_index, cols]\n",
    "\n",
    "    y_train = df.loc[train_index, \"target\"]\n",
    "    y_valid = df.loc[valid_index, \"target\"]\n",
    "    \n",
    "    clf = LogisticRegression(C=0.2,\n",
    "                             solver=\"newton-cg\", \n",
    "                             penalty=\"l2\", \n",
    "                             n_jobs=-1, \n",
    "                             max_iter=100).fit(X_train, y_train) \n",
    "    \n",
    "    y_pred = clf.predict_proba(X_valid)[:,1] \n",
    "    df.loc[valid_index, \"clf\"] = y_pred\n",
    "    print(i, \"ROC AUC:\", round(roc_auc_score(y_valid, y_pred), 5))\n",
    "    \n",
    "    dt[\"clf\"] += clf.predict_proba(dt[cols])[:,1] / skf.n_splits\n",
    "    \n",
    "print(\"\\nROC AUC:\", round(roc_auc_score(df.target, df[\"clf\"]), 5))\n",
    "\n",
    "# 0 ROC AUC: 0.92511\n",
    "# 1 ROC AUC: 0.92445\n",
    "# 2 ROC AUC: 0.92448\n",
    "# 3 ROC AUC: 0.92458\n",
    "# 4 ROC AUC: 0.93283\n",
    "# 5 ROC AUC: 0.92864\n",
    "# 6 ROC AUC: 0.93127\n",
    "# 7 ROC AUC: 0.92235\n",
    "# 8 ROC AUC: 0.92514\n",
    "# 9 ROC AUC: 0.92289\n",
    "\n",
    "# ROC AUC: 0.92597\n",
    "# CPU times: user 10.1 s, sys: 33 s, total: 43.1 s\n",
    "# Wall time: 2min 39s\n",
    "\n",
    "# 0 ROC AUC: 0.92516\n",
    "# 1 ROC AUC: 0.9245\n",
    "# 2 ROC AUC: 0.92443\n",
    "# 3 ROC AUC: 0.92452\n",
    "# 4 ROC AUC: 0.93274\n",
    "# 5 ROC AUC: 0.92859\n",
    "# 6 ROC AUC: 0.9312\n",
    "# 7 ROC AUC: 0.9224\n",
    "# 8 ROC AUC: 0.92507\n",
    "# 9 ROC AUC: 0.92297\n",
    "\n",
    "# ROC AUC: 0.92598\n",
    "# CPU times: user 10.3 s, sys: 33 s, total: 43.3 s\n",
    "# Wall time: 2min 36s"
   ]
  },
  {
   "cell_type": "code",
   "execution_count": 220,
   "metadata": {},
   "outputs": [
    {
     "data": {
      "text/html": [
       "<div>\n",
       "<style scoped>\n",
       "    .dataframe tbody tr th:only-of-type {\n",
       "        vertical-align: middle;\n",
       "    }\n",
       "\n",
       "    .dataframe tbody tr th {\n",
       "        vertical-align: top;\n",
       "    }\n",
       "\n",
       "    .dataframe thead th {\n",
       "        text-align: right;\n",
       "    }\n",
       "</style>\n",
       "<table border=\"1\" class=\"dataframe\">\n",
       "  <thead>\n",
       "    <tr style=\"text-align: right;\">\n",
       "      <th></th>\n",
       "      <th>ID_code</th>\n",
       "      <th>target</th>\n",
       "    </tr>\n",
       "  </thead>\n",
       "  <tbody>\n",
       "    <tr>\n",
       "      <th>0</th>\n",
       "      <td>test_0</td>\n",
       "      <td>0.000000</td>\n",
       "    </tr>\n",
       "    <tr>\n",
       "      <th>1</th>\n",
       "      <td>test_1</td>\n",
       "      <td>0.000000</td>\n",
       "    </tr>\n",
       "    <tr>\n",
       "      <th>2</th>\n",
       "      <td>test_2</td>\n",
       "      <td>0.000000</td>\n",
       "    </tr>\n",
       "    <tr>\n",
       "      <th>3</th>\n",
       "      <td>test_3</td>\n",
       "      <td>0.007340</td>\n",
       "    </tr>\n",
       "    <tr>\n",
       "      <th>4</th>\n",
       "      <td>test_4</td>\n",
       "      <td>0.000000</td>\n",
       "    </tr>\n",
       "    <tr>\n",
       "      <th>5</th>\n",
       "      <td>test_5</td>\n",
       "      <td>0.000000</td>\n",
       "    </tr>\n",
       "    <tr>\n",
       "      <th>6</th>\n",
       "      <td>test_6</td>\n",
       "      <td>0.000000</td>\n",
       "    </tr>\n",
       "    <tr>\n",
       "      <th>7</th>\n",
       "      <td>test_7</td>\n",
       "      <td>0.561719</td>\n",
       "    </tr>\n",
       "    <tr>\n",
       "      <th>8</th>\n",
       "      <td>test_8</td>\n",
       "      <td>0.000000</td>\n",
       "    </tr>\n",
       "    <tr>\n",
       "      <th>9</th>\n",
       "      <td>test_9</td>\n",
       "      <td>0.000000</td>\n",
       "    </tr>\n",
       "    <tr>\n",
       "      <th>10</th>\n",
       "      <td>test_10</td>\n",
       "      <td>0.000000</td>\n",
       "    </tr>\n",
       "    <tr>\n",
       "      <th>11</th>\n",
       "      <td>test_11</td>\n",
       "      <td>0.002269</td>\n",
       "    </tr>\n",
       "    <tr>\n",
       "      <th>12</th>\n",
       "      <td>test_12</td>\n",
       "      <td>0.000000</td>\n",
       "    </tr>\n",
       "    <tr>\n",
       "      <th>13</th>\n",
       "      <td>test_13</td>\n",
       "      <td>0.000000</td>\n",
       "    </tr>\n",
       "    <tr>\n",
       "      <th>14</th>\n",
       "      <td>test_14</td>\n",
       "      <td>0.000000</td>\n",
       "    </tr>\n",
       "    <tr>\n",
       "      <th>15</th>\n",
       "      <td>test_15</td>\n",
       "      <td>0.000682</td>\n",
       "    </tr>\n",
       "    <tr>\n",
       "      <th>16</th>\n",
       "      <td>test_16</td>\n",
       "      <td>0.000136</td>\n",
       "    </tr>\n",
       "    <tr>\n",
       "      <th>17</th>\n",
       "      <td>test_17</td>\n",
       "      <td>0.003103</td>\n",
       "    </tr>\n",
       "    <tr>\n",
       "      <th>18</th>\n",
       "      <td>test_18</td>\n",
       "      <td>0.000535</td>\n",
       "    </tr>\n",
       "    <tr>\n",
       "      <th>19</th>\n",
       "      <td>test_19</td>\n",
       "      <td>0.000000</td>\n",
       "    </tr>\n",
       "  </tbody>\n",
       "</table>\n",
       "</div>"
      ],
      "text/plain": [
       "    ID_code    target\n",
       "0    test_0  0.000000\n",
       "1    test_1  0.000000\n",
       "2    test_2  0.000000\n",
       "3    test_3  0.007340\n",
       "4    test_4  0.000000\n",
       "5    test_5  0.000000\n",
       "6    test_6  0.000000\n",
       "7    test_7  0.561719\n",
       "8    test_8  0.000000\n",
       "9    test_9  0.000000\n",
       "10  test_10  0.000000\n",
       "11  test_11  0.002269\n",
       "12  test_12  0.000000\n",
       "13  test_13  0.000000\n",
       "14  test_14  0.000000\n",
       "15  test_15  0.000682\n",
       "16  test_16  0.000136\n",
       "17  test_17  0.003103\n",
       "18  test_18  0.000535\n",
       "19  test_19  0.000000"
      ]
     },
     "execution_count": 220,
     "metadata": {},
     "output_type": "execute_result"
    }
   ],
   "source": [
    "sub = pd.read_csv(input_path+'sample_submission.csv.zip')\n",
    "sub.loc[test_filtered.index,\"target\"] = dt[\"clf\"]\n",
    "sub.head(20)"
   ]
  },
  {
   "cell_type": "code",
   "execution_count": 222,
   "metadata": {},
   "outputs": [],
   "source": [
    "sub.to_csv(output_path + \"best_blend_no_fake.csv\", index=False)"
   ]
  },
  {
   "cell_type": "code",
   "execution_count": 175,
   "metadata": {},
   "outputs": [
    {
     "name": "stdout",
     "output_type": "stream",
     "text": [
      " best_auc_nn_0.pkl\t  nn_0_0.92226_test.npy   nn_3_0.92114_test.npy\r\n",
      " best_auc_nn_1.pkl\t  nn_0_0.92269_oof.npy\t  nn_3_0.92172_oof.npy\r\n",
      " best_auc_nn_2.pkl\t  nn_0_0.92269_test.npy   nn_3_0.92172_test.npy\r\n",
      " best_auc_nn_3.pkl\t  nn_0_0.92273_oof.npy\t  nn_3_0.92235_oof.npy\r\n",
      " best_auc_nn.pkl\t  nn_0_0.92273_test.npy   nn_3_0.92235_test.npy\r\n",
      " best_blend_10.csv\t  nn_0_0.9229_oof.npy\t  nn_3_0.92269_oof.npy\r\n",
      " best_blend_13.csv\t  nn_0_0.9229_test.npy\t  nn_3_0.92269_test.npy\r\n",
      " best_blend_19.csv\t  nn_0_0.92345_oof.npy\t  nn_3_0.92287_oof.npy\r\n",
      " best_blend_25.csv\t  nn_0_0.92345_test.npy   nn_3_0.92287_test.npy\r\n",
      " best_blend_33.csv\t  nn_0.9163_oof.npy\t  nn_3_0.92333_oof.npy\r\n",
      " best_blend_47.csv\t  nn_0.9163_test.npy\t  nn_3_0.92333_test.npy\r\n",
      " best_blend_7.csv\t  nn_1_0.92213_oof.npy\t  nn_4_0.92096_oof.npy\r\n",
      " best_blend_8.csv\t  nn_1_0.92213_test.npy   nn_4_0.92096_test.npy\r\n",
      " best_blend_.csv\t  nn_1_0.92217_oof.npy\t  nn_4_0.92263_oof.npy\r\n",
      " best_blend.csv\t\t  nn_1_0.92217_test.npy   nn_4_0.92263_test.npy\r\n",
      "'!cat_0.91558_oof.npy'\t  nn_1_0.92266_oof.npy\t  nn_4_0.9227_oof.npy\r\n",
      "'!cat_0.91558_test.npy'   nn_1_0.92266_test.npy   nn_4_0.9227_test.npy\r\n",
      " cat_0.91617_oof.npy\t  nn_1_0.92273_oof.npy\t  nn_4_0.92292_oof.npy\r\n",
      " cat_0.91617_test.npy\t  nn_1_0.92273_test.npy   nn_4_0.92292_test.npy\r\n",
      " data_1_cont.pkl\t  nn_1_0.92294_oof.npy\t  nn_5_0.92241_oof.npy\r\n",
      " hpo_logs_0.json\t  nn_1_0.92294_test.npy   nn_5_0.92241_test.npy\r\n",
      " hpo_logs_1.json\t  nn_1_0.92311_oof.npy\t  nn_5_0.92248_oof.npy\r\n",
      " hpo_logs_2.json\t  nn_1_0.92311_test.npy   nn_5_0.92248_test.npy\r\n",
      " hpo_logs_3.json\t  nn_1_0.923_oof.npy\t  nn_5_0.92258_oof.npy\r\n",
      " hpo_logs_4.json\t  nn_1_0.923_test.npy\t  nn_5_0.92258_test.npy\r\n",
      " hpo_logs_5.json\t  nn_2_0.92013_oof.npy\t  nn_5_0.92286_oof.npy\r\n",
      " lgb_0.91145_oof.npy\t  nn_2_0.92013_test.npy   nn_5_0.92286_test.npy\r\n",
      " lgb_0.91145_test.npy\t  nn_2_0.92128_oof.npy\t  nn_5_0.92289_oof.npy\r\n",
      " lgb_0.91305_oof.npy\t  nn_2_0.92128_test.npy   nn_5_0.92289_test.npy\r\n",
      " lgb_0.91305_test.npy\t  nn_2_0.9228_oof.npy\t  nn_aug_0.92303_12_oof.npy\r\n",
      " models\t\t\t  nn_2_0.9228_test.npy\t  nn_aug_0.92303_12_test.npy\r\n",
      " nn_0_0.92162_oof.npy\t  nn_2_0.92314_oof.npy\t  predictions\r\n",
      " nn_0_0.92162_test.npy\t  nn_2_0.92314_test.npy   train_1.bin\r\n",
      " nn_0_0.92191_oof.npy\t  nn_2_0.92316_oof.npy\t  train_1.feather\r\n",
      " nn_0_0.92191_test.npy\t  nn_2_0.92316_test.npy   train_1.npy\r\n",
      " nn_0_0.92225_oof.npy\t  nn_3_0.91834_oof.npy\t  valid_1.bin\r\n",
      " nn_0_0.92225_test.npy\t  nn_3_0.91834_test.npy   xgb_0.91221_oof.npy\r\n",
      " nn_0_0.92226_oof.npy\t  nn_3_0.92114_oof.npy\t  xgb_0.91221_test.npy\r\n"
     ]
    }
   ],
   "source": [
    "!ls ../output/"
   ]
  },
  {
   "cell_type": "code",
   "execution_count": 176,
   "metadata": {},
   "outputs": [
    {
     "name": "stdout",
     "output_type": "stream",
     "text": [
      "100%|██████████████████████████████████████| 6.17M/6.17M [00:05<00:00, 1.22MB/s]\n",
      "Successfully submitted to Santander Customer Transaction Prediction"
     ]
    }
   ],
   "source": [
    "# !kaggle competitions submit -c santander-customer-transaction-prediction -f ../output/best_blend_no_fake.csv -m \"0.92598 10-folds reg\""
   ]
  }
 ],
 "metadata": {
  "kernelspec": {
   "display_name": "Python 3",
   "language": "python",
   "name": "python3"
  },
  "language_info": {
   "codemirror_mode": {
    "name": "ipython",
    "version": 3
   },
   "file_extension": ".py",
   "mimetype": "text/x-python",
   "name": "python",
   "nbconvert_exporter": "python",
   "pygments_lexer": "ipython3",
   "version": "3.7.1"
  }
 },
 "nbformat": 4,
 "nbformat_minor": 2
}
