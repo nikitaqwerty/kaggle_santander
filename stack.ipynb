{
 "cells": [
  {
   "cell_type": "code",
   "execution_count": 275,
   "metadata": {},
   "outputs": [],
   "source": [
    "import pandas as pd\n",
    "import numpy as np\n",
    "import lightgbm as lgb\n",
    "\n",
    "from os import listdir\n",
    "from tqdm import tqdm\n",
    "\n",
    "from sklearn.metrics import roc_auc_score\n",
    "from sklearn.preprocessing import StandardScaler, MinMaxScaler \n",
    "from sklearn.model_selection import StratifiedKFold, ParameterSampler\n",
    "from sklearn.linear_model import LogisticRegression\n",
    "from sklearn.neighbors import KNeighborsClassifier\n",
    "from sklearn.svm import SVC\n",
    "\n",
    "intput_path = \"../input/\"\n",
    "output_path = \"../output/\""
   ]
  },
  {
   "cell_type": "code",
   "execution_count": null,
   "metadata": {},
   "outputs": [],
   "source": [
    "# df = pd.read_csv(output_path+\"nn_aug_92303_12_test.csv\")\n",
    "# np.save(output_path+\"nn_aug_92303_12_test.npy\",df.target)"
   ]
  },
  {
   "cell_type": "code",
   "execution_count": 276,
   "metadata": {},
   "outputs": [
    {
     "data": {
      "text/plain": [
       "['nn_0.9163_oof.npy',\n",
       " 'nn_0_0.92162_oof.npy',\n",
       " 'nn_0_0.92191_oof.npy',\n",
       " 'nn_0_0.92225_oof.npy',\n",
       " 'nn_0_0.92226_oof.npy',\n",
       " 'nn_0_0.92269_oof.npy',\n",
       " 'nn_0_0.9229_oof.npy',\n",
       " 'nn_0_0.92345_oof.npy',\n",
       " 'nn_1_0.92213_oof.npy',\n",
       " 'nn_1_0.92217_oof.npy',\n",
       " 'nn_1_0.92266_oof.npy',\n",
       " 'nn_1_0.92273_oof.npy',\n",
       " 'nn_1_0.92294_oof.npy',\n",
       " 'nn_1_0.923_oof.npy',\n",
       " 'nn_2_0.92013_oof.npy',\n",
       " 'nn_2_0.92128_oof.npy',\n",
       " 'nn_2_0.9228_oof.npy',\n",
       " 'nn_2_0.92314_oof.npy',\n",
       " 'nn_3_0.91834_oof.npy',\n",
       " 'nn_3_0.92114_oof.npy',\n",
       " 'nn_3_0.92172_oof.npy',\n",
       " 'nn_3_0.92235_oof.npy',\n",
       " 'nn_3_0.92269_oof.npy',\n",
       " 'nn_3_0.92287_oof.npy',\n",
       " 'nn_4_0.92096_oof.npy',\n",
       " 'nn_4_0.9227_oof.npy',\n",
       " 'nn_4_0.92292_oof.npy',\n",
       " 'nn_5_0.92241_oof.npy',\n",
       " 'nn_5_0.92258_oof.npy',\n",
       " 'nn_5_0.92286_oof.npy',\n",
       " 'nn_5_0.92289_oof.npy',\n",
       " 'nn_aug_0.92303_12_oof.npy']"
      ]
     },
     "execution_count": 276,
     "metadata": {},
     "output_type": "execute_result"
    }
   ],
   "source": [
    "npys = [f for f in sorted(listdir(output_path)) if f.endswith(\"_oof.npy\") and f[0]!=\"!\" and \"nn\" in f]\n",
    "npys"
   ]
  },
  {
   "cell_type": "code",
   "execution_count": 277,
   "metadata": {},
   "outputs": [
    {
     "data": {
      "text/plain": [
       "['9202_separate_feature_models_threshold_0.84_10fold_04042353.csv',\n",
       " '9210_lightgbm_multiplied_counter_10_folds_0604220718.csv',\n",
       " '9211_catboost_unbalanced_weights_0304111611.csv',\n",
       " '9211_catboost_unique_with_10x_upsample_3103172847.csv',\n",
       " '9211_xgboost_multiplied_counter_10_folds_0604015413.csv',\n",
       " '9212_catboost_unique_10x_upsample_5_balancer_0204172825.csv',\n",
       " '9215_catboost_unique_10x_upsample_3_balancer_0204145755.csv',\n",
       " '9218_catboost_multiplied_counter_0304011056.csv',\n",
       " '9222_catboost_multiplied_counter_10_folds_0504034846.csv']"
      ]
     },
     "execution_count": 277,
     "metadata": {},
     "output_type": "execute_result"
    }
   ],
   "source": [
    "path = \"../kaggle-santander-ctp-2019/predictions/train/\"\n",
    "csvs = [f for f in sorted(listdir(path)) if f.endswith(\".csv\")][-10:-1]\n",
    "csvs"
   ]
  },
  {
   "cell_type": "code",
   "execution_count": 278,
   "metadata": {
    "scrolled": true
   },
   "outputs": [
    {
     "name": "stderr",
     "output_type": "stream",
     "text": [
      "100%|██████████| 32/32 [00:07<00:00,  4.46it/s]\n",
      "100%|██████████| 9/9 [00:04<00:00,  2.09it/s]\n"
     ]
    },
    {
     "data": {
      "text/html": [
       "<div>\n",
       "<style scoped>\n",
       "    .dataframe tbody tr th:only-of-type {\n",
       "        vertical-align: middle;\n",
       "    }\n",
       "\n",
       "    .dataframe tbody tr th {\n",
       "        vertical-align: top;\n",
       "    }\n",
       "\n",
       "    .dataframe thead th {\n",
       "        text-align: right;\n",
       "    }\n",
       "</style>\n",
       "<table border=\"1\" class=\"dataframe\">\n",
       "  <thead>\n",
       "    <tr style=\"text-align: right;\">\n",
       "      <th></th>\n",
       "      <th>nn_0.9163_oof</th>\n",
       "      <th>nn_0_0.92162_oof</th>\n",
       "      <th>nn_0_0.92191_oof</th>\n",
       "      <th>nn_0_0.92225_oof</th>\n",
       "      <th>nn_0_0.92226_oof</th>\n",
       "      <th>nn_0_0.92269_oof</th>\n",
       "      <th>nn_0_0.9229_oof</th>\n",
       "      <th>nn_0_0.92345_oof</th>\n",
       "      <th>nn_1_0.92213_oof</th>\n",
       "      <th>nn_1_0.92217_oof</th>\n",
       "      <th>...</th>\n",
       "      <th>9202_separate_feature_models_threshold_0.84_10fold_04042353</th>\n",
       "      <th>9210_lightgbm_multiplied_counter_10_folds_0604220718</th>\n",
       "      <th>9211_catboost_unbalanced_weights_0304111611</th>\n",
       "      <th>9211_catboost_unique_with_10x_upsample_3103172847</th>\n",
       "      <th>9211_xgboost_multiplied_counter_10_folds_0604015413</th>\n",
       "      <th>9212_catboost_unique_10x_upsample_5_balancer_0204172825</th>\n",
       "      <th>9215_catboost_unique_10x_upsample_3_balancer_0204145755</th>\n",
       "      <th>9218_catboost_multiplied_counter_0304011056</th>\n",
       "      <th>9222_catboost_multiplied_counter_10_folds_0504034846</th>\n",
       "      <th>avg</th>\n",
       "    </tr>\n",
       "  </thead>\n",
       "  <tbody>\n",
       "    <tr>\n",
       "      <th>199995</th>\n",
       "      <td>0.616195</td>\n",
       "      <td>0.714505</td>\n",
       "      <td>0.718645</td>\n",
       "      <td>0.722255</td>\n",
       "      <td>0.673865</td>\n",
       "      <td>0.678235</td>\n",
       "      <td>0.688590</td>\n",
       "      <td>0.707060</td>\n",
       "      <td>0.679740</td>\n",
       "      <td>0.67967</td>\n",
       "      <td>...</td>\n",
       "      <td>0.660345</td>\n",
       "      <td>0.713650</td>\n",
       "      <td>0.69927</td>\n",
       "      <td>0.701005</td>\n",
       "      <td>0.748400</td>\n",
       "      <td>0.668475</td>\n",
       "      <td>0.700525</td>\n",
       "      <td>0.75771</td>\n",
       "      <td>0.763175</td>\n",
       "      <td>0.702241</td>\n",
       "    </tr>\n",
       "    <tr>\n",
       "      <th>199996</th>\n",
       "      <td>0.417985</td>\n",
       "      <td>0.397495</td>\n",
       "      <td>0.380930</td>\n",
       "      <td>0.365575</td>\n",
       "      <td>0.399345</td>\n",
       "      <td>0.428905</td>\n",
       "      <td>0.403120</td>\n",
       "      <td>0.377375</td>\n",
       "      <td>0.412225</td>\n",
       "      <td>0.37791</td>\n",
       "      <td>...</td>\n",
       "      <td>0.230530</td>\n",
       "      <td>0.342400</td>\n",
       "      <td>0.30994</td>\n",
       "      <td>0.303695</td>\n",
       "      <td>0.376075</td>\n",
       "      <td>0.236135</td>\n",
       "      <td>0.274450</td>\n",
       "      <td>0.35390</td>\n",
       "      <td>0.359545</td>\n",
       "      <td>0.375086</td>\n",
       "    </tr>\n",
       "    <tr>\n",
       "      <th>199997</th>\n",
       "      <td>0.128315</td>\n",
       "      <td>0.040915</td>\n",
       "      <td>0.043125</td>\n",
       "      <td>0.062400</td>\n",
       "      <td>0.049090</td>\n",
       "      <td>0.034770</td>\n",
       "      <td>0.054815</td>\n",
       "      <td>0.045875</td>\n",
       "      <td>0.031495</td>\n",
       "      <td>0.05127</td>\n",
       "      <td>...</td>\n",
       "      <td>0.066400</td>\n",
       "      <td>0.031110</td>\n",
       "      <td>0.04637</td>\n",
       "      <td>0.045305</td>\n",
       "      <td>0.037645</td>\n",
       "      <td>0.057385</td>\n",
       "      <td>0.050690</td>\n",
       "      <td>0.04199</td>\n",
       "      <td>0.045770</td>\n",
       "      <td>0.045240</td>\n",
       "    </tr>\n",
       "    <tr>\n",
       "      <th>199998</th>\n",
       "      <td>0.801670</td>\n",
       "      <td>0.650645</td>\n",
       "      <td>0.616930</td>\n",
       "      <td>0.669095</td>\n",
       "      <td>0.675050</td>\n",
       "      <td>0.586565</td>\n",
       "      <td>0.660420</td>\n",
       "      <td>0.652300</td>\n",
       "      <td>0.651735</td>\n",
       "      <td>0.65459</td>\n",
       "      <td>...</td>\n",
       "      <td>0.750130</td>\n",
       "      <td>0.766750</td>\n",
       "      <td>0.76142</td>\n",
       "      <td>0.761250</td>\n",
       "      <td>0.761065</td>\n",
       "      <td>0.751150</td>\n",
       "      <td>0.744315</td>\n",
       "      <td>0.75148</td>\n",
       "      <td>0.749940</td>\n",
       "      <td>0.674171</td>\n",
       "    </tr>\n",
       "    <tr>\n",
       "      <th>199999</th>\n",
       "      <td>0.235155</td>\n",
       "      <td>0.581800</td>\n",
       "      <td>0.553475</td>\n",
       "      <td>0.558465</td>\n",
       "      <td>0.561545</td>\n",
       "      <td>0.536475</td>\n",
       "      <td>0.550650</td>\n",
       "      <td>0.568990</td>\n",
       "      <td>0.535105</td>\n",
       "      <td>0.53024</td>\n",
       "      <td>...</td>\n",
       "      <td>0.737930</td>\n",
       "      <td>0.562935</td>\n",
       "      <td>0.66950</td>\n",
       "      <td>0.670620</td>\n",
       "      <td>0.548810</td>\n",
       "      <td>0.634435</td>\n",
       "      <td>0.638570</td>\n",
       "      <td>0.53344</td>\n",
       "      <td>0.560230</td>\n",
       "      <td>0.551073</td>\n",
       "    </tr>\n",
       "  </tbody>\n",
       "</table>\n",
       "<p>5 rows × 42 columns</p>\n",
       "</div>"
      ],
      "text/plain": [
       "        nn_0.9163_oof  nn_0_0.92162_oof  nn_0_0.92191_oof  nn_0_0.92225_oof  \\\n",
       "199995       0.616195          0.714505          0.718645          0.722255   \n",
       "199996       0.417985          0.397495          0.380930          0.365575   \n",
       "199997       0.128315          0.040915          0.043125          0.062400   \n",
       "199998       0.801670          0.650645          0.616930          0.669095   \n",
       "199999       0.235155          0.581800          0.553475          0.558465   \n",
       "\n",
       "        nn_0_0.92226_oof  nn_0_0.92269_oof  nn_0_0.9229_oof  nn_0_0.92345_oof  \\\n",
       "199995          0.673865          0.678235         0.688590          0.707060   \n",
       "199996          0.399345          0.428905         0.403120          0.377375   \n",
       "199997          0.049090          0.034770         0.054815          0.045875   \n",
       "199998          0.675050          0.586565         0.660420          0.652300   \n",
       "199999          0.561545          0.536475         0.550650          0.568990   \n",
       "\n",
       "        nn_1_0.92213_oof  nn_1_0.92217_oof  ...  \\\n",
       "199995          0.679740           0.67967  ...   \n",
       "199996          0.412225           0.37791  ...   \n",
       "199997          0.031495           0.05127  ...   \n",
       "199998          0.651735           0.65459  ...   \n",
       "199999          0.535105           0.53024  ...   \n",
       "\n",
       "        9202_separate_feature_models_threshold_0.84_10fold_04042353  \\\n",
       "199995                                           0.660345             \n",
       "199996                                           0.230530             \n",
       "199997                                           0.066400             \n",
       "199998                                           0.750130             \n",
       "199999                                           0.737930             \n",
       "\n",
       "        9210_lightgbm_multiplied_counter_10_folds_0604220718  \\\n",
       "199995                                           0.713650      \n",
       "199996                                           0.342400      \n",
       "199997                                           0.031110      \n",
       "199998                                           0.766750      \n",
       "199999                                           0.562935      \n",
       "\n",
       "        9211_catboost_unbalanced_weights_0304111611  \\\n",
       "199995                                      0.69927   \n",
       "199996                                      0.30994   \n",
       "199997                                      0.04637   \n",
       "199998                                      0.76142   \n",
       "199999                                      0.66950   \n",
       "\n",
       "        9211_catboost_unique_with_10x_upsample_3103172847  \\\n",
       "199995                                           0.701005   \n",
       "199996                                           0.303695   \n",
       "199997                                           0.045305   \n",
       "199998                                           0.761250   \n",
       "199999                                           0.670620   \n",
       "\n",
       "        9211_xgboost_multiplied_counter_10_folds_0604015413  \\\n",
       "199995                                           0.748400     \n",
       "199996                                           0.376075     \n",
       "199997                                           0.037645     \n",
       "199998                                           0.761065     \n",
       "199999                                           0.548810     \n",
       "\n",
       "        9212_catboost_unique_10x_upsample_5_balancer_0204172825  \\\n",
       "199995                                           0.668475         \n",
       "199996                                           0.236135         \n",
       "199997                                           0.057385         \n",
       "199998                                           0.751150         \n",
       "199999                                           0.634435         \n",
       "\n",
       "        9215_catboost_unique_10x_upsample_3_balancer_0204145755  \\\n",
       "199995                                           0.700525         \n",
       "199996                                           0.274450         \n",
       "199997                                           0.050690         \n",
       "199998                                           0.744315         \n",
       "199999                                           0.638570         \n",
       "\n",
       "        9218_catboost_multiplied_counter_0304011056  \\\n",
       "199995                                      0.75771   \n",
       "199996                                      0.35390   \n",
       "199997                                      0.04199   \n",
       "199998                                      0.75148   \n",
       "199999                                      0.53344   \n",
       "\n",
       "        9222_catboost_multiplied_counter_10_folds_0504034846       avg  \n",
       "199995                                           0.763175     0.702241  \n",
       "199996                                           0.359545     0.375086  \n",
       "199997                                           0.045770     0.045240  \n",
       "199998                                           0.749940     0.674171  \n",
       "199999                                           0.560230     0.551073  \n",
       "\n",
       "[5 rows x 42 columns]"
      ]
     },
     "execution_count": 278,
     "metadata": {},
     "output_type": "execute_result"
    }
   ],
   "source": [
    "scaler = StandardScaler() #MinMaxScaler StandardScaler\n",
    "\n",
    "dt = pd.DataFrame()\n",
    "\n",
    "df = pd.read_csv(intput_path+'train.csv.zip')\n",
    "df = df[[\"target\"]]\n",
    "\n",
    "cols = []\n",
    "for file in tqdm(npys):\n",
    "    train = np.load(output_path+file).reshape(-1, 1)\n",
    "    col = file[:-4]\n",
    "    cols.append(col)\n",
    "    df[col] = scaler.fit_transform(train)\n",
    "    df[col] = df[col].rank()/len(df)\n",
    "    \n",
    "    test = np.load(output_path+file.replace(\"_oof.npy\",\"_test.npy\")).reshape(-1, 1)\n",
    "    dt[col] = [x[0] for x in scaler.transform(test)]\n",
    "    dt[col] = dt[col].rank()/len(dt)\n",
    "    \n",
    "for file in tqdm(csvs):\n",
    "    train = pd.read_csv(path+file)[\"target\"].values.reshape(-1, 1)\n",
    "    col = file[:-4]\n",
    "    cols.append(col)\n",
    "    df[col] = scaler.fit_transform(train)\n",
    "    df[col] = df[col].rank()/len(df)\n",
    "    \n",
    "    test = pd.read_csv((path+file).replace(\"/train/\",\"/test/\"))[\"target\"].values.reshape(-1, 1)\n",
    "    dt[col] = [x[0] for x in scaler.transform(test)]\n",
    "    dt[col] = dt[col].rank()/len(dt)\n",
    "    \n",
    "df[\"avg\"] = df[cols].mean(axis=1)\n",
    "dt[\"avg\"] = dt[cols].mean(axis=1)\n",
    "\n",
    "dt.tail()"
   ]
  },
  {
   "cell_type": "code",
   "execution_count": 250,
   "metadata": {},
   "outputs": [],
   "source": [
    "# df[cols].corr()"
   ]
  },
  {
   "cell_type": "markdown",
   "metadata": {},
   "source": [
    "## AVG"
   ]
  },
  {
   "cell_type": "code",
   "execution_count": 279,
   "metadata": {},
   "outputs": [
    {
     "data": {
      "text/plain": [
       "0.9251269625407526"
      ]
     },
     "execution_count": 279,
     "metadata": {},
     "output_type": "execute_result"
    }
   ],
   "source": [
    "roc_auc_score(df.target, df.avg)\n",
    "# 0.9251915256713572"
   ]
  },
  {
   "cell_type": "markdown",
   "metadata": {},
   "source": [
    "## LogReg"
   ]
  },
  {
   "cell_type": "code",
   "execution_count": null,
   "metadata": {},
   "outputs": [
    {
     "name": "stdout",
     "output_type": "stream",
     "text": [
      "0 ROC AUC: 0.92495\n",
      "1 ROC AUC: 0.92426\n",
      "2 ROC AUC: 0.92433\n",
      "3 ROC AUC: 0.92466\n",
      "4 ROC AUC: 0.93257\n",
      "5 ROC AUC: 0.92846\n",
      "6 ROC AUC: 0.93125\n"
     ]
    }
   ],
   "source": [
    "%%time\n",
    "\n",
    "skf = StratifiedKFold(n_splits=10, shuffle=True, random_state=42)\n",
    "\n",
    "df[\"clf\"] = 0\n",
    "dt[\"clf\"] = 0\n",
    "\n",
    "i = -1\n",
    "for train_index, valid_index in skf.split(df[cols], df.target):\n",
    "    i+=1\n",
    "    \n",
    "    X_train = df.loc[train_index, cols]\n",
    "    X_valid = df.loc[valid_index, cols]\n",
    "\n",
    "    y_train = df.loc[train_index, \"target\"]\n",
    "    y_valid = df.loc[valid_index, \"target\"]\n",
    "    \n",
    "    clf = LogisticRegression(C=0.2,\n",
    "                             solver=\"newton-cg\", \n",
    "                             penalty=\"l2\", \n",
    "                             n_jobs=-1, \n",
    "                             max_iter=100).fit(X_train, y_train) \n",
    "    \n",
    "    y_pred = clf.predict_proba(X_valid)[:,1] \n",
    "    df.loc[valid_index, \"clf\"] = y_pred\n",
    "    print(i, \"ROC AUC:\", round(roc_auc_score(y_valid, y_pred), 5))\n",
    "    \n",
    "    dt[\"clf\"] += clf.predict_proba(dt[cols])[:,1] / skf.n_splits\n",
    "    \n",
    "print(\"\\nROC AUC:\", round(roc_auc_score(df.target, df[\"clf\"]), 5))\n",
    "\n",
    "# 0 ROC AUC: 0.92483\n",
    "# 1 ROC AUC: 0.92427\n",
    "# 2 ROC AUC: 0.92425\n",
    "# 3 ROC AUC: 0.92452\n",
    "# 4 ROC AUC: 0.93263\n",
    "# 5 ROC AUC: 0.9283\n",
    "# 6 ROC AUC: 0.93111\n",
    "# 7 ROC AUC: 0.92226\n",
    "# 8 ROC AUC: 0.92461\n",
    "# 9 ROC AUC: 0.92265\n",
    "\n",
    "# ROC AUC: 0.92578\n",
    "# CPU times: user 8.23 s, sys: 29.4 s, total: 37.6 s\n",
    "# Wall time: 2min 29s"
   ]
  },
  {
   "cell_type": "code",
   "execution_count": 231,
   "metadata": {},
   "outputs": [
    {
     "data": {
      "text/plain": [
       "array([ 1.62009887, -0.45784856, -0.63842818,  0.96557744,  0.7542414 ,\n",
       "       -0.0303314 ,  0.25727697,  1.3541581 ,  1.14909264,  0.91993796,\n",
       "        0.58737518,  0.68558848, -0.19183056,  1.41634904,  0.59627237,\n",
       "       -0.66493084,  1.00878276, -1.28544382, -0.4684217 ,  0.86145369,\n",
       "       -1.26238016, -0.16440808, -0.04295207,  0.61308687,  0.81953471,\n",
       "        0.28270074,  1.655476  ,  0.6196612 , -0.41033778, -0.57153195,\n",
       "        0.43188009, -0.68106611, -0.37624222,  1.10256483,  0.76206081])"
      ]
     },
     "execution_count": 231,
     "metadata": {},
     "output_type": "execute_result"
    }
   ],
   "source": [
    "clf.coef_[0]"
   ]
  },
  {
   "cell_type": "code",
   "execution_count": 225,
   "metadata": {},
   "outputs": [],
   "source": [
    "# %%time\n",
    "\n",
    "# skf = StratifiedKFold(n_splits=5, shuffle=True, random_state=42)\n",
    "\n",
    "# df[\"clf\"] = 0\n",
    "# dt[\"clf\"] = 0\n",
    "\n",
    "# i = -1\n",
    "# for train_index, valid_index in skf.split(df[cols], df.target):\n",
    "#     i+=1\n",
    "    \n",
    "#     X_train = df.loc[train_index, cols]\n",
    "#     X_valid = df.loc[valid_index, cols]\n",
    "\n",
    "#     y_train = df.loc[train_index, \"target\"]\n",
    "#     y_valid = df.loc[valid_index, \"target\"]\n",
    "    \n",
    "#     clf = LogisticRegression(C=0.5,\n",
    "#                              solver=\"newton-cg\", \n",
    "#                              penalty=\"l2\", \n",
    "#                              n_jobs=-1, \n",
    "#                              max_iter=100).fit(X_train, y_train) \n",
    "    \n",
    "#     y_pred = clf.predict_proba(X_valid)[:,1] \n",
    "#     df.loc[valid_index, \"clf\"] = y_pred\n",
    "#     print(i, \"ROC AUC:\", round(roc_auc_score(y_valid, y_pred), 4))\n",
    "    \n",
    "#     dt[\"clf\"] += clf.predict_proba(dt[cols])[:,1] / skf.n_splits\n",
    "    \n",
    "# print(\"\\nROC AUC:\", round(roc_auc_score(df.target, df[\"clf\"]), 5))"
   ]
  },
  {
   "cell_type": "code",
   "execution_count": null,
   "metadata": {},
   "outputs": [],
   "source": []
  },
  {
   "cell_type": "markdown",
   "metadata": {},
   "source": [
    "## SVM"
   ]
  },
  {
   "cell_type": "code",
   "execution_count": null,
   "metadata": {},
   "outputs": [],
   "source": [
    "# %%time\n",
    "\n",
    "# skf = StratifiedKFold(n_splits=5, shuffle=True, random_state=42)\n",
    "\n",
    "# df[\"svc\"] = 0\n",
    "# dt[\"svc\"] = 0\n",
    "\n",
    "# i = -1\n",
    "# for train_index, valid_index in skf.split(df[cols], df.target):\n",
    "#     i+=1\n",
    "    \n",
    "#     X_train = df.loc[train_index, cols]\n",
    "#     X_valid = df.loc[valid_index, cols]\n",
    "\n",
    "#     y_train = df.loc[train_index, \"target\"]\n",
    "#     y_valid = df.loc[valid_index, \"target\"]\n",
    "    \n",
    "#     svc = SVC(C=10, probability=True).fit(X_train, y_train)  \n",
    "    \n",
    "#     y_pred = svc.predict_proba(X_valid)[:,1] \n",
    "#     df.loc[valid_index, \"svc\"] = y_pred\n",
    "#     print(i, \"ROC AUC:\", round(roc_auc_score(y_valid, y_pred), 4))\n",
    "    \n",
    "#     dt[\"svc\"] += svc.predict_proba(dt[cols].values) / skf.n_splits\n",
    "    \n",
    "# print(\"\\nROC AUC:\", round(roc_auc_score(df.target, df[\"svc\"]), 4))"
   ]
  },
  {
   "cell_type": "markdown",
   "metadata": {},
   "source": [
    "## NN"
   ]
  },
  {
   "cell_type": "code",
   "execution_count": 147,
   "metadata": {},
   "outputs": [],
   "source": [
    "# %%time\n",
    "\n",
    "# skf = StratifiedKFold(n_splits=5, shuffle=True, random_state=42)\n",
    "\n",
    "# df[\"nei\"] = 0\n",
    "# dt[\"nei\"] = 0\n",
    "\n",
    "# i = -1\n",
    "# for train_index, valid_index in skf.split(df[cols], df.target):\n",
    "#     i+=1\n",
    "    \n",
    "#     X_train = df.loc[train_index, cols]\n",
    "#     X_valid = df.loc[valid_index, cols]\n",
    "\n",
    "#     y_train = df.loc[train_index, \"target\"]\n",
    "#     y_valid = df.loc[valid_index, \"target\"]\n",
    "    \n",
    "#     nei = KNeighborsClassifier(n_neighbors=5000, p=1, n_jobs=-1).fit(X_train, y_train) \n",
    "    \n",
    "#     y_pred = nei.predict_proba(X_valid)[:,1] \n",
    "#     df.loc[valid_index, \"nei\"] = y_pred\n",
    "#     print(i, \"ROC AUC:\", round(roc_auc_score(y_valid, y_pred), 4))\n",
    "    \n",
    "#     dt[\"nei\"] += nei.predict_proba(dt[cols])[:,1] / skf.n_splits\n",
    "    \n",
    "# print(\"\\nROC AUC:\", round(roc_auc_score(df.target, df[\"nei\"]), 4))"
   ]
  },
  {
   "cell_type": "code",
   "execution_count": null,
   "metadata": {},
   "outputs": [],
   "source": [
    "# 0 ROC AUC: 0.9232\n",
    "# 1 ROC AUC: 0.9232\n",
    "# 2 ROC AUC: 0.9293\n",
    "# 3 ROC AUC: 0.9247\n",
    "# 4 ROC AUC: 0.9216\n",
    "\n",
    "# ROC AUC: 0.9243\n",
    "# CPU times: user 7h 3min 54s, sys: 7min 15s, total: 7h 11min 9s\n",
    "# Wall time: 31min 9s"
   ]
  },
  {
   "cell_type": "markdown",
   "metadata": {},
   "source": [
    "## LGBM HPO"
   ]
  },
  {
   "cell_type": "code",
   "execution_count": 98,
   "metadata": {},
   "outputs": [
    {
     "name": "stdout",
     "output_type": "stream",
     "text": [
      "{'num_leaves': 11, 'min_sum_hessian_in_leaf': 2, 'min_data_in_leaf': 10, 'max_bin': 1023, 'learning_rate': 0.012667, 'lambda_l2': 1.2, 'lambda_l1': 2.3, 'feature_fraction': 0.632, 'bagging_freq': 2, 'bagging_fraction': 0.73}\n",
      "0 1 CV score: 0.9238  \n",
      "0 2 CV score: 0.9235  \n",
      "0 3 CV score: 0.9298  \n",
      "0 4 CV score: 0.9253  \n",
      "0 5 CV score: 0.9222  \n",
      "\n",
      "oof CV score: 0.9247  \n",
      "best: ({'num_leaves': 11, 'min_sum_hessian_in_leaf': 2, 'min_data_in_leaf': 10, 'max_bin': 1023, 'learning_rate': 0.012667, 'lambda_l2': 1.2, 'lambda_l1': 2.3, 'feature_fraction': 0.632, 'bagging_freq': 2, 'bagging_fraction': 0.73}, 0.9247)\n",
      "{'num_leaves': 11, 'min_sum_hessian_in_leaf': 3, 'min_data_in_leaf': 70, 'max_bin': 2047, 'learning_rate': 0.018, 'lambda_l2': 1.2, 'lambda_l1': 1.8, 'feature_fraction': 0.724, 'bagging_freq': 3, 'bagging_fraction': 0.55}\n"
     ]
    },
    {
     "ename": "KeyboardInterrupt",
     "evalue": "",
     "output_type": "error",
     "traceback": [
      "\u001b[0;31m---------------------------------------------------------------------------\u001b[0m",
      "\u001b[0;31mKeyboardInterrupt\u001b[0m                         Traceback (most recent call last)",
      "\u001b[0;32m<ipython-input-98-3395b29de454>\u001b[0m in \u001b[0;36m<module>\u001b[0;34m\u001b[0m\n\u001b[1;32m     58\u001b[0m                           \u001b[0mvalid_names\u001b[0m\u001b[0;34m=\u001b[0m\u001b[0;34m[\u001b[0m\u001b[0;34m'train'\u001b[0m\u001b[0;34m,\u001b[0m \u001b[0;34m'valid'\u001b[0m\u001b[0;34m]\u001b[0m\u001b[0;34m,\u001b[0m\u001b[0;34m\u001b[0m\u001b[0;34m\u001b[0m\u001b[0m\n\u001b[1;32m     59\u001b[0m                           \u001b[0mearly_stopping_rounds\u001b[0m\u001b[0;34m=\u001b[0m\u001b[0mearly_stop_rounds\u001b[0m\u001b[0;34m,\u001b[0m\u001b[0;34m\u001b[0m\u001b[0;34m\u001b[0m\u001b[0m\n\u001b[0;32m---> 60\u001b[0;31m                           verbose_eval=0)\n\u001b[0m\u001b[1;32m     61\u001b[0m \u001b[0;34m\u001b[0m\u001b[0m\n\u001b[1;32m     62\u001b[0m         \u001b[0moof\u001b[0m\u001b[0;34m[\u001b[0m\u001b[0mvalid_index\u001b[0m\u001b[0;34m]\u001b[0m \u001b[0;34m=\u001b[0m \u001b[0mmodel\u001b[0m\u001b[0;34m.\u001b[0m\u001b[0mpredict\u001b[0m\u001b[0;34m(\u001b[0m\u001b[0mX_valid\u001b[0m\u001b[0;34m)\u001b[0m\u001b[0;34m\u001b[0m\u001b[0;34m\u001b[0m\u001b[0m\n",
      "\u001b[0;32m~/anaconda3/lib/python3.7/site-packages/lightgbm/engine.py\u001b[0m in \u001b[0;36mtrain\u001b[0;34m(params, train_set, num_boost_round, valid_sets, valid_names, fobj, feval, init_model, feature_name, categorical_feature, early_stopping_rounds, evals_result, verbose_eval, learning_rates, keep_training_booster, callbacks)\u001b[0m\n\u001b[1;32m    214\u001b[0m                                     evaluation_result_list=None))\n\u001b[1;32m    215\u001b[0m \u001b[0;34m\u001b[0m\u001b[0m\n\u001b[0;32m--> 216\u001b[0;31m         \u001b[0mbooster\u001b[0m\u001b[0;34m.\u001b[0m\u001b[0mupdate\u001b[0m\u001b[0;34m(\u001b[0m\u001b[0mfobj\u001b[0m\u001b[0;34m=\u001b[0m\u001b[0mfobj\u001b[0m\u001b[0;34m)\u001b[0m\u001b[0;34m\u001b[0m\u001b[0;34m\u001b[0m\u001b[0m\n\u001b[0m\u001b[1;32m    217\u001b[0m \u001b[0;34m\u001b[0m\u001b[0m\n\u001b[1;32m    218\u001b[0m         \u001b[0mevaluation_result_list\u001b[0m \u001b[0;34m=\u001b[0m \u001b[0;34m[\u001b[0m\u001b[0;34m]\u001b[0m\u001b[0;34m\u001b[0m\u001b[0;34m\u001b[0m\u001b[0m\n",
      "\u001b[0;32m~/anaconda3/lib/python3.7/site-packages/lightgbm/basic.py\u001b[0m in \u001b[0;36mupdate\u001b[0;34m(self, train_set, fobj)\u001b[0m\n\u001b[1;32m   1758\u001b[0m             _safe_call(_LIB.LGBM_BoosterUpdateOneIter(\n\u001b[1;32m   1759\u001b[0m                 \u001b[0mself\u001b[0m\u001b[0;34m.\u001b[0m\u001b[0mhandle\u001b[0m\u001b[0;34m,\u001b[0m\u001b[0;34m\u001b[0m\u001b[0;34m\u001b[0m\u001b[0m\n\u001b[0;32m-> 1760\u001b[0;31m                 ctypes.byref(is_finished)))\n\u001b[0m\u001b[1;32m   1761\u001b[0m             \u001b[0mself\u001b[0m\u001b[0;34m.\u001b[0m\u001b[0m__is_predicted_cur_iter\u001b[0m \u001b[0;34m=\u001b[0m \u001b[0;34m[\u001b[0m\u001b[0;32mFalse\u001b[0m \u001b[0;32mfor\u001b[0m \u001b[0m_\u001b[0m \u001b[0;32min\u001b[0m \u001b[0mrange_\u001b[0m\u001b[0;34m(\u001b[0m\u001b[0mself\u001b[0m\u001b[0;34m.\u001b[0m\u001b[0m__num_dataset\u001b[0m\u001b[0;34m)\u001b[0m\u001b[0;34m]\u001b[0m\u001b[0;34m\u001b[0m\u001b[0;34m\u001b[0m\u001b[0m\n\u001b[1;32m   1762\u001b[0m             \u001b[0;32mreturn\u001b[0m \u001b[0mis_finished\u001b[0m\u001b[0;34m.\u001b[0m\u001b[0mvalue\u001b[0m \u001b[0;34m==\u001b[0m \u001b[0;36m1\u001b[0m\u001b[0;34m\u001b[0m\u001b[0;34m\u001b[0m\u001b[0m\n",
      "\u001b[0;31mKeyboardInterrupt\u001b[0m: "
     ]
    }
   ],
   "source": [
    "rounds = 10000\n",
    "early_stop_rounds = 500\n",
    "\n",
    "param_grid = {'num_leaves': list(range(10, 30)),\n",
    "              'max_bin': [511, 1023, 2047],\n",
    "              'min_data_in_leaf': list(range(10, 100, 10)),\n",
    "              'min_sum_hessian_in_leaf': list(range(0, 10)),\n",
    "              'learning_rate': np.linspace(0.01, 0.03, 31),\n",
    "              \"bagging_freq\": list(range(1, 5)),\n",
    "              \"bagging_fraction\": np.linspace(0.5, 1.0, 51),\n",
    "              'feature_fraction': np.linspace(0.08, 1.0, 11),\n",
    "              'lambda_l1': np.linspace(0, 3, 61),\n",
    "              'lambda_l2': np.linspace(0, 3, 61)}\n",
    "\n",
    "param_static = {'boosting_type': 'gbrt',\n",
    "                'objective': 'binary',\n",
    "                'tree_learner': 'serial',\n",
    "                'metric': 'auc',\n",
    "                'bagging_seed': 42,\n",
    "                'seed': 42,\n",
    "                'max_depth': -1,\n",
    "                'verbose': -1,\n",
    "                'n_jobs': -1}\n",
    "\n",
    "param_list = list(ParameterSampler(param_grid, n_iter=100))\n",
    "\n",
    "rounded_list = [dict((k, round(v, 6)) for (k, v) in d.items())\n",
    "                for d in param_list]\n",
    "\n",
    "results = []\n",
    "for i, params in enumerate(rounded_list):\n",
    "    print(params)\n",
    "\n",
    "    for key in param_static:\n",
    "        params[key] = param_static[key]\n",
    "\n",
    "    skf = StratifiedKFold(n_splits=5, shuffle=True, random_state=42)\n",
    "    oof = np.zeros(len(df))\n",
    "    res = 0\n",
    "\n",
    "    j = 0\n",
    "    for train_index, valid_index in skf.split(df[cols], df.target):\n",
    "        j += 1\n",
    "\n",
    "        X_train = df.loc[train_index, cols]\n",
    "        X_valid = df.loc[valid_index, cols]\n",
    "\n",
    "        y_train = df.loc[train_index, \"target\"]\n",
    "        y_valid = df.loc[valid_index, \"target\"]\n",
    "\n",
    "        d_train = lgb.Dataset(X_train, y_train, feature_name=cols)\n",
    "        d_valid = lgb.Dataset(X_valid, y_valid, feature_name=cols)\n",
    "\n",
    "        model = lgb.train(params,\n",
    "                          d_train,\n",
    "                          num_boost_round=rounds,\n",
    "                          valid_sets=[d_train, d_valid],\n",
    "                          valid_names=['train', 'valid'],\n",
    "                          early_stopping_rounds=early_stop_rounds,\n",
    "                          verbose_eval=0)\n",
    "\n",
    "        oof[valid_index] = model.predict(X_valid)\n",
    "        auc = round(roc_auc_score(y_valid, oof[valid_index]), 4)\n",
    "        print(i, j, \"CV score: {:<8.4f}\".format(auc))\n",
    "    \n",
    "    res = round(roc_auc_score(df.target, oof), 4)\n",
    "    print(\"\\noof CV score: {:<8.4f}\".format(res))\n",
    "    \n",
    "    results.append((params, res))\n",
    "    for key in param_static:\n",
    "        del params[key]\n",
    "\n",
    "    sorted_results = sorted(results, key=lambda x: x[1], reverse=True)\n",
    "    print(\"best:\", sorted_results[0])\n",
    "    \n",
    "# 0 ROC AUC: 0.9236\n",
    "# 1 ROC AUC: 0.9234\n",
    "# 2 ROC AUC: 0.9299\n",
    "# 3 ROC AUC: 0.9252\n",
    "# 4 ROC AUC: 0.9222\n",
    "\n",
    "# ROC AUC: 0.9246"
   ]
  },
  {
   "cell_type": "markdown",
   "metadata": {},
   "source": [
    "## LGBM"
   ]
  },
  {
   "cell_type": "code",
   "execution_count": 237,
   "metadata": {},
   "outputs": [
    {
     "name": "stdout",
     "output_type": "stream",
     "text": [
      "0 ROC AUC: 0.9241\n"
     ]
    },
    {
     "ename": "KeyboardInterrupt",
     "evalue": "",
     "output_type": "error",
     "traceback": [
      "\u001b[0;31m---------------------------------------------------------------------------\u001b[0m",
      "\u001b[0;31mKeyboardInterrupt\u001b[0m                         Traceback (most recent call last)",
      "\u001b[0;32m<timed exec>\u001b[0m in \u001b[0;36m<module>\u001b[0;34m\u001b[0m\n",
      "\u001b[0;32m~/anaconda3/lib/python3.7/site-packages/lightgbm/engine.py\u001b[0m in \u001b[0;36mtrain\u001b[0;34m(params, train_set, num_boost_round, valid_sets, valid_names, fobj, feval, init_model, feature_name, categorical_feature, early_stopping_rounds, evals_result, verbose_eval, learning_rates, keep_training_booster, callbacks)\u001b[0m\n\u001b[1;32m    214\u001b[0m                                     evaluation_result_list=None))\n\u001b[1;32m    215\u001b[0m \u001b[0;34m\u001b[0m\u001b[0m\n\u001b[0;32m--> 216\u001b[0;31m         \u001b[0mbooster\u001b[0m\u001b[0;34m.\u001b[0m\u001b[0mupdate\u001b[0m\u001b[0;34m(\u001b[0m\u001b[0mfobj\u001b[0m\u001b[0;34m=\u001b[0m\u001b[0mfobj\u001b[0m\u001b[0;34m)\u001b[0m\u001b[0;34m\u001b[0m\u001b[0;34m\u001b[0m\u001b[0m\n\u001b[0m\u001b[1;32m    217\u001b[0m \u001b[0;34m\u001b[0m\u001b[0m\n\u001b[1;32m    218\u001b[0m         \u001b[0mevaluation_result_list\u001b[0m \u001b[0;34m=\u001b[0m \u001b[0;34m[\u001b[0m\u001b[0;34m]\u001b[0m\u001b[0;34m\u001b[0m\u001b[0;34m\u001b[0m\u001b[0m\n",
      "\u001b[0;32m~/anaconda3/lib/python3.7/site-packages/lightgbm/basic.py\u001b[0m in \u001b[0;36mupdate\u001b[0;34m(self, train_set, fobj)\u001b[0m\n\u001b[1;32m   1758\u001b[0m             _safe_call(_LIB.LGBM_BoosterUpdateOneIter(\n\u001b[1;32m   1759\u001b[0m                 \u001b[0mself\u001b[0m\u001b[0;34m.\u001b[0m\u001b[0mhandle\u001b[0m\u001b[0;34m,\u001b[0m\u001b[0;34m\u001b[0m\u001b[0;34m\u001b[0m\u001b[0m\n\u001b[0;32m-> 1760\u001b[0;31m                 ctypes.byref(is_finished)))\n\u001b[0m\u001b[1;32m   1761\u001b[0m             \u001b[0mself\u001b[0m\u001b[0;34m.\u001b[0m\u001b[0m__is_predicted_cur_iter\u001b[0m \u001b[0;34m=\u001b[0m \u001b[0;34m[\u001b[0m\u001b[0;32mFalse\u001b[0m \u001b[0;32mfor\u001b[0m \u001b[0m_\u001b[0m \u001b[0;32min\u001b[0m \u001b[0mrange_\u001b[0m\u001b[0;34m(\u001b[0m\u001b[0mself\u001b[0m\u001b[0;34m.\u001b[0m\u001b[0m__num_dataset\u001b[0m\u001b[0;34m)\u001b[0m\u001b[0;34m]\u001b[0m\u001b[0;34m\u001b[0m\u001b[0;34m\u001b[0m\u001b[0m\n\u001b[1;32m   1762\u001b[0m             \u001b[0;32mreturn\u001b[0m \u001b[0mis_finished\u001b[0m\u001b[0;34m.\u001b[0m\u001b[0mvalue\u001b[0m \u001b[0;34m==\u001b[0m \u001b[0;36m1\u001b[0m\u001b[0;34m\u001b[0m\u001b[0;34m\u001b[0m\u001b[0m\n",
      "\u001b[0;31mKeyboardInterrupt\u001b[0m: "
     ]
    }
   ],
   "source": [
    "%%time\n",
    "\n",
    "rounds = 10000\n",
    "early_stop_rounds = 500\n",
    "\n",
    "\n",
    "params = {'num_leaves': 11, \n",
    "             'min_sum_hessian_in_leaf': 2, \n",
    "             'min_data_in_leaf': 10, \n",
    "             'max_bin': 1023, \n",
    "             'learning_rate': 0.012667, \n",
    "             'lambda_l2': 1.2, \n",
    "             'lambda_l1': 2.3, \n",
    "             'feature_fraction': 0.632, \n",
    "             'bagging_freq': 2, \n",
    "             'bagging_fraction': 0.73,\n",
    "             'boosting_type': 'gbrt',\n",
    "             'objective': 'binary',\n",
    "             'tree_learner': 'serial',\n",
    "             'metric': 'auc',\n",
    "             'bagging_seed': 42,\n",
    "             'seed': 42,\n",
    "             'max_depth': -1,\n",
    "             'verbose': -1,\n",
    "             'n_jobs': -1}\n",
    "\n",
    "skf = StratifiedKFold(n_splits=5, shuffle=True, random_state=42)\n",
    "\n",
    "df[\"lgb\"] = 0\n",
    "dt[\"lgb\"] = 0\n",
    "\n",
    "i = -1\n",
    "for train_index, valid_index in skf.split(df[cols], df.target):\n",
    "    i+=1\n",
    "    \n",
    "    X_train = df.loc[train_index, cols]\n",
    "    X_valid = df.loc[valid_index, cols]\n",
    "\n",
    "    y_train = df.loc[train_index, \"target\"]\n",
    "    y_valid = df.loc[valid_index, \"target\"]\n",
    "    \n",
    "    d_train = lgb.Dataset(X_train, y_train, feature_name=cols)\n",
    "    d_valid = lgb.Dataset(X_valid, y_valid, feature_name=cols)    \n",
    "    \n",
    "    model = lgb.train(params,\n",
    "                      d_train,\n",
    "                      num_boost_round=rounds,\n",
    "                      valid_sets=[d_train, d_valid],\n",
    "                      valid_names=['train','valid'],\n",
    "                      early_stopping_rounds=early_stop_rounds,\n",
    "                      verbose_eval=0) \n",
    "\n",
    "    y_pred = model.predict(X_valid)\n",
    "    df.loc[valid_index, \"lgb\"] = y_pred\n",
    "    print(i, \"ROC AUC:\", round(roc_auc_score(y_valid, y_pred), 4))\n",
    "    \n",
    "    dt[\"lgb\"] += model.predict(dt[cols]) / skf.n_splits\n",
    "    \n",
    "print(\"\\nROC AUC:\", round(roc_auc_score(df.target, df[\"lgb\"]), 4))"
   ]
  },
  {
   "cell_type": "code",
   "execution_count": null,
   "metadata": {},
   "outputs": [],
   "source": [
    "# 0 ROC AUC: 0.9239\n",
    "# 1 ROC AUC: 0.9239\n",
    "# 2 ROC AUC: 0.93\n",
    "# 3 ROC AUC: 0.9259\n",
    "# 4 ROC AUC: 0.923\n",
    "\n",
    "# ROC AUC: 0.9243\n",
    "# CPU times: user 3h 14min 48s, sys: 49.2 s, total: 3h 15min 37s\n",
    "# Wall time: 8min 33s"
   ]
  },
  {
   "cell_type": "code",
   "execution_count": 238,
   "metadata": {},
   "outputs": [
    {
     "data": {
      "text/plain": [
       "Text(0.5,1,'Light GBM Feature Importance')"
      ]
     },
     "execution_count": 238,
     "metadata": {},
     "output_type": "execute_result"
    },
    {
     "data": {
      "image/png": "[encoded data removed]",
      "text/plain": [
       "<Figure size 1080x360 with 1 Axes>"
      ]
     },
     "metadata": {
      "needs_background": "light"
     },
     "output_type": "display_data"
    }
   ],
   "source": [
    "import matplotlib.pyplot as plt\n",
    "%matplotlib inline\n",
    "\n",
    "fig, ax = plt.subplots(figsize=(15, 5))\n",
    "lgb.plot_importance(model, max_num_features=len(cols), ax=ax)\n",
    "plt.title(\"Light GBM Feature Importance\")"
   ]
  },
  {
   "cell_type": "code",
   "execution_count": 270,
   "metadata": {},
   "outputs": [
    {
     "name": "stdout",
     "output_type": "stream",
     "text": [
      "\n",
      "ROC AUC: 0.92577\n"
     ]
    }
   ],
   "source": [
    "w = [0,1]\n",
    "\n",
    "df[\"blend\"] = (w[1]*df[\"clf\"])/sum(w)\n",
    "dt[\"blend\"] = (w[1]*dt[\"clf\"])/sum(w)\n",
    "\n",
    "print(\"\\nROC AUC:\", round(roc_auc_score(df.target, df[\"blend\"]), 5))"
   ]
  },
  {
   "cell_type": "code",
   "execution_count": 271,
   "metadata": {},
   "outputs": [
    {
     "data": {
      "text/html": [
       "<div>\n",
       "<style scoped>\n",
       "    .dataframe tbody tr th:only-of-type {\n",
       "        vertical-align: middle;\n",
       "    }\n",
       "\n",
       "    .dataframe tbody tr th {\n",
       "        vertical-align: top;\n",
       "    }\n",
       "\n",
       "    .dataframe thead th {\n",
       "        text-align: right;\n",
       "    }\n",
       "</style>\n",
       "<table border=\"1\" class=\"dataframe\">\n",
       "  <thead>\n",
       "    <tr style=\"text-align: right;\">\n",
       "      <th></th>\n",
       "      <th>ID_code</th>\n",
       "      <th>target</th>\n",
       "    </tr>\n",
       "  </thead>\n",
       "  <tbody>\n",
       "    <tr>\n",
       "      <th>0</th>\n",
       "      <td>test_0</td>\n",
       "      <td>0.126515</td>\n",
       "    </tr>\n",
       "    <tr>\n",
       "      <th>1</th>\n",
       "      <td>test_1</td>\n",
       "      <td>0.377153</td>\n",
       "    </tr>\n",
       "    <tr>\n",
       "      <th>2</th>\n",
       "      <td>test_2</td>\n",
       "      <td>0.334164</td>\n",
       "    </tr>\n",
       "    <tr>\n",
       "      <th>3</th>\n",
       "      <td>test_3</td>\n",
       "      <td>0.149924</td>\n",
       "    </tr>\n",
       "    <tr>\n",
       "      <th>4</th>\n",
       "      <td>test_4</td>\n",
       "      <td>0.053057</td>\n",
       "    </tr>\n",
       "  </tbody>\n",
       "</table>\n",
       "</div>"
      ],
      "text/plain": [
       "  ID_code    target\n",
       "0  test_0  0.126515\n",
       "1  test_1  0.377153\n",
       "2  test_2  0.334164\n",
       "3  test_3  0.149924\n",
       "4  test_4  0.053057"
      ]
     },
     "execution_count": 271,
     "metadata": {},
     "output_type": "execute_result"
    }
   ],
   "source": [
    "sub = pd.read_csv(intput_path+'sample_submission.csv.zip')\n",
    "sub[\"target\"] = dt[\"blend\"]\n",
    "sub.head()"
   ]
  },
  {
   "cell_type": "code",
   "execution_count": 272,
   "metadata": {},
   "outputs": [],
   "source": [
    "sub.to_csv(output_path + \"best_blend_33.csv\", index=False)"
   ]
  },
  {
   "cell_type": "code",
   "execution_count": 273,
   "metadata": {},
   "outputs": [
    {
     "name": "stdout",
     "output_type": "stream",
     "text": [
      " best_auc_nn_0.pkl\t  nn_0_0.92269_oof.npy\t  nn_3_0.92235_test.npy\r\n",
      " best_auc_nn_1.pkl\t  nn_0_0.92269_test.npy   nn_3_0.92287_oof.npy\r\n",
      " best_auc_nn_2.pkl\t  nn_0_0.9229_oof.npy\t  nn_3_0.92287_test.npy\r\n",
      " best_auc_nn_3.pkl\t  nn_0_0.9229_test.npy\t  nn_4_0.92096_oof.npy\r\n",
      " best_auc_nn.pkl\t  nn_0_0.92345_oof.npy\t  nn_4_0.92096_test.npy\r\n",
      " best_blend_10.csv\t  nn_0_0.92345_test.npy   nn_4_0.9227_oof.npy\r\n",
      " best_blend_13.csv\t  nn_0.9163_oof.npy\t  nn_4_0.9227_test.npy\r\n",
      " best_blend_19.csv\t  nn_0.9163_test.npy\t  nn_4_0.92292_oof.npy\r\n",
      " best_blend_25.csv\t  nn_1_0.92217_oof.npy\t  nn_4_0.92292_test.npy\r\n",
      " best_blend_33.csv\t  nn_1_0.92217_test.npy   nn_5_0.92241_oof.npy\r\n",
      " best_blend_7.csv\t  nn_1_0.92266_oof.npy\t  nn_5_0.92241_test.npy\r\n",
      " best_blend_8.csv\t  nn_1_0.92266_test.npy   nn_5_0.92258_oof.npy\r\n",
      " best_blend.csv\t\t  nn_1_0.92273_oof.npy\t  nn_5_0.92258_test.npy\r\n",
      "'!cat_0.91558_oof.npy'\t  nn_1_0.92273_test.npy   nn_5_0.92286_oof.npy\r\n",
      "'!cat_0.91558_test.npy'   nn_1_0.92294_oof.npy\t  nn_5_0.92286_test.npy\r\n",
      " cat_0.91617_oof.npy\t  nn_1_0.92294_test.npy   nn_5_0.92289_oof.npy\r\n",
      " cat_0.91617_test.npy\t  nn_2_0.92013_oof.npy\t  nn_5_0.92289_test.npy\r\n",
      " data_1_cont.pkl\t  nn_2_0.92013_test.npy   nn_aug_0.92303_12_oof.npy\r\n",
      " lgb_0.91145_oof.npy\t  nn_2_0.92128_oof.npy\t  nn_aug_0.92303_12_test.npy\r\n",
      " lgb_0.91145_test.npy\t  nn_2_0.92128_test.npy   predictions\r\n",
      " lgb_0.91305_oof.npy\t  nn_2_0.9228_oof.npy\t  train_1.bin\r\n",
      " lgb_0.91305_test.npy\t  nn_2_0.9228_test.npy\t  train_1.feather\r\n",
      " models\t\t\t  nn_2_0.92314_oof.npy\t  train_1.npy\r\n",
      " nn_0_0.92191_oof.npy\t  nn_2_0.92314_test.npy   valid_1.bin\r\n",
      " nn_0_0.92191_test.npy\t  nn_3_0.92114_oof.npy\t  xgb_0.91221_oof.npy\r\n",
      " nn_0_0.92226_oof.npy\t  nn_3_0.92114_test.npy   xgb_0.91221_test.npy\r\n",
      " nn_0_0.92226_test.npy\t  nn_3_0.92235_oof.npy\r\n"
     ]
    }
   ],
   "source": [
    "!ls ../output/"
   ]
  },
  {
   "cell_type": "code",
   "execution_count": 274,
   "metadata": {},
   "outputs": [
    {
     "name": "stdout",
     "output_type": "stream",
     "text": [
      "100%|██████████████████████████████████████| 6.17M/6.17M [00:05<00:00, 1.14MB/s]\n",
      "Successfully submitted to Santander Customer Transaction Prediction"
     ]
    }
   ],
   "source": [
    "!kaggle competitions submit -c santander-customer-transaction-prediction -f ../output/best_blend_33.csv -m \"0.92577 10-folds reg\""
   ]
  },
  {
   "cell_type": "code",
   "execution_count": 319,
   "metadata": {},
   "outputs": [
    {
     "name": "stdout",
     "output_type": "stream",
     "text": [
      "0 0.92209 {'batch_size': 10839.820336258967, 'enc_hidden_layer_k': 3.0031627823034683, 'lr': 0.006424870384644795, 'lr_sheduler_factor': 0.5359065463975176, 'lr_sheduler_patience': 8.083857592066856, 'nn_encoder_out': 68.13047017599905, 'upsampling_class_balancer': 5.50069769010154, 'upsampling_times': 18.160141013295355, 'use_bn': 0.9636627605010293, 'use_dropout': 0.3834415188257777}\n",
      "0 0.92237 {'batch_size': 10498.497817036341, 'enc_hidden_layer_k': 0.6901829591873877, 'lr': 0.002799968724067601, 'lr_sheduler_factor': 0.11481743556849118, 'lr_sheduler_patience': 12.524372440289048, 'nn_encoder_out': 30.153221925434213, 'upsampling_class_balancer': 4.762813445575222, 'upsampling_times': 18.777381988915046, 'use_bn': 0.7044144019235328, 'use_dropout': 0.03183892953130785}\n",
      "2 0.92239 {'batch_size': 13656.164267726457, 'enc_hidden_layer_k': 0.9688397286009185, 'lr': 0.00882024963788871, 'lr_sheduler_factor': 0.6990223026214836, 'lr_sheduler_patience': 12.583027849188971, 'nn_encoder_out': 58.90107075255124, 'upsampling_class_balancer': 3.766703320491695, 'upsampling_times': 18.61379699202321, 'use_bn': 0.5920845776663763, 'use_dropout': 0.34623790945514643}\n"
     ]
    }
   ],
   "source": [
    "res = 0\n",
    "ans = {}\n",
    "for i in range(6):\n",
    "    with open(f\"../output/hpo_logs_{i}.json\" ,\"r\") as f:\n",
    "        for item in f.readlines():\n",
    "            d = eval(item)\n",
    "            ans[d[\"target\"]] = d[\"params\"]\n",
    "            if d[\"target\"]>=res:\n",
    "                res = d[\"target\"]\n",
    "                print(i, res, d[\"params\"])\n"
   ]
  },
  {
   "cell_type": "code",
   "execution_count": 320,
   "metadata": {},
   "outputs": [
    {
     "name": "stdout",
     "output_type": "stream",
     "text": [
      "0.92232 {'batch_size': 11256.031910244776, 'enc_hidden_layer_k': 0.5894282964739246, 'lr': 0.006959818173414933, 'lr_sheduler_factor': 0.4100187406986252, 'lr_sheduler_patience': 8.964885584814152, 'nn_encoder_out': 47.34152536372185, 'upsampling_class_balancer': 4.806975210413124, 'upsampling_times': 12.366624390515128, 'use_bn': 0.9729106898748249, 'use_dropout': 0.11277621523807146}\n",
      "0.92235 {'batch_size': 16365.41943965368, 'enc_hidden_layer_k': 3.8431734367223815, 'lr': 0.009692571721568191, 'lr_sheduler_factor': 0.3775880090390893, 'lr_sheduler_patience': 5.107461172534069, 'nn_encoder_out': 97.68901245625834, 'upsampling_class_balancer': 2.0733130945474674, 'upsampling_times': 19.455715376700535, 'use_bn': 0.6390319975286751, 'use_dropout': 0.10273932337293801}\n",
      "0.92237 {'batch_size': 10498.497817036341, 'enc_hidden_layer_k': 0.6901829591873877, 'lr': 0.002799968724067601, 'lr_sheduler_factor': 0.11481743556849118, 'lr_sheduler_patience': 12.524372440289048, 'nn_encoder_out': 30.153221925434213, 'upsampling_class_balancer': 4.762813445575222, 'upsampling_times': 18.777381988915046, 'use_bn': 0.7044144019235328, 'use_dropout': 0.03183892953130785}\n",
      "0.92239 {'batch_size': 13656.164267726457, 'enc_hidden_layer_k': 0.9688397286009185, 'lr': 0.00882024963788871, 'lr_sheduler_factor': 0.6990223026214836, 'lr_sheduler_patience': 12.583027849188971, 'nn_encoder_out': 58.90107075255124, 'upsampling_class_balancer': 3.766703320491695, 'upsampling_times': 18.61379699202321, 'use_bn': 0.5920845776663763, 'use_dropout': 0.34623790945514643}\n"
     ]
    }
   ],
   "source": [
    "for score in sorted(ans)[-4:]:\n",
    "    print(score, ans[score])"
   ]
  },
  {
   "cell_type": "code",
   "execution_count": 326,
   "metadata": {},
   "outputs": [
    {
     "data": {
      "text/plain": [
       "0.92232"
      ]
     },
     "execution_count": 326,
     "metadata": {},
     "output_type": "execute_result"
    }
   ],
   "source": [
    "sorted(ans)[-4]"
   ]
  },
  {
   "cell_type": "code",
   "execution_count": null,
   "metadata": {},
   "outputs": [],
   "source": []
  }
 ],
 "metadata": {
  "kernelspec": {
   "display_name": "Python 3",
   "language": "python",
   "name": "python3"
  },
  "language_info": {
   "codemirror_mode": {
    "name": "ipython",
    "version": 3
   },
   "file_extension": ".py",
   "mimetype": "text/x-python",
   "name": "python",
   "nbconvert_exporter": "python",
   "pygments_lexer": "ipython3",
   "version": "3.7.1"
  }
 },
 "nbformat": 4,
 "nbformat_minor": 2
}
