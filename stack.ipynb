{
 "cells": [
  {
   "cell_type": "code",
   "execution_count": 25,
   "metadata": {},
   "outputs": [],
   "source": [
    "import pandas as pd\n",
    "import numpy as np\n",
    "import lightgbm as lgb\n",
    "\n",
    "from os import listdir\n",
    "\n",
    "from sklearn.metrics import roc_auc_score\n",
    "from sklearn.preprocessing import StandardScaler\n",
    "from sklearn.model_selection import StratifiedKFold\n",
    "from sklearn.linear_model import LogisticRegression\n",
    "from sklearn.neighbors import KNeighborsClassifier\n",
    "from sklearn.svm import SVC\n",
    "\n",
    "intput_path = \"../input/\"\n",
    "output_path = \"../output/\""
   ]
  },
  {
   "cell_type": "code",
   "execution_count": 2,
   "metadata": {},
   "outputs": [
    {
     "data": {
      "text/plain": [
       "['cat_0.91617_oof.npy',\n",
       " 'lgb_0.91145_oof.npy',\n",
       " 'nn_0.9163_oof.npy',\n",
       " 'xgb_0.91221_oof.npy']"
      ]
     },
     "execution_count": 2,
     "metadata": {},
     "output_type": "execute_result"
    }
   ],
   "source": [
    "files = [f for f in sorted(listdir(output_path)) if f.endswith(\"_oof.npy\") and f[0]!=\"!\"]\n",
    "files"
   ]
  },
  {
   "cell_type": "code",
   "execution_count": 3,
   "metadata": {
    "scrolled": true
   },
   "outputs": [
    {
     "data": {
      "text/html": [
       "<div>\n",
       "<style scoped>\n",
       "    .dataframe tbody tr th:only-of-type {\n",
       "        vertical-align: middle;\n",
       "    }\n",
       "\n",
       "    .dataframe tbody tr th {\n",
       "        vertical-align: top;\n",
       "    }\n",
       "\n",
       "    .dataframe thead th {\n",
       "        text-align: right;\n",
       "    }\n",
       "</style>\n",
       "<table border=\"1\" class=\"dataframe\">\n",
       "  <thead>\n",
       "    <tr style=\"text-align: right;\">\n",
       "      <th></th>\n",
       "      <th>cat_0.91617_oof</th>\n",
       "      <th>lgb_0.91145_oof</th>\n",
       "      <th>nn_0.9163_oof</th>\n",
       "      <th>xgb_0.91221_oof</th>\n",
       "      <th>avg</th>\n",
       "    </tr>\n",
       "  </thead>\n",
       "  <tbody>\n",
       "    <tr>\n",
       "      <th>0</th>\n",
       "      <td>-0.028851</td>\n",
       "      <td>-0.045147</td>\n",
       "      <td>0.329803</td>\n",
       "      <td>-0.058851</td>\n",
       "      <td>0.049238</td>\n",
       "    </tr>\n",
       "    <tr>\n",
       "      <th>1</th>\n",
       "      <td>0.630567</td>\n",
       "      <td>0.880821</td>\n",
       "      <td>1.106001</td>\n",
       "      <td>0.659944</td>\n",
       "      <td>0.819333</td>\n",
       "    </tr>\n",
       "    <tr>\n",
       "      <th>2</th>\n",
       "      <td>1.006787</td>\n",
       "      <td>0.910918</td>\n",
       "      <td>0.878276</td>\n",
       "      <td>0.883434</td>\n",
       "      <td>0.919854</td>\n",
       "    </tr>\n",
       "    <tr>\n",
       "      <th>3</th>\n",
       "      <td>0.844511</td>\n",
       "      <td>0.394093</td>\n",
       "      <td>0.953653</td>\n",
       "      <td>0.427158</td>\n",
       "      <td>0.654854</td>\n",
       "    </tr>\n",
       "    <tr>\n",
       "      <th>4</th>\n",
       "      <td>-0.234038</td>\n",
       "      <td>-0.149319</td>\n",
       "      <td>0.088908</td>\n",
       "      <td>-0.114493</td>\n",
       "      <td>-0.102236</td>\n",
       "    </tr>\n",
       "  </tbody>\n",
       "</table>\n",
       "</div>"
      ],
      "text/plain": [
       "   cat_0.91617_oof  lgb_0.91145_oof  nn_0.9163_oof  xgb_0.91221_oof       avg\n",
       "0        -0.028851        -0.045147       0.329803        -0.058851  0.049238\n",
       "1         0.630567         0.880821       1.106001         0.659944  0.819333\n",
       "2         1.006787         0.910918       0.878276         0.883434  0.919854\n",
       "3         0.844511         0.394093       0.953653         0.427158  0.654854\n",
       "4        -0.234038        -0.149319       0.088908        -0.114493 -0.102236"
      ]
     },
     "execution_count": 3,
     "metadata": {},
     "output_type": "execute_result"
    }
   ],
   "source": [
    "scaler = StandardScaler()\n",
    "\n",
    "dt = pd.DataFrame()\n",
    "\n",
    "df = pd.read_csv(intput_path+'train.csv.zip')\n",
    "df = df[[\"target\"]]\n",
    "\n",
    "cols = []\n",
    "for file in files:\n",
    "    train = np.load(output_path+file).reshape(-1, 1)\n",
    "    col = file[:-4]\n",
    "    cols.append(col)\n",
    "    df[col] = scaler.fit_transform(train)\n",
    "    \n",
    "    test = np.load(output_path+file.replace(\"_oof.npy\",\"_test.npy\")).reshape(-1, 1)\n",
    "    dt[col] = [x[0] for x in scaler.transform(test)]\n",
    "    \n",
    "df[\"avg\"] = df[cols].mean(axis=1)\n",
    "dt[\"avg\"] = dt[cols].mean(axis=1)\n",
    "\n",
    "dt.head()"
   ]
  },
  {
   "cell_type": "code",
   "execution_count": 4,
   "metadata": {},
   "outputs": [
    {
     "data": {
      "text/html": [
       "<div>\n",
       "<style scoped>\n",
       "    .dataframe tbody tr th:only-of-type {\n",
       "        vertical-align: middle;\n",
       "    }\n",
       "\n",
       "    .dataframe tbody tr th {\n",
       "        vertical-align: top;\n",
       "    }\n",
       "\n",
       "    .dataframe thead th {\n",
       "        text-align: right;\n",
       "    }\n",
       "</style>\n",
       "<table border=\"1\" class=\"dataframe\">\n",
       "  <thead>\n",
       "    <tr style=\"text-align: right;\">\n",
       "      <th></th>\n",
       "      <th>cat_0.91617_oof</th>\n",
       "      <th>lgb_0.91145_oof</th>\n",
       "      <th>nn_0.9163_oof</th>\n",
       "      <th>xgb_0.91221_oof</th>\n",
       "    </tr>\n",
       "  </thead>\n",
       "  <tbody>\n",
       "    <tr>\n",
       "      <th>cat_0.91617_oof</th>\n",
       "      <td>1.000000</td>\n",
       "      <td>0.973739</td>\n",
       "      <td>0.811705</td>\n",
       "      <td>0.973639</td>\n",
       "    </tr>\n",
       "    <tr>\n",
       "      <th>lgb_0.91145_oof</th>\n",
       "      <td>0.973739</td>\n",
       "      <td>1.000000</td>\n",
       "      <td>0.800824</td>\n",
       "      <td>0.984808</td>\n",
       "    </tr>\n",
       "    <tr>\n",
       "      <th>nn_0.9163_oof</th>\n",
       "      <td>0.811705</td>\n",
       "      <td>0.800824</td>\n",
       "      <td>1.000000</td>\n",
       "      <td>0.797771</td>\n",
       "    </tr>\n",
       "    <tr>\n",
       "      <th>xgb_0.91221_oof</th>\n",
       "      <td>0.973639</td>\n",
       "      <td>0.984808</td>\n",
       "      <td>0.797771</td>\n",
       "      <td>1.000000</td>\n",
       "    </tr>\n",
       "  </tbody>\n",
       "</table>\n",
       "</div>"
      ],
      "text/plain": [
       "                 cat_0.91617_oof  lgb_0.91145_oof  nn_0.9163_oof  \\\n",
       "cat_0.91617_oof         1.000000         0.973739       0.811705   \n",
       "lgb_0.91145_oof         0.973739         1.000000       0.800824   \n",
       "nn_0.9163_oof           0.811705         0.800824       1.000000   \n",
       "xgb_0.91221_oof         0.973639         0.984808       0.797771   \n",
       "\n",
       "                 xgb_0.91221_oof  \n",
       "cat_0.91617_oof         0.973639  \n",
       "lgb_0.91145_oof         0.984808  \n",
       "nn_0.9163_oof           0.797771  \n",
       "xgb_0.91221_oof         1.000000  "
      ]
     },
     "execution_count": 4,
     "metadata": {},
     "output_type": "execute_result"
    }
   ],
   "source": [
    "df[cols].corr()"
   ]
  },
  {
   "cell_type": "markdown",
   "metadata": {},
   "source": [
    "## AVG"
   ]
  },
  {
   "cell_type": "code",
   "execution_count": 5,
   "metadata": {},
   "outputs": [
    {
     "data": {
      "text/plain": [
       "0.9183011099886771"
      ]
     },
     "execution_count": 5,
     "metadata": {},
     "output_type": "execute_result"
    }
   ],
   "source": [
    "roc_auc_score(df.target, df.avg)"
   ]
  },
  {
   "cell_type": "markdown",
   "metadata": {},
   "source": [
    "## LogReg"
   ]
  },
  {
   "cell_type": "code",
   "execution_count": 12,
   "metadata": {},
   "outputs": [
    {
     "name": "stdout",
     "output_type": "stream",
     "text": [
      "0 ROC AUC: 0.9184\n",
      "1 ROC AUC: 0.9148\n",
      "2 ROC AUC: 0.9228\n",
      "3 ROC AUC: 0.9189\n",
      "4 ROC AUC: 0.9171\n",
      "\n",
      "ROC AUC: 0.9182\n",
      "CPU times: user 3.32 s, sys: 11.2 s, total: 14.5 s\n",
      "Wall time: 6.96 s\n"
     ]
    }
   ],
   "source": [
    "%%time\n",
    "\n",
    "skf = StratifiedKFold(n_splits=5, shuffle=True, random_state=42)\n",
    "\n",
    "df[\"clf\"] = 0\n",
    "dt[\"clf\"] = 0\n",
    "\n",
    "i = -1\n",
    "for train_index, valid_index in skf.split(df[cols], df.target):\n",
    "    i+=1\n",
    "    \n",
    "    X_train = df.loc[train_index, cols]\n",
    "    X_valid = df.loc[valid_index, cols]\n",
    "\n",
    "    y_train = df.loc[train_index, \"target\"]\n",
    "    y_valid = df.loc[valid_index, \"target\"]\n",
    "    \n",
    "    clf = LogisticRegression(C=1,\n",
    "                             solver=\"newton-cg\",\n",
    "                             penalty=\"l2\", \n",
    "                             n_jobs=-1, \n",
    "                             max_iter=100).fit(X_train, y_train) \n",
    "    \n",
    "    y_pred = clf.predict_proba(X_valid)[:,1] \n",
    "    df.loc[valid_index, \"clf\"] = y_pred\n",
    "    print(i, \"ROC AUC:\", round(roc_auc_score(y_valid, y_pred), 4))\n",
    "    \n",
    "    dt[\"clf\"] += clf.predict_proba(dt[cols])[:,1] / skf.n_splits\n",
    "    \n",
    "print(\"\\nROC AUC:\", round(roc_auc_score(df.target, df[\"clf\"]), 4))"
   ]
  },
  {
   "cell_type": "markdown",
   "metadata": {},
   "source": [
    "## SVM"
   ]
  },
  {
   "cell_type": "code",
   "execution_count": null,
   "metadata": {},
   "outputs": [],
   "source": [
    "# %%time\n",
    "\n",
    "# skf = StratifiedKFold(n_splits=5, shuffle=True, random_state=42)\n",
    "\n",
    "# df[\"svc\"] = 0\n",
    "# dt[\"svc\"] = 0\n",
    "\n",
    "# i = -1\n",
    "# for train_index, valid_index in skf.split(df[cols], df.target):\n",
    "#     i+=1\n",
    "    \n",
    "#     X_train = df.loc[train_index, cols]\n",
    "#     X_valid = df.loc[valid_index, cols]\n",
    "\n",
    "#     y_train = df.loc[train_index, \"target\"]\n",
    "#     y_valid = df.loc[valid_index, \"target\"]\n",
    "    \n",
    "#     svc = SVC(C=10, probability=True).fit(X_train, y_train)  \n",
    "    \n",
    "#     y_pred = svc.predict_proba(X_valid)[:,1] \n",
    "#     df.loc[valid_index, \"svc\"] = y_pred\n",
    "#     print(i, \"ROC AUC:\", round(roc_auc_score(y_valid, y_pred), 4))\n",
    "    \n",
    "#     dt[\"svc\"] += svc.predict_proba(dt[cols].values) / skf.n_splits\n",
    "    \n",
    "# print(\"\\nROC AUC:\", round(roc_auc_score(df.target, df[\"svc\"]), 4))"
   ]
  },
  {
   "cell_type": "markdown",
   "metadata": {},
   "source": [
    "## NN"
   ]
  },
  {
   "cell_type": "code",
   "execution_count": 22,
   "metadata": {},
   "outputs": [
    {
     "name": "stdout",
     "output_type": "stream",
     "text": [
      "0 ROC AUC: 0.919\n",
      "1 ROC AUC: 0.9159\n",
      "2 ROC AUC: 0.9228\n",
      "3 ROC AUC: 0.9187\n",
      "4 ROC AUC: 0.917\n",
      "\n",
      "ROC AUC: 0.9185\n",
      "CPU times: user 1h 24min 28s, sys: 1min 28s, total: 1h 25min 56s\n",
      "Wall time: 5min 4s\n"
     ]
    }
   ],
   "source": [
    "%%time\n",
    "\n",
    "skf = StratifiedKFold(n_splits=5, shuffle=True, random_state=42)\n",
    "\n",
    "df[\"nei\"] = 0\n",
    "dt[\"nei\"] = 0\n",
    "\n",
    "i = -1\n",
    "for train_index, valid_index in skf.split(df[cols], df.target):\n",
    "    i+=1\n",
    "    \n",
    "    X_train = df.loc[train_index, cols]\n",
    "    X_valid = df.loc[valid_index, cols]\n",
    "\n",
    "    y_train = df.loc[train_index, \"target\"]\n",
    "    y_valid = df.loc[valid_index, \"target\"]\n",
    "    \n",
    "    nei = KNeighborsClassifier(n_neighbors=1000, p=1, n_jobs=-1).fit(X_train, y_train) \n",
    "    \n",
    "    y_pred = nei.predict_proba(X_valid)[:,1] \n",
    "    df.loc[valid_index, \"nei\"] = y_pred\n",
    "    print(i, \"ROC AUC:\", round(roc_auc_score(y_valid, y_pred), 4))\n",
    "    \n",
    "    dt[\"nei\"] += nei.predict_proba(dt[cols])[:,1] / skf.n_splits\n",
    "    \n",
    "print(\"\\nROC AUC:\", round(roc_auc_score(df.target, df[\"nei\"]), 4))"
   ]
  },
  {
   "cell_type": "markdown",
   "metadata": {},
   "source": [
    "## LGBM"
   ]
  },
  {
   "cell_type": "code",
   "execution_count": 23,
   "metadata": {},
   "outputs": [],
   "source": [
    "rounds = 1000\n",
    "early_stop_rounds = 50\n",
    "\n",
    "params = {'lambda_l1': 0, \n",
    "          'lambda_l2': 1,\n",
    "          'feature_fraction':0.9,\n",
    "          'learning_rate': 0.03, \n",
    "          'max_depth': 4,\n",
    "          'boosting_type': 'gbrt', \n",
    "          'objective': 'binary', \n",
    "          'metric': 'auc',\n",
    "          'weight': [1, 1],\n",
    "          'max_bin': 1024,\n",
    "          'n_jobs':-1\n",
    "         }"
   ]
  },
  {
   "cell_type": "code",
   "execution_count": 27,
   "metadata": {},
   "outputs": [
    {
     "name": "stderr",
     "output_type": "stream",
     "text": [
      "/home/ppleskov/anaconda3/lib/python3.7/site-packages/lightgbm/basic.py:731: UserWarning: weight keyword has been found in `params` and will be ignored.\n",
      "Please use weight argument of the Dataset constructor to pass this parameter.\n",
      "  .format(key))\n"
     ]
    },
    {
     "name": "stdout",
     "output_type": "stream",
     "text": [
      "Training until validation scores don't improve for 50 rounds.\n",
      "[50]\ttrain's auc: 0.920537\tvalid's auc: 0.919915\n",
      "[100]\ttrain's auc: 0.920871\tvalid's auc: 0.920003\n",
      "[150]\ttrain's auc: 0.921214\tvalid's auc: 0.919904\n",
      "Early stopping, best iteration is:\n",
      "[101]\ttrain's auc: 0.920874\tvalid's auc: 0.920008\n",
      "0 ROC AUC: 0.92\n",
      "Training until validation scores don't improve for 50 rounds.\n"
     ]
    },
    {
     "name": "stderr",
     "output_type": "stream",
     "text": [
      "/home/ppleskov/anaconda3/lib/python3.7/site-packages/lightgbm/basic.py:731: UserWarning: weight keyword has been found in `params` and will be ignored.\n",
      "Please use weight argument of the Dataset constructor to pass this parameter.\n",
      "  .format(key))\n"
     ]
    },
    {
     "name": "stdout",
     "output_type": "stream",
     "text": [
      "[50]\ttrain's auc: 0.921276\tvalid's auc: 0.916769\n",
      "[100]\ttrain's auc: 0.92159\tvalid's auc: 0.916915\n",
      "Early stopping, best iteration is:\n",
      "[79]\ttrain's auc: 0.921414\tvalid's auc: 0.916953\n",
      "1 ROC AUC: 0.917\n",
      "Training until validation scores don't improve for 50 rounds.\n"
     ]
    },
    {
     "name": "stderr",
     "output_type": "stream",
     "text": [
      "/home/ppleskov/anaconda3/lib/python3.7/site-packages/lightgbm/basic.py:731: UserWarning: weight keyword has been found in `params` and will be ignored.\n",
      "Please use weight argument of the Dataset constructor to pass this parameter.\n",
      "  .format(key))\n"
     ]
    },
    {
     "name": "stdout",
     "output_type": "stream",
     "text": [
      "[50]\ttrain's auc: 0.919568\tvalid's auc: 0.923711\n",
      "[100]\ttrain's auc: 0.919849\tvalid's auc: 0.923688\n",
      "Early stopping, best iteration is:\n",
      "[72]\ttrain's auc: 0.919707\tvalid's auc: 0.923748\n",
      "2 ROC AUC: 0.9237\n",
      "Training until validation scores don't improve for 50 rounds.\n"
     ]
    },
    {
     "name": "stderr",
     "output_type": "stream",
     "text": [
      "/home/ppleskov/anaconda3/lib/python3.7/site-packages/lightgbm/basic.py:731: UserWarning: weight keyword has been found in `params` and will be ignored.\n",
      "Please use weight argument of the Dataset constructor to pass this parameter.\n",
      "  .format(key))\n"
     ]
    },
    {
     "name": "stdout",
     "output_type": "stream",
     "text": [
      "[50]\ttrain's auc: 0.920729\tvalid's auc: 0.918907\n",
      "[100]\ttrain's auc: 0.92108\tvalid's auc: 0.919147\n",
      "[150]\ttrain's auc: 0.921447\tvalid's auc: 0.919201\n",
      "Early stopping, best iteration is:\n",
      "[136]\ttrain's auc: 0.921328\tvalid's auc: 0.919214\n",
      "3 ROC AUC: 0.9192\n",
      "Training until validation scores don't improve for 50 rounds.\n"
     ]
    },
    {
     "name": "stderr",
     "output_type": "stream",
     "text": [
      "/home/ppleskov/anaconda3/lib/python3.7/site-packages/lightgbm/basic.py:731: UserWarning: weight keyword has been found in `params` and will be ignored.\n",
      "Please use weight argument of the Dataset constructor to pass this parameter.\n",
      "  .format(key))\n"
     ]
    },
    {
     "name": "stdout",
     "output_type": "stream",
     "text": [
      "[50]\ttrain's auc: 0.92102\tvalid's auc: 0.91764\n",
      "[100]\ttrain's auc: 0.921339\tvalid's auc: 0.917778\n",
      "[150]\ttrain's auc: 0.9217\tvalid's auc: 0.917802\n",
      "[200]\ttrain's auc: 0.922082\tvalid's auc: 0.91777\n",
      "Early stopping, best iteration is:\n",
      "[165]\ttrain's auc: 0.921777\tvalid's auc: 0.91783\n",
      "4 ROC AUC: 0.9178\n",
      "\n",
      "ROC AUC: 0.918\n",
      "CPU times: user 4min 58s, sys: 751 ms, total: 4min 59s\n",
      "Wall time: 10.9 s\n"
     ]
    }
   ],
   "source": [
    "%%time\n",
    "\n",
    "skf = StratifiedKFold(n_splits=5, shuffle=True, random_state=42)\n",
    "\n",
    "df[\"lgb\"] = 0\n",
    "dt[\"lgb\"] = 0\n",
    "\n",
    "i = -1\n",
    "for train_index, valid_index in skf.split(df[cols], df.target):\n",
    "    i+=1\n",
    "    \n",
    "    X_train = df.loc[train_index, cols]\n",
    "    X_valid = df.loc[valid_index, cols]\n",
    "\n",
    "    y_train = df.loc[train_index, \"target\"]\n",
    "    y_valid = df.loc[valid_index, \"target\"]\n",
    "    \n",
    "    d_train = lgb.Dataset(X_train, y_train, feature_name=cols)\n",
    "    d_valid = lgb.Dataset(X_valid, y_valid, feature_name=cols)    \n",
    "    \n",
    "    model = lgb.train(params,\n",
    "                      d_train,\n",
    "                      num_boost_round=rounds,\n",
    "                      valid_sets=[d_train, d_valid],\n",
    "                      valid_names=['train','valid'],\n",
    "                      early_stopping_rounds=early_stop_rounds,\n",
    "                      verbose_eval=50) \n",
    "\n",
    "    y_pred = model.predict(X_valid)\n",
    "    df.loc[valid_index, \"lgb\"] = y_pred\n",
    "    print(i, \"ROC AUC:\", round(roc_auc_score(y_valid, y_pred), 4))\n",
    "    \n",
    "    dt[\"lgb\"] += model.predict(dt[cols]) / skf.n_splits\n",
    "    \n",
    "print(\"\\nROC AUC:\", round(roc_auc_score(df.target, df[\"lgb\"]), 4))"
   ]
  },
  {
   "cell_type": "code",
   "execution_count": 39,
   "metadata": {},
   "outputs": [
    {
     "name": "stdout",
     "output_type": "stream",
     "text": [
      "\n",
      "ROC AUC: 0.9191\n"
     ]
    }
   ],
   "source": [
    "w = [1,1,1]\n",
    "\n",
    "df[\"blend\"] = (w[0]*df[\"lgb\"]+w[1]*df[\"nei\"]+w[2]*df[\"clf\"])/sum(w)\n",
    "dt[\"blend\"] = (w[0]*dt[\"lgb\"]+w[1]*dt[\"nei\"]+w[2]*dt[\"clf\"])/sum(w)\n",
    "\n",
    "print(\"\\nROC AUC:\", round(roc_auc_score(df.target, df[\"blend\"]), 4))"
   ]
  },
  {
   "cell_type": "code",
   "execution_count": 40,
   "metadata": {},
   "outputs": [
    {
     "data": {
      "text/html": [
       "<div>\n",
       "<style scoped>\n",
       "    .dataframe tbody tr th:only-of-type {\n",
       "        vertical-align: middle;\n",
       "    }\n",
       "\n",
       "    .dataframe tbody tr th {\n",
       "        vertical-align: top;\n",
       "    }\n",
       "\n",
       "    .dataframe thead th {\n",
       "        text-align: right;\n",
       "    }\n",
       "</style>\n",
       "<table border=\"1\" class=\"dataframe\">\n",
       "  <thead>\n",
       "    <tr style=\"text-align: right;\">\n",
       "      <th></th>\n",
       "      <th>ID_code</th>\n",
       "      <th>target</th>\n",
       "    </tr>\n",
       "  </thead>\n",
       "  <tbody>\n",
       "    <tr>\n",
       "      <th>0</th>\n",
       "      <td>test_0</td>\n",
       "      <td>0.063179</td>\n",
       "    </tr>\n",
       "    <tr>\n",
       "      <th>1</th>\n",
       "      <td>test_1</td>\n",
       "      <td>0.224664</td>\n",
       "    </tr>\n",
       "    <tr>\n",
       "      <th>2</th>\n",
       "      <td>test_2</td>\n",
       "      <td>0.205822</td>\n",
       "    </tr>\n",
       "    <tr>\n",
       "      <th>3</th>\n",
       "      <td>test_3</td>\n",
       "      <td>0.203759</td>\n",
       "    </tr>\n",
       "    <tr>\n",
       "      <th>4</th>\n",
       "      <td>test_4</td>\n",
       "      <td>0.040400</td>\n",
       "    </tr>\n",
       "  </tbody>\n",
       "</table>\n",
       "</div>"
      ],
      "text/plain": [
       "  ID_code    target\n",
       "0  test_0  0.063179\n",
       "1  test_1  0.224664\n",
       "2  test_2  0.205822\n",
       "3  test_3  0.203759\n",
       "4  test_4  0.040400"
      ]
     },
     "execution_count": 40,
     "metadata": {},
     "output_type": "execute_result"
    }
   ],
   "source": [
    "sub = pd.read_csv(intput_path+'sample_submission.csv.zip')\n",
    "sub[\"target\"] = dt[\"blend\"]\n",
    "sub.head()"
   ]
  },
  {
   "cell_type": "code",
   "execution_count": 41,
   "metadata": {},
   "outputs": [],
   "source": [
    "sub.to_csv(output_path + \"best_blend.csv\", index=False)"
   ]
  },
  {
   "cell_type": "code",
   "execution_count": 42,
   "metadata": {},
   "outputs": [
    {
     "name": "stdout",
     "output_type": "stream",
     "text": [
      " best_auc_nn.pkl\t  cat_0.91617_oof.npy\t nn_0.9163_oof.npy\r\n",
      " best_blend.csv\t\t  cat_0.91617_test.npy\t nn_0.9163_test.npy\r\n",
      "'!cat_0.91558_oof.npy'\t  lgb_0.91145_oof.npy\t xgb_0.91221_oof.npy\r\n",
      "'!cat_0.91558_test.npy'   lgb_0.91145_test.npy\t xgb_0.91221_test.npy\r\n"
     ]
    }
   ],
   "source": [
    "!ls ../output/"
   ]
  },
  {
   "cell_type": "code",
   "execution_count": 43,
   "metadata": {},
   "outputs": [
    {
     "name": "stdout",
     "output_type": "stream",
     "text": [
      "100%|██████████████████████████████████████| 6.07M/6.07M [00:05<00:00, 1.26MB/s]\n",
      "Successfully submitted to Santander Customer Transaction Prediction"
     ]
    }
   ],
   "source": [
    "!kaggle competitions submit -c santander-customer-transaction-prediction -f ../output/best_blend.csv -m \"0.9191 lgb,nei,clf\""
   ]
  }
 ],
 "metadata": {
  "kernelspec": {
   "display_name": "Python 3",
   "language": "python",
   "name": "python3"
  },
  "language_info": {
   "codemirror_mode": {
    "name": "ipython",
    "version": 3
   },
   "file_extension": ".py",
   "mimetype": "text/x-python",
   "name": "python",
   "nbconvert_exporter": "python",
   "pygments_lexer": "ipython3",
   "version": "3.7.1"
  }
 },
 "nbformat": 4,
 "nbformat_minor": 2
}
