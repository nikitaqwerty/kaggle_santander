{
 "cells": [
  {
   "cell_type": "code",
   "execution_count": 65,
   "metadata": {},
   "outputs": [],
   "source": [
    "import pandas as pd\n",
    "import numpy as np\n",
    "import lightgbm as lgb\n",
    "\n",
    "from os import listdir\n",
    "from tqdm import tqdm\n",
    "\n",
    "from sklearn.metrics import roc_auc_score\n",
    "from sklearn.preprocessing import StandardScaler, MinMaxScaler \n",
    "from sklearn.model_selection import StratifiedKFold, ParameterSampler\n",
    "from sklearn.linear_model import LogisticRegression\n",
    "from sklearn.neighbors import KNeighborsClassifier\n",
    "from sklearn.svm import SVC\n",
    "\n",
    "intput_path = \"../input/\"\n",
    "output_path = \"../output/\""
   ]
  },
  {
   "cell_type": "code",
   "execution_count": null,
   "metadata": {},
   "outputs": [],
   "source": [
    "# df = pd.read_csv(output_path+\"nn_aug_92303_12_test.csv\")\n",
    "# np.save(output_path+\"nn_aug_92303_12_test.npy\",df.target)"
   ]
  },
  {
   "cell_type": "code",
   "execution_count": 52,
   "metadata": {},
   "outputs": [
    {
     "data": {
      "text/plain": [
       "['nn_0.9163_oof.npy', 'nn_aug_0.92303_12_oof.npy']"
      ]
     },
     "execution_count": 52,
     "metadata": {},
     "output_type": "execute_result"
    }
   ],
   "source": [
    "npys = [f for f in sorted(listdir(output_path)) if f.endswith(\"_oof.npy\") and f[0]!=\"!\" and \"nn\" in f]\n",
    "npys"
   ]
  },
  {
   "cell_type": "code",
   "execution_count": 54,
   "metadata": {},
   "outputs": [
    {
     "data": {
      "text/plain": [
       "['9199_xgboost_unique_10x_upsample_0104062006.csv',\n",
       " '9202_separate_feature_models_threshold_0.84_10fold_04042353.csv',\n",
       " '9211_catboost_unique_with_10x_upsample_3103172847.csv',\n",
       " '9212_catboost_unique_10x_upsample_5_balancer_0204172825.csv',\n",
       " '9215_catboost_unique_10x_upsample_3_balancer_0204145755.csv',\n",
       " '9222_catboost_multiplied_counter_10_folds_0504034846.csv']"
      ]
     },
     "execution_count": 54,
     "metadata": {},
     "output_type": "execute_result"
    }
   ],
   "source": [
    "path = output_path+\"predictions/train/\"\n",
    "csvs = [f for f in sorted(listdir(path)) if f.endswith(\".csv\")][-7:-1]\n",
    "csvs"
   ]
  },
  {
   "cell_type": "code",
   "execution_count": 73,
   "metadata": {
    "scrolled": true
   },
   "outputs": [
    {
     "name": "stderr",
     "output_type": "stream",
     "text": [
      "100%|██████████| 2/2 [00:00<00:00,  3.65it/s]\n",
      "100%|██████████| 6/6 [00:02<00:00,  2.35it/s]\n"
     ]
    },
    {
     "data": {
      "text/html": [
       "<div>\n",
       "<style scoped>\n",
       "    .dataframe tbody tr th:only-of-type {\n",
       "        vertical-align: middle;\n",
       "    }\n",
       "\n",
       "    .dataframe tbody tr th {\n",
       "        vertical-align: top;\n",
       "    }\n",
       "\n",
       "    .dataframe thead th {\n",
       "        text-align: right;\n",
       "    }\n",
       "</style>\n",
       "<table border=\"1\" class=\"dataframe\">\n",
       "  <thead>\n",
       "    <tr style=\"text-align: right;\">\n",
       "      <th></th>\n",
       "      <th>nn_0.9163_oof</th>\n",
       "      <th>nn_aug_0.92303_12_oof</th>\n",
       "      <th>9199_xgboost_unique_10x_upsample_0104062006</th>\n",
       "      <th>9202_separate_feature_models_threshold_0.84_10fold_04042353</th>\n",
       "      <th>9211_catboost_unique_with_10x_upsample_3103172847</th>\n",
       "      <th>9212_catboost_unique_10x_upsample_5_balancer_0204172825</th>\n",
       "      <th>9215_catboost_unique_10x_upsample_3_balancer_0204145755</th>\n",
       "      <th>9222_catboost_multiplied_counter_10_folds_0504034846</th>\n",
       "      <th>avg</th>\n",
       "    </tr>\n",
       "  </thead>\n",
       "  <tbody>\n",
       "    <tr>\n",
       "      <th>199995</th>\n",
       "      <td>0.616195</td>\n",
       "      <td>0.716770</td>\n",
       "      <td>0.690135</td>\n",
       "      <td>0.660345</td>\n",
       "      <td>0.701005</td>\n",
       "      <td>0.668475</td>\n",
       "      <td>0.700525</td>\n",
       "      <td>0.763175</td>\n",
       "      <td>0.689578</td>\n",
       "    </tr>\n",
       "    <tr>\n",
       "      <th>199996</th>\n",
       "      <td>0.417985</td>\n",
       "      <td>0.381620</td>\n",
       "      <td>0.274565</td>\n",
       "      <td>0.230530</td>\n",
       "      <td>0.303695</td>\n",
       "      <td>0.236135</td>\n",
       "      <td>0.274450</td>\n",
       "      <td>0.359545</td>\n",
       "      <td>0.309816</td>\n",
       "    </tr>\n",
       "    <tr>\n",
       "      <th>199997</th>\n",
       "      <td>0.128315</td>\n",
       "      <td>0.033505</td>\n",
       "      <td>0.045355</td>\n",
       "      <td>0.066400</td>\n",
       "      <td>0.045305</td>\n",
       "      <td>0.057385</td>\n",
       "      <td>0.050690</td>\n",
       "      <td>0.045770</td>\n",
       "      <td>0.059091</td>\n",
       "    </tr>\n",
       "    <tr>\n",
       "      <th>199998</th>\n",
       "      <td>0.801670</td>\n",
       "      <td>0.616760</td>\n",
       "      <td>0.751965</td>\n",
       "      <td>0.750130</td>\n",
       "      <td>0.761250</td>\n",
       "      <td>0.751150</td>\n",
       "      <td>0.744315</td>\n",
       "      <td>0.749940</td>\n",
       "      <td>0.740897</td>\n",
       "    </tr>\n",
       "    <tr>\n",
       "      <th>199999</th>\n",
       "      <td>0.235155</td>\n",
       "      <td>0.556040</td>\n",
       "      <td>0.709600</td>\n",
       "      <td>0.737930</td>\n",
       "      <td>0.670620</td>\n",
       "      <td>0.634435</td>\n",
       "      <td>0.638570</td>\n",
       "      <td>0.560230</td>\n",
       "      <td>0.592822</td>\n",
       "    </tr>\n",
       "  </tbody>\n",
       "</table>\n",
       "</div>"
      ],
      "text/plain": [
       "        nn_0.9163_oof  nn_aug_0.92303_12_oof  \\\n",
       "199995       0.616195               0.716770   \n",
       "199996       0.417985               0.381620   \n",
       "199997       0.128315               0.033505   \n",
       "199998       0.801670               0.616760   \n",
       "199999       0.235155               0.556040   \n",
       "\n",
       "        9199_xgboost_unique_10x_upsample_0104062006  \\\n",
       "199995                                     0.690135   \n",
       "199996                                     0.274565   \n",
       "199997                                     0.045355   \n",
       "199998                                     0.751965   \n",
       "199999                                     0.709600   \n",
       "\n",
       "        9202_separate_feature_models_threshold_0.84_10fold_04042353  \\\n",
       "199995                                           0.660345             \n",
       "199996                                           0.230530             \n",
       "199997                                           0.066400             \n",
       "199998                                           0.750130             \n",
       "199999                                           0.737930             \n",
       "\n",
       "        9211_catboost_unique_with_10x_upsample_3103172847  \\\n",
       "199995                                           0.701005   \n",
       "199996                                           0.303695   \n",
       "199997                                           0.045305   \n",
       "199998                                           0.761250   \n",
       "199999                                           0.670620   \n",
       "\n",
       "        9212_catboost_unique_10x_upsample_5_balancer_0204172825  \\\n",
       "199995                                           0.668475         \n",
       "199996                                           0.236135         \n",
       "199997                                           0.057385         \n",
       "199998                                           0.751150         \n",
       "199999                                           0.634435         \n",
       "\n",
       "        9215_catboost_unique_10x_upsample_3_balancer_0204145755  \\\n",
       "199995                                           0.700525         \n",
       "199996                                           0.274450         \n",
       "199997                                           0.050690         \n",
       "199998                                           0.744315         \n",
       "199999                                           0.638570         \n",
       "\n",
       "        9222_catboost_multiplied_counter_10_folds_0504034846       avg  \n",
       "199995                                           0.763175     0.689578  \n",
       "199996                                           0.359545     0.309816  \n",
       "199997                                           0.045770     0.059091  \n",
       "199998                                           0.749940     0.740897  \n",
       "199999                                           0.560230     0.592822  "
      ]
     },
     "execution_count": 73,
     "metadata": {},
     "output_type": "execute_result"
    }
   ],
   "source": [
    "scaler = StandardScaler() #MinMaxScaler StandardScaler\n",
    "\n",
    "dt = pd.DataFrame()\n",
    "\n",
    "df = pd.read_csv(intput_path+'train.csv.zip')\n",
    "df = df[[\"target\"]]\n",
    "\n",
    "cols = []\n",
    "for file in tqdm(npys):\n",
    "    train = np.load(output_path+file).reshape(-1, 1)\n",
    "    col = file[:-4]\n",
    "    cols.append(col)\n",
    "    df[col] = scaler.fit_transform(train)\n",
    "    df[col] = df[col].rank()/len(df)\n",
    "    \n",
    "    test = np.load(output_path+file.replace(\"_oof.npy\",\"_test.npy\")).reshape(-1, 1)\n",
    "    dt[col] = [x[0] for x in scaler.transform(test)]\n",
    "    dt[col] = dt[col].rank()/len(dt)\n",
    "    \n",
    "for file in tqdm(csvs):\n",
    "    train = pd.read_csv(path+file)[\"target\"].values.reshape(-1, 1)\n",
    "    col = file[:-4]\n",
    "    cols.append(col)\n",
    "    df[col] = scaler.fit_transform(train)\n",
    "    df[col] = df[col].rank()/len(df)\n",
    "    \n",
    "    test = pd.read_csv((path+file).replace(\"/train/\",\"/test/\"))[\"target\"].values.reshape(-1, 1)\n",
    "    dt[col] = [x[0] for x in scaler.transform(test)]\n",
    "    dt[col] = dt[col].rank()/len(dt)\n",
    "    \n",
    "df[\"avg\"] = df[cols].mean(axis=1)\n",
    "dt[\"avg\"] = dt[cols].mean(axis=1)\n",
    "\n",
    "dt.tail()"
   ]
  },
  {
   "cell_type": "code",
   "execution_count": 74,
   "metadata": {},
   "outputs": [
    {
     "data": {
      "text/html": [
       "<div>\n",
       "<style scoped>\n",
       "    .dataframe tbody tr th:only-of-type {\n",
       "        vertical-align: middle;\n",
       "    }\n",
       "\n",
       "    .dataframe tbody tr th {\n",
       "        vertical-align: top;\n",
       "    }\n",
       "\n",
       "    .dataframe thead th {\n",
       "        text-align: right;\n",
       "    }\n",
       "</style>\n",
       "<table border=\"1\" class=\"dataframe\">\n",
       "  <thead>\n",
       "    <tr style=\"text-align: right;\">\n",
       "      <th></th>\n",
       "      <th>nn_0.9163_oof</th>\n",
       "      <th>nn_aug_0.92303_12_oof</th>\n",
       "      <th>9199_xgboost_unique_10x_upsample_0104062006</th>\n",
       "      <th>9202_separate_feature_models_threshold_0.84_10fold_04042353</th>\n",
       "      <th>9211_catboost_unique_with_10x_upsample_3103172847</th>\n",
       "      <th>9212_catboost_unique_10x_upsample_5_balancer_0204172825</th>\n",
       "      <th>9215_catboost_unique_10x_upsample_3_balancer_0204145755</th>\n",
       "      <th>9222_catboost_multiplied_counter_10_folds_0504034846</th>\n",
       "    </tr>\n",
       "  </thead>\n",
       "  <tbody>\n",
       "    <tr>\n",
       "      <th>nn_0.9163_oof</th>\n",
       "      <td>1.000000</td>\n",
       "      <td>0.931969</td>\n",
       "      <td>0.923001</td>\n",
       "      <td>0.910637</td>\n",
       "      <td>0.930344</td>\n",
       "      <td>0.931595</td>\n",
       "      <td>0.930972</td>\n",
       "      <td>0.939375</td>\n",
       "    </tr>\n",
       "    <tr>\n",
       "      <th>nn_aug_0.92303_12_oof</th>\n",
       "      <td>0.931969</td>\n",
       "      <td>1.000000</td>\n",
       "      <td>0.954640</td>\n",
       "      <td>0.952477</td>\n",
       "      <td>0.963757</td>\n",
       "      <td>0.963243</td>\n",
       "      <td>0.963965</td>\n",
       "      <td>0.956561</td>\n",
       "    </tr>\n",
       "    <tr>\n",
       "      <th>9199_xgboost_unique_10x_upsample_0104062006</th>\n",
       "      <td>0.923001</td>\n",
       "      <td>0.954640</td>\n",
       "      <td>1.000000</td>\n",
       "      <td>0.961893</td>\n",
       "      <td>0.989996</td>\n",
       "      <td>0.987275</td>\n",
       "      <td>0.986992</td>\n",
       "      <td>0.967840</td>\n",
       "    </tr>\n",
       "    <tr>\n",
       "      <th>9202_separate_feature_models_threshold_0.84_10fold_04042353</th>\n",
       "      <td>0.910637</td>\n",
       "      <td>0.952477</td>\n",
       "      <td>0.961893</td>\n",
       "      <td>1.000000</td>\n",
       "      <td>0.966833</td>\n",
       "      <td>0.969253</td>\n",
       "      <td>0.969835</td>\n",
       "      <td>0.957670</td>\n",
       "    </tr>\n",
       "    <tr>\n",
       "      <th>9211_catboost_unique_with_10x_upsample_3103172847</th>\n",
       "      <td>0.930344</td>\n",
       "      <td>0.963757</td>\n",
       "      <td>0.989996</td>\n",
       "      <td>0.966833</td>\n",
       "      <td>1.000000</td>\n",
       "      <td>0.991028</td>\n",
       "      <td>0.991632</td>\n",
       "      <td>0.972158</td>\n",
       "    </tr>\n",
       "    <tr>\n",
       "      <th>9212_catboost_unique_10x_upsample_5_balancer_0204172825</th>\n",
       "      <td>0.931595</td>\n",
       "      <td>0.963243</td>\n",
       "      <td>0.987275</td>\n",
       "      <td>0.969253</td>\n",
       "      <td>0.991028</td>\n",
       "      <td>1.000000</td>\n",
       "      <td>0.995922</td>\n",
       "      <td>0.974884</td>\n",
       "    </tr>\n",
       "    <tr>\n",
       "      <th>9215_catboost_unique_10x_upsample_3_balancer_0204145755</th>\n",
       "      <td>0.930972</td>\n",
       "      <td>0.963965</td>\n",
       "      <td>0.986992</td>\n",
       "      <td>0.969835</td>\n",
       "      <td>0.991632</td>\n",
       "      <td>0.995922</td>\n",
       "      <td>1.000000</td>\n",
       "      <td>0.976787</td>\n",
       "    </tr>\n",
       "    <tr>\n",
       "      <th>9222_catboost_multiplied_counter_10_folds_0504034846</th>\n",
       "      <td>0.939375</td>\n",
       "      <td>0.956561</td>\n",
       "      <td>0.967840</td>\n",
       "      <td>0.957670</td>\n",
       "      <td>0.972158</td>\n",
       "      <td>0.974884</td>\n",
       "      <td>0.976787</td>\n",
       "      <td>1.000000</td>\n",
       "    </tr>\n",
       "  </tbody>\n",
       "</table>\n",
       "</div>"
      ],
      "text/plain": [
       "                                                    nn_0.9163_oof  \\\n",
       "nn_0.9163_oof                                            1.000000   \n",
       "nn_aug_0.92303_12_oof                                    0.931969   \n",
       "9199_xgboost_unique_10x_upsample_0104062006              0.923001   \n",
       "9202_separate_feature_models_threshold_0.84_10f...       0.910637   \n",
       "9211_catboost_unique_with_10x_upsample_3103172847        0.930344   \n",
       "9212_catboost_unique_10x_upsample_5_balancer_02...       0.931595   \n",
       "9215_catboost_unique_10x_upsample_3_balancer_02...       0.930972   \n",
       "9222_catboost_multiplied_counter_10_folds_05040...       0.939375   \n",
       "\n",
       "                                                    nn_aug_0.92303_12_oof  \\\n",
       "nn_0.9163_oof                                                    0.931969   \n",
       "nn_aug_0.92303_12_oof                                            1.000000   \n",
       "9199_xgboost_unique_10x_upsample_0104062006                      0.954640   \n",
       "9202_separate_feature_models_threshold_0.84_10f...               0.952477   \n",
       "9211_catboost_unique_with_10x_upsample_3103172847                0.963757   \n",
       "9212_catboost_unique_10x_upsample_5_balancer_02...               0.963243   \n",
       "9215_catboost_unique_10x_upsample_3_balancer_02...               0.963965   \n",
       "9222_catboost_multiplied_counter_10_folds_05040...               0.956561   \n",
       "\n",
       "                                                    9199_xgboost_unique_10x_upsample_0104062006  \\\n",
       "nn_0.9163_oof                                                                          0.923001   \n",
       "nn_aug_0.92303_12_oof                                                                  0.954640   \n",
       "9199_xgboost_unique_10x_upsample_0104062006                                            1.000000   \n",
       "9202_separate_feature_models_threshold_0.84_10f...                                     0.961893   \n",
       "9211_catboost_unique_with_10x_upsample_3103172847                                      0.989996   \n",
       "9212_catboost_unique_10x_upsample_5_balancer_02...                                     0.987275   \n",
       "9215_catboost_unique_10x_upsample_3_balancer_02...                                     0.986992   \n",
       "9222_catboost_multiplied_counter_10_folds_05040...                                     0.967840   \n",
       "\n",
       "                                                    9202_separate_feature_models_threshold_0.84_10fold_04042353  \\\n",
       "nn_0.9163_oof                                                                                0.910637             \n",
       "nn_aug_0.92303_12_oof                                                                        0.952477             \n",
       "9199_xgboost_unique_10x_upsample_0104062006                                                  0.961893             \n",
       "9202_separate_feature_models_threshold_0.84_10f...                                           1.000000             \n",
       "9211_catboost_unique_with_10x_upsample_3103172847                                            0.966833             \n",
       "9212_catboost_unique_10x_upsample_5_balancer_02...                                           0.969253             \n",
       "9215_catboost_unique_10x_upsample_3_balancer_02...                                           0.969835             \n",
       "9222_catboost_multiplied_counter_10_folds_05040...                                           0.957670             \n",
       "\n",
       "                                                    9211_catboost_unique_with_10x_upsample_3103172847  \\\n",
       "nn_0.9163_oof                                                                                0.930344   \n",
       "nn_aug_0.92303_12_oof                                                                        0.963757   \n",
       "9199_xgboost_unique_10x_upsample_0104062006                                                  0.989996   \n",
       "9202_separate_feature_models_threshold_0.84_10f...                                           0.966833   \n",
       "9211_catboost_unique_with_10x_upsample_3103172847                                            1.000000   \n",
       "9212_catboost_unique_10x_upsample_5_balancer_02...                                           0.991028   \n",
       "9215_catboost_unique_10x_upsample_3_balancer_02...                                           0.991632   \n",
       "9222_catboost_multiplied_counter_10_folds_05040...                                           0.972158   \n",
       "\n",
       "                                                    9212_catboost_unique_10x_upsample_5_balancer_0204172825  \\\n",
       "nn_0.9163_oof                                                                                0.931595         \n",
       "nn_aug_0.92303_12_oof                                                                        0.963243         \n",
       "9199_xgboost_unique_10x_upsample_0104062006                                                  0.987275         \n",
       "9202_separate_feature_models_threshold_0.84_10f...                                           0.969253         \n",
       "9211_catboost_unique_with_10x_upsample_3103172847                                            0.991028         \n",
       "9212_catboost_unique_10x_upsample_5_balancer_02...                                           1.000000         \n",
       "9215_catboost_unique_10x_upsample_3_balancer_02...                                           0.995922         \n",
       "9222_catboost_multiplied_counter_10_folds_05040...                                           0.974884         \n",
       "\n",
       "                                                    9215_catboost_unique_10x_upsample_3_balancer_0204145755  \\\n",
       "nn_0.9163_oof                                                                                0.930972         \n",
       "nn_aug_0.92303_12_oof                                                                        0.963965         \n",
       "9199_xgboost_unique_10x_upsample_0104062006                                                  0.986992         \n",
       "9202_separate_feature_models_threshold_0.84_10f...                                           0.969835         \n",
       "9211_catboost_unique_with_10x_upsample_3103172847                                            0.991632         \n",
       "9212_catboost_unique_10x_upsample_5_balancer_02...                                           0.995922         \n",
       "9215_catboost_unique_10x_upsample_3_balancer_02...                                           1.000000         \n",
       "9222_catboost_multiplied_counter_10_folds_05040...                                           0.976787         \n",
       "\n",
       "                                                    9222_catboost_multiplied_counter_10_folds_0504034846  \n",
       "nn_0.9163_oof                                                                                0.939375     \n",
       "nn_aug_0.92303_12_oof                                                                        0.956561     \n",
       "9199_xgboost_unique_10x_upsample_0104062006                                                  0.967840     \n",
       "9202_separate_feature_models_threshold_0.84_10f...                                           0.957670     \n",
       "9211_catboost_unique_with_10x_upsample_3103172847                                            0.972158     \n",
       "9212_catboost_unique_10x_upsample_5_balancer_02...                                           0.974884     \n",
       "9215_catboost_unique_10x_upsample_3_balancer_02...                                           0.976787     \n",
       "9222_catboost_multiplied_counter_10_folds_05040...                                           1.000000     "
      ]
     },
     "execution_count": 74,
     "metadata": {},
     "output_type": "execute_result"
    }
   ],
   "source": [
    "df[cols].corr()"
   ]
  },
  {
   "cell_type": "markdown",
   "metadata": {},
   "source": [
    "## AVG"
   ]
  },
  {
   "cell_type": "code",
   "execution_count": 75,
   "metadata": {},
   "outputs": [
    {
     "data": {
      "text/plain": [
       "0.9241042831770332"
      ]
     },
     "execution_count": 75,
     "metadata": {},
     "output_type": "execute_result"
    }
   ],
   "source": [
    "roc_auc_score(df.target, df.avg)\n",
    "# 0.9238835527418467"
   ]
  },
  {
   "cell_type": "markdown",
   "metadata": {},
   "source": [
    "## LogReg"
   ]
  },
  {
   "cell_type": "code",
   "execution_count": 123,
   "metadata": {},
   "outputs": [
    {
     "name": "stdout",
     "output_type": "stream",
     "text": [
      "0 ROC AUC: 0.9237\n",
      "1 ROC AUC: 0.9232\n",
      "2 ROC AUC: 0.9299\n",
      "3 ROC AUC: 0.9257\n",
      "4 ROC AUC: 0.9225\n",
      "\n",
      "ROC AUC: 0.92496\n",
      "CPU times: user 3.72 s, sys: 12.8 s, total: 16.5 s\n",
      "Wall time: 13.2 s\n"
     ]
    }
   ],
   "source": [
    "%%time\n",
    "\n",
    "skf = StratifiedKFold(n_splits=5, shuffle=True, random_state=42)\n",
    "\n",
    "df[\"clf\"] = 0\n",
    "dt[\"clf\"] = 0\n",
    "\n",
    "i = -1\n",
    "for train_index, valid_index in skf.split(df[cols], df.target):\n",
    "    i+=1\n",
    "    \n",
    "    X_train = df.loc[train_index, cols]\n",
    "    X_valid = df.loc[valid_index, cols]\n",
    "\n",
    "    y_train = df.loc[train_index, \"target\"]\n",
    "    y_valid = df.loc[valid_index, \"target\"]\n",
    "    \n",
    "    clf = LogisticRegression(C=1,\n",
    "                             solver=\"newton-cg\", \n",
    "                             penalty=\"l2\", \n",
    "                             n_jobs=-1, \n",
    "                             max_iter=100).fit(X_train, y_train) \n",
    "    \n",
    "    y_pred = clf.predict_proba(X_valid)[:,1] \n",
    "    df.loc[valid_index, \"clf\"] = y_pred\n",
    "    print(i, \"ROC AUC:\", round(roc_auc_score(y_valid, y_pred), 4))\n",
    "    \n",
    "    dt[\"clf\"] += clf.predict_proba(dt[cols])[:,1] / skf.n_splits\n",
    "    \n",
    "print(\"\\nROC AUC:\", round(roc_auc_score(df.target, df[\"clf\"]), 5))"
   ]
  },
  {
   "cell_type": "code",
   "execution_count": null,
   "metadata": {},
   "outputs": [],
   "source": [
    "# 0 ROC AUC: 0.9237\n",
    "# 1 ROC AUC: 0.9232\n",
    "# 2 ROC AUC: 0.9299\n",
    "# 3 ROC AUC: 0.9257\n",
    "# 4 ROC AUC: 0.9225\n",
    "\n",
    "# ROC AUC: 0.925\n",
    "# CPU times: user 3.74 s, sys: 13.5 s, total: 17.2 s\n",
    "# Wall time: 14.8 s"
   ]
  },
  {
   "cell_type": "markdown",
   "metadata": {},
   "source": [
    "## SVM"
   ]
  },
  {
   "cell_type": "code",
   "execution_count": null,
   "metadata": {},
   "outputs": [],
   "source": [
    "# %%time\n",
    "\n",
    "# skf = StratifiedKFold(n_splits=5, shuffle=True, random_state=42)\n",
    "\n",
    "# df[\"svc\"] = 0\n",
    "# dt[\"svc\"] = 0\n",
    "\n",
    "# i = -1\n",
    "# for train_index, valid_index in skf.split(df[cols], df.target):\n",
    "#     i+=1\n",
    "    \n",
    "#     X_train = df.loc[train_index, cols]\n",
    "#     X_valid = df.loc[valid_index, cols]\n",
    "\n",
    "#     y_train = df.loc[train_index, \"target\"]\n",
    "#     y_valid = df.loc[valid_index, \"target\"]\n",
    "    \n",
    "#     svc = SVC(C=10, probability=True).fit(X_train, y_train)  \n",
    "    \n",
    "#     y_pred = svc.predict_proba(X_valid)[:,1] \n",
    "#     df.loc[valid_index, \"svc\"] = y_pred\n",
    "#     print(i, \"ROC AUC:\", round(roc_auc_score(y_valid, y_pred), 4))\n",
    "    \n",
    "#     dt[\"svc\"] += svc.predict_proba(dt[cols].values) / skf.n_splits\n",
    "    \n",
    "# print(\"\\nROC AUC:\", round(roc_auc_score(df.target, df[\"svc\"]), 4))"
   ]
  },
  {
   "cell_type": "markdown",
   "metadata": {},
   "source": [
    "## NN"
   ]
  },
  {
   "cell_type": "code",
   "execution_count": 91,
   "metadata": {},
   "outputs": [
    {
     "name": "stdout",
     "output_type": "stream",
     "text": [
      "0 ROC AUC: 0.9232\n",
      "1 ROC AUC: 0.9232\n",
      "2 ROC AUC: 0.9293\n",
      "3 ROC AUC: 0.9247\n",
      "4 ROC AUC: 0.9216\n",
      "\n",
      "ROC AUC: 0.9243\n",
      "CPU times: user 7h 3min 54s, sys: 7min 15s, total: 7h 11min 9s\n",
      "Wall time: 31min 9s\n"
     ]
    }
   ],
   "source": [
    "%%time\n",
    "\n",
    "skf = StratifiedKFold(n_splits=5, shuffle=True, random_state=42)\n",
    "\n",
    "df[\"nei\"] = 0\n",
    "dt[\"nei\"] = 0\n",
    "\n",
    "i = -1\n",
    "for train_index, valid_index in skf.split(df[cols], df.target):\n",
    "    i+=1\n",
    "    \n",
    "    X_train = df.loc[train_index, cols]\n",
    "    X_valid = df.loc[valid_index, cols]\n",
    "\n",
    "    y_train = df.loc[train_index, \"target\"]\n",
    "    y_valid = df.loc[valid_index, \"target\"]\n",
    "    \n",
    "    nei = KNeighborsClassifier(n_neighbors=5000, p=1, n_jobs=-1).fit(X_train, y_train) \n",
    "    \n",
    "    y_pred = nei.predict_proba(X_valid)[:,1] \n",
    "    df.loc[valid_index, \"nei\"] = y_pred\n",
    "    print(i, \"ROC AUC:\", round(roc_auc_score(y_valid, y_pred), 4))\n",
    "    \n",
    "    dt[\"nei\"] += nei.predict_proba(dt[cols])[:,1] / skf.n_splits\n",
    "    \n",
    "print(\"\\nROC AUC:\", round(roc_auc_score(df.target, df[\"nei\"]), 4))"
   ]
  },
  {
   "cell_type": "code",
   "execution_count": null,
   "metadata": {},
   "outputs": [],
   "source": [
    "# 0 ROC AUC: 0.9232\n",
    "# 1 ROC AUC: 0.9232\n",
    "# 2 ROC AUC: 0.9293\n",
    "# 3 ROC AUC: 0.9247\n",
    "# 4 ROC AUC: 0.9216\n",
    "\n",
    "# ROC AUC: 0.9243\n",
    "# CPU times: user 7h 3min 54s, sys: 7min 15s, total: 7h 11min 9s\n",
    "# Wall time: 31min 9s"
   ]
  },
  {
   "cell_type": "markdown",
   "metadata": {},
   "source": [
    "## LGBM HPO"
   ]
  },
  {
   "cell_type": "code",
   "execution_count": 98,
   "metadata": {},
   "outputs": [
    {
     "name": "stdout",
     "output_type": "stream",
     "text": [
      "{'num_leaves': 11, 'min_sum_hessian_in_leaf': 2, 'min_data_in_leaf': 10, 'max_bin': 1023, 'learning_rate': 0.012667, 'lambda_l2': 1.2, 'lambda_l1': 2.3, 'feature_fraction': 0.632, 'bagging_freq': 2, 'bagging_fraction': 0.73}\n",
      "0 1 CV score: 0.9238  \n",
      "0 2 CV score: 0.9235  \n",
      "0 3 CV score: 0.9298  \n",
      "0 4 CV score: 0.9253  \n",
      "0 5 CV score: 0.9222  \n",
      "\n",
      "oof CV score: 0.9247  \n",
      "best: ({'num_leaves': 11, 'min_sum_hessian_in_leaf': 2, 'min_data_in_leaf': 10, 'max_bin': 1023, 'learning_rate': 0.012667, 'lambda_l2': 1.2, 'lambda_l1': 2.3, 'feature_fraction': 0.632, 'bagging_freq': 2, 'bagging_fraction': 0.73}, 0.9247)\n",
      "{'num_leaves': 11, 'min_sum_hessian_in_leaf': 3, 'min_data_in_leaf': 70, 'max_bin': 2047, 'learning_rate': 0.018, 'lambda_l2': 1.2, 'lambda_l1': 1.8, 'feature_fraction': 0.724, 'bagging_freq': 3, 'bagging_fraction': 0.55}\n"
     ]
    },
    {
     "ename": "KeyboardInterrupt",
     "evalue": "",
     "output_type": "error",
     "traceback": [
      "\u001b[0;31m---------------------------------------------------------------------------\u001b[0m",
      "\u001b[0;31mKeyboardInterrupt\u001b[0m                         Traceback (most recent call last)",
      "\u001b[0;32m<ipython-input-98-3395b29de454>\u001b[0m in \u001b[0;36m<module>\u001b[0;34m\u001b[0m\n\u001b[1;32m     58\u001b[0m                           \u001b[0mvalid_names\u001b[0m\u001b[0;34m=\u001b[0m\u001b[0;34m[\u001b[0m\u001b[0;34m'train'\u001b[0m\u001b[0;34m,\u001b[0m \u001b[0;34m'valid'\u001b[0m\u001b[0;34m]\u001b[0m\u001b[0;34m,\u001b[0m\u001b[0;34m\u001b[0m\u001b[0;34m\u001b[0m\u001b[0m\n\u001b[1;32m     59\u001b[0m                           \u001b[0mearly_stopping_rounds\u001b[0m\u001b[0;34m=\u001b[0m\u001b[0mearly_stop_rounds\u001b[0m\u001b[0;34m,\u001b[0m\u001b[0;34m\u001b[0m\u001b[0;34m\u001b[0m\u001b[0m\n\u001b[0;32m---> 60\u001b[0;31m                           verbose_eval=0)\n\u001b[0m\u001b[1;32m     61\u001b[0m \u001b[0;34m\u001b[0m\u001b[0m\n\u001b[1;32m     62\u001b[0m         \u001b[0moof\u001b[0m\u001b[0;34m[\u001b[0m\u001b[0mvalid_index\u001b[0m\u001b[0;34m]\u001b[0m \u001b[0;34m=\u001b[0m \u001b[0mmodel\u001b[0m\u001b[0;34m.\u001b[0m\u001b[0mpredict\u001b[0m\u001b[0;34m(\u001b[0m\u001b[0mX_valid\u001b[0m\u001b[0;34m)\u001b[0m\u001b[0;34m\u001b[0m\u001b[0;34m\u001b[0m\u001b[0m\n",
      "\u001b[0;32m~/anaconda3/lib/python3.7/site-packages/lightgbm/engine.py\u001b[0m in \u001b[0;36mtrain\u001b[0;34m(params, train_set, num_boost_round, valid_sets, valid_names, fobj, feval, init_model, feature_name, categorical_feature, early_stopping_rounds, evals_result, verbose_eval, learning_rates, keep_training_booster, callbacks)\u001b[0m\n\u001b[1;32m    214\u001b[0m                                     evaluation_result_list=None))\n\u001b[1;32m    215\u001b[0m \u001b[0;34m\u001b[0m\u001b[0m\n\u001b[0;32m--> 216\u001b[0;31m         \u001b[0mbooster\u001b[0m\u001b[0;34m.\u001b[0m\u001b[0mupdate\u001b[0m\u001b[0;34m(\u001b[0m\u001b[0mfobj\u001b[0m\u001b[0;34m=\u001b[0m\u001b[0mfobj\u001b[0m\u001b[0;34m)\u001b[0m\u001b[0;34m\u001b[0m\u001b[0;34m\u001b[0m\u001b[0m\n\u001b[0m\u001b[1;32m    217\u001b[0m \u001b[0;34m\u001b[0m\u001b[0m\n\u001b[1;32m    218\u001b[0m         \u001b[0mevaluation_result_list\u001b[0m \u001b[0;34m=\u001b[0m \u001b[0;34m[\u001b[0m\u001b[0;34m]\u001b[0m\u001b[0;34m\u001b[0m\u001b[0;34m\u001b[0m\u001b[0m\n",
      "\u001b[0;32m~/anaconda3/lib/python3.7/site-packages/lightgbm/basic.py\u001b[0m in \u001b[0;36mupdate\u001b[0;34m(self, train_set, fobj)\u001b[0m\n\u001b[1;32m   1758\u001b[0m             _safe_call(_LIB.LGBM_BoosterUpdateOneIter(\n\u001b[1;32m   1759\u001b[0m                 \u001b[0mself\u001b[0m\u001b[0;34m.\u001b[0m\u001b[0mhandle\u001b[0m\u001b[0;34m,\u001b[0m\u001b[0;34m\u001b[0m\u001b[0;34m\u001b[0m\u001b[0m\n\u001b[0;32m-> 1760\u001b[0;31m                 ctypes.byref(is_finished)))\n\u001b[0m\u001b[1;32m   1761\u001b[0m             \u001b[0mself\u001b[0m\u001b[0;34m.\u001b[0m\u001b[0m__is_predicted_cur_iter\u001b[0m \u001b[0;34m=\u001b[0m \u001b[0;34m[\u001b[0m\u001b[0;32mFalse\u001b[0m \u001b[0;32mfor\u001b[0m \u001b[0m_\u001b[0m \u001b[0;32min\u001b[0m \u001b[0mrange_\u001b[0m\u001b[0;34m(\u001b[0m\u001b[0mself\u001b[0m\u001b[0;34m.\u001b[0m\u001b[0m__num_dataset\u001b[0m\u001b[0;34m)\u001b[0m\u001b[0;34m]\u001b[0m\u001b[0;34m\u001b[0m\u001b[0;34m\u001b[0m\u001b[0m\n\u001b[1;32m   1762\u001b[0m             \u001b[0;32mreturn\u001b[0m \u001b[0mis_finished\u001b[0m\u001b[0;34m.\u001b[0m\u001b[0mvalue\u001b[0m \u001b[0;34m==\u001b[0m \u001b[0;36m1\u001b[0m\u001b[0;34m\u001b[0m\u001b[0;34m\u001b[0m\u001b[0m\n",
      "\u001b[0;31mKeyboardInterrupt\u001b[0m: "
     ]
    }
   ],
   "source": [
    "rounds = 10000\n",
    "early_stop_rounds = 500\n",
    "\n",
    "param_grid = {'num_leaves': list(range(10, 30)),\n",
    "              'max_bin': [511, 1023, 2047],\n",
    "              'min_data_in_leaf': list(range(10, 100, 10)),\n",
    "              'min_sum_hessian_in_leaf': list(range(0, 10)),\n",
    "              'learning_rate': np.linspace(0.01, 0.03, 31),\n",
    "              \"bagging_freq\": list(range(1, 5)),\n",
    "              \"bagging_fraction\": np.linspace(0.5, 1.0, 51),\n",
    "              'feature_fraction': np.linspace(0.08, 1.0, 11),\n",
    "              'lambda_l1': np.linspace(0, 3, 61),\n",
    "              'lambda_l2': np.linspace(0, 3, 61)}\n",
    "\n",
    "param_static = {'boosting_type': 'gbrt',\n",
    "                'objective': 'binary',\n",
    "                'tree_learner': 'serial',\n",
    "                'metric': 'auc',\n",
    "                'bagging_seed': 42,\n",
    "                'seed': 42,\n",
    "                'max_depth': -1,\n",
    "                'verbose': -1,\n",
    "                'n_jobs': -1}\n",
    "\n",
    "param_list = list(ParameterSampler(param_grid, n_iter=100))\n",
    "\n",
    "rounded_list = [dict((k, round(v, 6)) for (k, v) in d.items())\n",
    "                for d in param_list]\n",
    "\n",
    "results = []\n",
    "for i, params in enumerate(rounded_list):\n",
    "    print(params)\n",
    "\n",
    "    for key in param_static:\n",
    "        params[key] = param_static[key]\n",
    "\n",
    "    skf = StratifiedKFold(n_splits=5, shuffle=True, random_state=42)\n",
    "    oof = np.zeros(len(df))\n",
    "    res = 0\n",
    "\n",
    "    j = 0\n",
    "    for train_index, valid_index in skf.split(df[cols], df.target):\n",
    "        j += 1\n",
    "\n",
    "        X_train = df.loc[train_index, cols]\n",
    "        X_valid = df.loc[valid_index, cols]\n",
    "\n",
    "        y_train = df.loc[train_index, \"target\"]\n",
    "        y_valid = df.loc[valid_index, \"target\"]\n",
    "\n",
    "        d_train = lgb.Dataset(X_train, y_train, feature_name=cols)\n",
    "        d_valid = lgb.Dataset(X_valid, y_valid, feature_name=cols)\n",
    "\n",
    "        model = lgb.train(params,\n",
    "                          d_train,\n",
    "                          num_boost_round=rounds,\n",
    "                          valid_sets=[d_train, d_valid],\n",
    "                          valid_names=['train', 'valid'],\n",
    "                          early_stopping_rounds=early_stop_rounds,\n",
    "                          verbose_eval=0)\n",
    "\n",
    "        oof[valid_index] = model.predict(X_valid)\n",
    "        auc = round(roc_auc_score(y_valid, oof[valid_index]), 4)\n",
    "        print(i, j, \"CV score: {:<8.4f}\".format(auc))\n",
    "    \n",
    "    res = round(roc_auc_score(df.target, oof), 4)\n",
    "    print(\"\\noof CV score: {:<8.4f}\".format(res))\n",
    "    \n",
    "    results.append((params, res))\n",
    "    for key in param_static:\n",
    "        del params[key]\n",
    "\n",
    "    sorted_results = sorted(results, key=lambda x: x[1], reverse=True)\n",
    "    print(\"best:\", sorted_results[0])\n",
    "    \n",
    "# 0 ROC AUC: 0.9236\n",
    "# 1 ROC AUC: 0.9234\n",
    "# 2 ROC AUC: 0.9299\n",
    "# 3 ROC AUC: 0.9252\n",
    "# 4 ROC AUC: 0.9222\n",
    "\n",
    "# ROC AUC: 0.9246"
   ]
  },
  {
   "cell_type": "markdown",
   "metadata": {},
   "source": [
    "## LGBM"
   ]
  },
  {
   "cell_type": "code",
   "execution_count": 100,
   "metadata": {},
   "outputs": [
    {
     "name": "stdout",
     "output_type": "stream",
     "text": [
      "0 ROC AUC: 0.9238\n",
      "1 ROC AUC: 0.9235\n",
      "2 ROC AUC: 0.9298\n",
      "3 ROC AUC: 0.9253\n",
      "4 ROC AUC: 0.9222\n",
      "\n",
      "ROC AUC: 0.9247\n",
      "CPU times: user 14min 21s, sys: 2.17 s, total: 14min 23s\n",
      "Wall time: 31.8 s\n"
     ]
    }
   ],
   "source": [
    "%%time\n",
    "\n",
    "rounds = 1000\n",
    "early_stop_rounds = 100\n",
    "\n",
    "\n",
    "params = {'num_leaves': 11, \n",
    "             'min_sum_hessian_in_leaf': 2, \n",
    "             'min_data_in_leaf': 10, \n",
    "             'max_bin': 1023, \n",
    "             'learning_rate': 0.012667, \n",
    "             'lambda_l2': 1.2, \n",
    "             'lambda_l1': 2.3, \n",
    "             'feature_fraction': 0.632, \n",
    "             'bagging_freq': 2, \n",
    "             'bagging_fraction': 0.73,\n",
    "             'boosting_type': 'gbrt',\n",
    "            'objective': 'binary',\n",
    "            'tree_learner': 'serial',\n",
    "            'metric': 'auc',\n",
    "            'bagging_seed': 42,\n",
    "            'seed': 42,\n",
    "            'max_depth': -1,\n",
    "            'verbose': -1,\n",
    "            'n_jobs': -1}\n",
    "\n",
    "skf = StratifiedKFold(n_splits=5, shuffle=True, random_state=42)\n",
    "\n",
    "df[\"lgb\"] = 0\n",
    "dt[\"lgb\"] = 0\n",
    "\n",
    "i = -1\n",
    "for train_index, valid_index in skf.split(df[cols], df.target):\n",
    "    i+=1\n",
    "    \n",
    "    X_train = df.loc[train_index, cols]\n",
    "    X_valid = df.loc[valid_index, cols]\n",
    "\n",
    "    y_train = df.loc[train_index, \"target\"]\n",
    "    y_valid = df.loc[valid_index, \"target\"]\n",
    "    \n",
    "    d_train = lgb.Dataset(X_train, y_train, feature_name=cols)\n",
    "    d_valid = lgb.Dataset(X_valid, y_valid, feature_name=cols)    \n",
    "    \n",
    "    model = lgb.train(params,\n",
    "                      d_train,\n",
    "                      num_boost_round=rounds,\n",
    "                      valid_sets=[d_train, d_valid],\n",
    "                      valid_names=['train','valid'],\n",
    "                      early_stopping_rounds=early_stop_rounds,\n",
    "                      verbose_eval=0) \n",
    "\n",
    "    y_pred = model.predict(X_valid)\n",
    "    df.loc[valid_index, \"lgb\"] = y_pred\n",
    "    print(i, \"ROC AUC:\", round(roc_auc_score(y_valid, y_pred), 4))\n",
    "    \n",
    "    dt[\"lgb\"] += model.predict(dt[cols]) / skf.n_splits\n",
    "    \n",
    "print(\"\\nROC AUC:\", round(roc_auc_score(df.target, df[\"lgb\"]), 4))"
   ]
  },
  {
   "cell_type": "code",
   "execution_count": null,
   "metadata": {},
   "outputs": [],
   "source": [
    "# 0 ROC AUC: 0.9236\n",
    "# 1 ROC AUC: 0.9234\n",
    "# 2 ROC AUC: 0.9299\n",
    "# 3 ROC AUC: 0.9252\n",
    "# 4 ROC AUC: 0.9222\n",
    "\n",
    "# ROC AUC: 0.9246\n",
    "# CPU times: user 7min 39s, sys: 1.63 s, total: 7min 40s\n",
    "# Wall time: 17.2 s"
   ]
  },
  {
   "cell_type": "code",
   "execution_count": 101,
   "metadata": {},
   "outputs": [
    {
     "data": {
      "text/plain": [
       "Text(0.5,1,'Light GBM Feature Importance')"
      ]
     },
     "execution_count": 101,
     "metadata": {},
     "output_type": "execute_result"
    },
    {
     "data": {
      "image/png": "[encoded data removed]",
      "text/plain": [
       "<Figure size 1080x360 with 1 Axes>"
      ]
     },
     "metadata": {
      "needs_background": "light"
     },
     "output_type": "display_data"
    }
   ],
   "source": [
    "import matplotlib.pyplot as plt\n",
    "%matplotlib inline\n",
    "\n",
    "fig, ax = plt.subplots(figsize=(15, 5))\n",
    "lgb.plot_importance(model, max_num_features=len(cols), ax=ax)\n",
    "plt.title(\"Light GBM Feature Importance\")"
   ]
  },
  {
   "cell_type": "code",
   "execution_count": 124,
   "metadata": {},
   "outputs": [
    {
     "name": "stdout",
     "output_type": "stream",
     "text": [
      "\n",
      "ROC AUC: 0.92496\n"
     ]
    }
   ],
   "source": [
    "w = [1,1,100]\n",
    "\n",
    "df[\"blend\"] = (w[0]*df[\"lgb\"]+w[1]*df[\"nei\"]+w[2]*df[\"clf\"])/sum(w)\n",
    "dt[\"blend\"] = (w[0]*dt[\"lgb\"]+w[1]*dt[\"nei\"]+w[2]*dt[\"clf\"])/sum(w)\n",
    "\n",
    "print(\"\\nROC AUC:\", round(roc_auc_score(df.target, df[\"blend\"]), 5))"
   ]
  },
  {
   "cell_type": "code",
   "execution_count": 125,
   "metadata": {},
   "outputs": [
    {
     "data": {
      "text/html": [
       "<div>\n",
       "<style scoped>\n",
       "    .dataframe tbody tr th:only-of-type {\n",
       "        vertical-align: middle;\n",
       "    }\n",
       "\n",
       "    .dataframe tbody tr th {\n",
       "        vertical-align: top;\n",
       "    }\n",
       "\n",
       "    .dataframe thead th {\n",
       "        text-align: right;\n",
       "    }\n",
       "</style>\n",
       "<table border=\"1\" class=\"dataframe\">\n",
       "  <thead>\n",
       "    <tr style=\"text-align: right;\">\n",
       "      <th></th>\n",
       "      <th>ID_code</th>\n",
       "      <th>target</th>\n",
       "    </tr>\n",
       "  </thead>\n",
       "  <tbody>\n",
       "    <tr>\n",
       "      <th>0</th>\n",
       "      <td>test_0</td>\n",
       "      <td>0.145423</td>\n",
       "    </tr>\n",
       "    <tr>\n",
       "      <th>1</th>\n",
       "      <td>test_1</td>\n",
       "      <td>0.351417</td>\n",
       "    </tr>\n",
       "    <tr>\n",
       "      <th>2</th>\n",
       "      <td>test_2</td>\n",
       "      <td>0.324999</td>\n",
       "    </tr>\n",
       "    <tr>\n",
       "      <th>3</th>\n",
       "      <td>test_3</td>\n",
       "      <td>0.163510</td>\n",
       "    </tr>\n",
       "    <tr>\n",
       "      <th>4</th>\n",
       "      <td>test_4</td>\n",
       "      <td>0.051385</td>\n",
       "    </tr>\n",
       "  </tbody>\n",
       "</table>\n",
       "</div>"
      ],
      "text/plain": [
       "  ID_code    target\n",
       "0  test_0  0.145423\n",
       "1  test_1  0.351417\n",
       "2  test_2  0.324999\n",
       "3  test_3  0.163510\n",
       "4  test_4  0.051385"
      ]
     },
     "execution_count": 125,
     "metadata": {},
     "output_type": "execute_result"
    }
   ],
   "source": [
    "sub = pd.read_csv(intput_path+'sample_submission.csv.zip')\n",
    "sub[\"target\"] = dt[\"blend\"]\n",
    "sub.head()"
   ]
  },
  {
   "cell_type": "code",
   "execution_count": 126,
   "metadata": {},
   "outputs": [],
   "source": [
    "sub.to_csv(output_path + \"best_blend_8.csv\", index=False)"
   ]
  },
  {
   "cell_type": "code",
   "execution_count": 127,
   "metadata": {},
   "outputs": [
    {
     "name": "stdout",
     "output_type": "stream",
     "text": [
      " best_auc_nn.pkl\t  cat_0.91617_test.npy\t nn_aug_0.92303_12_oof.npy\r\n",
      " best_blend_10.csv\t  data_1_cont.pkl\t nn_aug_0.92303_12_test.npy\r\n",
      " best_blend_13.csv\t  lgb_0.91145_oof.npy\t predictions\r\n",
      " best_blend_7.csv\t  lgb_0.91145_test.npy\t train_1.bin\r\n",
      " best_blend_8.csv\t  lgb_0.91305_oof.npy\t train_1.feather\r\n",
      " best_blend.csv\t\t  lgb_0.91305_test.npy\t train_1.npy\r\n",
      "'!cat_0.91558_oof.npy'\t  models\t\t valid_1.bin\r\n",
      "'!cat_0.91558_test.npy'   nn_0.9163_oof.npy\t xgb_0.91221_oof.npy\r\n",
      " cat_0.91617_oof.npy\t  nn_0.9163_test.npy\t xgb_0.91221_test.npy\r\n"
     ]
    }
   ],
   "source": [
    "!ls ../output/"
   ]
  },
  {
   "cell_type": "code",
   "execution_count": 128,
   "metadata": {},
   "outputs": [
    {
     "name": "stdout",
     "output_type": "stream",
     "text": [
      "100%|███████████████████████████████████████| 6.17M/6.17M [00:06<00:00, 998kB/s]\n",
      "Successfully submitted to Santander Customer Transaction Prediction"
     ]
    }
   ],
   "source": [
    "!kaggle competitions submit -c santander-customer-transaction-prediction -f ../output/best_blend_8.csv -m \"0.92496 reg\""
   ]
  }
 ],
 "metadata": {
  "kernelspec": {
   "display_name": "Python 3",
   "language": "python",
   "name": "python3"
  },
  "language_info": {
   "codemirror_mode": {
    "name": "ipython",
    "version": 3
   },
   "file_extension": ".py",
   "mimetype": "text/x-python",
   "name": "python",
   "nbconvert_exporter": "python",
   "pygments_lexer": "ipython3",
   "version": "3.7.1"
  }
 },
 "nbformat": 4,
 "nbformat_minor": 2
}
