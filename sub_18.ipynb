{
 "cells": [
  {
   "cell_type": "code",
   "execution_count": 1,
   "metadata": {},
   "outputs": [],
   "source": [
    "%matplotlib inline\n",
    "\n",
    "import pandas as pd\n",
    "import numpy as np\n",
    "import catboost as cb\n",
    "import warnings\n",
    "\n",
    "from tqdm import tqdm_notebook as tqdm\n",
    "from matplotlib import pyplot as plt\n",
    "\n",
    "from sklearn.preprocessing import scale\n",
    "from sklearn.metrics import roc_auc_score\n",
    "from sklearn.model_selection import StratifiedKFold\n",
    "from sklearn.model_selection import train_test_split\n",
    "\n",
    "from bayes_opt import BayesianOptimization\n",
    "from bayes_opt.observer import JSONLogger\n",
    "from bayes_opt.event import Events\n",
    "from bayes_opt.util import load_logs\n",
    "\n",
    "input_path = \"../input/\"\n",
    "output_path = \"../output/\""
   ]
  },
  {
   "cell_type": "code",
   "execution_count": 2,
   "metadata": {},
   "outputs": [],
   "source": [
    "train_df = pd.read_csv(input_path+'train.csv.zip')\n",
    "\n",
    "label = train_df.target\n",
    "train = train_df.drop(['ID_code','target'],axis=1)\n",
    "\n",
    "test = pd.read_csv(input_path+'test.csv.zip')\n",
    "test = test.drop(['ID_code'],axis=1)\n",
    "\n",
    "test_filtered = pd.read_pickle(input_path+'test_filtered.pkl')\n",
    "test_filtered = test_filtered.loc[:,train.columns]\n",
    "\n",
    "train_test = pd.concat([train,test_filtered]).reset_index(drop=True)"
   ]
  },
  {
   "cell_type": "code",
   "execution_count": 3,
   "metadata": {},
   "outputs": [
    {
     "data": {
      "application/vnd.jupyter.widget-view+json": {
       "model_id": "790160097adf453cb94fc069a8a95098",
       "version_major": 2,
       "version_minor": 0
      },
      "text/plain": [
       "HBox(children=(IntProgress(value=0, max=200), HTML(value='')))"
      ]
     },
     "metadata": {},
     "output_type": "display_data"
    },
    {
     "name": "stdout",
     "output_type": "stream",
     "text": [
      "\n"
     ]
    }
   ],
   "source": [
    "vcs_train = {}\n",
    "vcs_test = {}\n",
    "vcs_train_test = {}\n",
    "\n",
    "for col in tqdm(train.columns):\n",
    "    vcs_train_test[col] = train_test.loc[:,col].value_counts()/300000"
   ]
  },
  {
   "cell_type": "code",
   "execution_count": 8,
   "metadata": {},
   "outputs": [
    {
     "data": {
      "application/vnd.jupyter.widget-view+json": {
       "model_id": "2a3aec910e6d4301bcf930ec77afd1ca",
       "version_major": 2,
       "version_minor": 0
      },
      "text/plain": [
       "HBox(children=(IntProgress(value=0, max=200), HTML(value='')))"
      ]
     },
     "metadata": {},
     "output_type": "display_data"
    },
    {
     "name": "stdout",
     "output_type": "stream",
     "text": [
      "\n"
     ]
    },
    {
     "data": {
      "application/vnd.jupyter.widget-view+json": {
       "model_id": "11fa46a376db44f086974e6871a819a6",
       "version_major": 2,
       "version_minor": 0
      },
      "text/plain": [
       "HBox(children=(IntProgress(value=0, max=200), HTML(value='')))"
      ]
     },
     "metadata": {},
     "output_type": "display_data"
    },
    {
     "name": "stdout",
     "output_type": "stream",
     "text": [
      "\n"
     ]
    }
   ],
   "source": [
    "def feature_generator(df):\n",
    "    for i in tqdm(range(200)):\n",
    "        col = \"var_\"+str(i)\n",
    "        vtraintest = vcs_train_test[col]\n",
    "        t = vtraintest[df[col]].fillna(0).values\n",
    "\n",
    "        df[col+'_train_test_sum_vcs'] = t\n",
    "        df[col+'_train_test_sum_vcs_prod'] = df[col]*t\n",
    "#         df[col+'_train_test_sum_vcs_sign'] = (df[col+\"_train_test_sum_vcs_prod\"]>0).astype(int)\n",
    "        df[col+'_train_test_sum_vcs_div'] = df[col]/t\n",
    "        df[col+'_train_test_sum_vcs_minus'] = scale(df[col]) - scale(t)\n",
    "        df[col+'_train_test_sum_vcs_plus'] = scale(df[col]) + scale(t)\n",
    "#         df[col+'_train_test_sum_vcs_min'] = np.min(scale(df[col]), scale(t))\n",
    "#         df[col+'_train_test_sum_vcs_max'] = np.max(scale(df[col]), scale(t))\n",
    "#         df[col+'_train_test_sum_vcs_pow'] = np.power(abs(scale(df[col])), abs(scale(t)))\n",
    "#         df[col+'_train_test_sum_vcs_log'] = np.log(abs(scale(df[col])), abs(scale(t)))\n",
    "        \n",
    "feature_generator(train)\n",
    "feature_generator(test)"
   ]
  },
  {
   "cell_type": "code",
   "execution_count": 9,
   "metadata": {},
   "outputs": [
    {
     "name": "stdout",
     "output_type": "stream",
     "text": [
      "Fold 0\n",
      "0:\tlearn: 0.5729836\ttest: 0.5731469\tbest: 0.5731469 (0)\ttotal: 21.1ms\tremaining: 7m 2s\n",
      "500:\tlearn: 0.8694990\ttest: 0.8570953\tbest: 0.8570953 (500)\ttotal: 7.68s\tremaining: 4m 58s\n",
      "1000:\tlearn: 0.8972214\ttest: 0.8820407\tbest: 0.8820407 (1000)\ttotal: 15.2s\tremaining: 4m 47s\n",
      "1500:\tlearn: 0.9104061\ttest: 0.8927946\tbest: 0.8927946 (1500)\ttotal: 22.7s\tremaining: 4m 39s\n",
      "2000:\tlearn: 0.9188046\ttest: 0.8988245\tbest: 0.8988245 (2000)\ttotal: 30.4s\tremaining: 4m 33s\n",
      "2500:\tlearn: 0.9248747\ttest: 0.9026383\tbest: 0.9026383 (2500)\ttotal: 38s\tremaining: 4m 25s\n",
      "3000:\tlearn: 0.9297163\ttest: 0.9048852\tbest: 0.9048852 (3000)\ttotal: 45.4s\tremaining: 4m 17s\n",
      "3500:\tlearn: 0.9337325\ttest: 0.9065982\tbest: 0.9065982 (3500)\ttotal: 52.7s\tremaining: 4m 8s\n",
      "4000:\tlearn: 0.9372898\ttest: 0.9080109\tbest: 0.9080109 (4000)\ttotal: 1m\tremaining: 4m\n",
      "4500:\tlearn: 0.9404464\ttest: 0.9091371\tbest: 0.9091371 (4500)\ttotal: 1m 7s\tremaining: 3m 52s\n",
      "5000:\tlearn: 0.9433343\ttest: 0.9100944\tbest: 0.9100944 (5000)\ttotal: 1m 15s\tremaining: 3m 45s\n",
      "5500:\tlearn: 0.9460818\ttest: 0.9108576\tbest: 0.9108576 (5500)\ttotal: 1m 22s\tremaining: 3m 37s\n",
      "6000:\tlearn: 0.9487125\ttest: 0.9113941\tbest: 0.9113941 (6000)\ttotal: 1m 29s\tremaining: 3m 29s\n",
      "6500:\tlearn: 0.9511808\ttest: 0.9118423\tbest: 0.9118423 (6500)\ttotal: 1m 37s\tremaining: 3m 21s\n",
      "7000:\tlearn: 0.9536288\ttest: 0.9123133\tbest: 0.9123152 (6993)\ttotal: 1m 44s\tremaining: 3m 13s\n",
      "7500:\tlearn: 0.9558304\ttest: 0.9127856\tbest: 0.9127856 (7500)\ttotal: 1m 51s\tremaining: 3m 5s\n",
      "8000:\tlearn: 0.9579624\ttest: 0.9131566\tbest: 0.9131566 (8000)\ttotal: 1m 58s\tremaining: 2m 58s\n",
      "8500:\tlearn: 0.9600853\ttest: 0.9133662\tbest: 0.9133874 (8446)\ttotal: 2m 6s\tremaining: 2m 50s\n",
      "9000:\tlearn: 0.9619642\ttest: 0.9136013\tbest: 0.9136039 (8997)\ttotal: 2m 13s\tremaining: 2m 43s\n",
      "9500:\tlearn: 0.9638194\ttest: 0.9137860\tbest: 0.9137940 (9444)\ttotal: 2m 21s\tremaining: 2m 36s\n",
      "10000:\tlearn: 0.9655714\ttest: 0.9140220\tbest: 0.9140260 (9993)\ttotal: 2m 28s\tremaining: 2m 28s\n",
      "10500:\tlearn: 0.9671910\ttest: 0.9141569\tbest: 0.9141792 (10448)\ttotal: 2m 36s\tremaining: 2m 21s\n",
      "11000:\tlearn: 0.9688359\ttest: 0.9142905\tbest: 0.9143142 (10955)\ttotal: 2m 43s\tremaining: 2m 13s\n",
      "11500:\tlearn: 0.9704089\ttest: 0.9144204\tbest: 0.9144243 (11496)\ttotal: 2m 51s\tremaining: 2m 6s\n",
      "12000:\tlearn: 0.9719318\ttest: 0.9144978\tbest: 0.9144978 (12000)\ttotal: 2m 58s\tremaining: 1m 58s\n",
      "12500:\tlearn: 0.9733586\ttest: 0.9145594\tbest: 0.9145742 (12478)\ttotal: 3m 5s\tremaining: 1m 51s\n",
      "13000:\tlearn: 0.9747210\ttest: 0.9147234\tbest: 0.9147243 (12996)\ttotal: 3m 13s\tremaining: 1m 44s\n",
      "13500:\tlearn: 0.9760137\ttest: 0.9148860\tbest: 0.9148860 (13500)\ttotal: 3m 21s\tremaining: 1m 36s\n",
      "14000:\tlearn: 0.9772963\ttest: 0.9149374\tbest: 0.9149374 (14000)\ttotal: 3m 28s\tremaining: 1m 29s\n",
      "bestTest = 0.9149762988\n",
      "bestIteration = 14068\n",
      "Shrink model to first 14069 iterations.\n",
      "CV score: 0.51661 \n"
     ]
    }
   ],
   "source": [
    "params = {\n",
    "    'task_type': 'GPU',\n",
    "    'iterations': 20000,\n",
    "    'loss_function': 'Logloss',\n",
    "    'eval_metric':'AUC',\n",
    "    'random_seed': 4242,\n",
    "    \"learning_rate\": 0.03,\n",
    "    \"l2_leaf_reg\": 3.0,\n",
    "    'bagging_temperature': 1,\n",
    "    'random_strength': 1,\n",
    "    'depth': 4,\n",
    "    'border_count':128}\n",
    "\n",
    "folds = StratifiedKFold(n_splits=5, shuffle=False, random_state=99999)\n",
    "oof = np.zeros(len(train))\n",
    "predictions = np.zeros(len(test))\n",
    "gains = []\n",
    "\n",
    "for fold_, (trn_idx, val_idx) in enumerate(folds.split(train.values, label.values)):\n",
    "    print(\"Fold {}\".format(fold_))\n",
    "    trn_data = cb.Pool(train.iloc[trn_idx], label=label.iloc[trn_idx])\n",
    "    val_data = cb.Pool(train.iloc[val_idx], label=label.iloc[val_idx])\n",
    "    clf = cb.CatBoostClassifier(**params)\n",
    "    clf.fit(trn_data, eval_set = val_data,use_best_model = True,verbose=500,early_stopping_rounds=300)\n",
    "    oof[val_idx] = clf.predict_proba(train.iloc[val_idx])[:,1]\n",
    "    predictions += clf.predict_proba(test)[:,1] / folds.n_splits\n",
    "    gains.append(clf.get_feature_importance(trn_data))\n",
    "    break\n",
    "\n",
    "print(\"CV score: {:<8.5f}\".format(roc_auc_score(label, oof)))"
   ]
  },
  {
   "cell_type": "code",
   "execution_count": null,
   "metadata": {},
   "outputs": [],
   "source": [
    "pd.options.display.max_rows = 200"
   ]
  },
  {
   "cell_type": "code",
   "execution_count": null,
   "metadata": {},
   "outputs": [],
   "source": [
    "pd.Series(np.array(gains).sum(0)/10,index=train.columns).sort_values(ascending=False).head(200)"
   ]
  },
  {
   "cell_type": "code",
   "execution_count": null,
   "metadata": {},
   "outputs": [],
   "source": [
    "t = pd.DataFrame(clf.get_feature_importance(trn_data,'Interaction'))\n",
    "t[0] = train.columns.values[t[0]]\n",
    "t[1] = train.columns.values[t[1]]"
   ]
  },
  {
   "cell_type": "code",
   "execution_count": null,
   "metadata": {},
   "outputs": [],
   "source": [
    "t.sort_values(2, ascending=False).head(100)"
   ]
  },
  {
   "cell_type": "code",
   "execution_count": null,
   "metadata": {},
   "outputs": [],
   "source": [
    "predictions"
   ]
  },
  {
   "cell_type": "code",
   "execution_count": null,
   "metadata": {},
   "outputs": [],
   "source": [
    "tst_sub = pd.read_csv(intput_path+'sample_submission.csv.zip')"
   ]
  },
  {
   "cell_type": "code",
   "execution_count": null,
   "metadata": {},
   "outputs": [],
   "source": [
    "tst_sub['target'] = predictions"
   ]
  },
  {
   "cell_type": "code",
   "execution_count": null,
   "metadata": {},
   "outputs": [],
   "source": [
    "tst_sub.to_csv(output_path+'sub18.csv', index=False)"
   ]
  },
  {
   "cell_type": "code",
   "execution_count": null,
   "metadata": {},
   "outputs": [],
   "source": [
    "pd.options.display.max_rows = 1000\n",
    "pd.Series(clf.feature_importances_,index=clf.feature_names_).sort_values(ascending=False)"
   ]
  }
 ],
 "metadata": {
  "kernelspec": {
   "display_name": "Python 3",
   "language": "python",
   "name": "python3"
  },
  "language_info": {
   "codemirror_mode": {
    "name": "ipython",
    "version": 3
   },
   "file_extension": ".py",
   "mimetype": "text/x-python",
   "name": "python",
   "nbconvert_exporter": "python",
   "pygments_lexer": "ipython3",
   "version": "3.7.1"
  }
 },
 "nbformat": 4,
 "nbformat_minor": 2
}
